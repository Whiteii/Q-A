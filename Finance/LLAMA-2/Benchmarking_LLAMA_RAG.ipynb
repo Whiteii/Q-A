{
 "cells": [
  {
   "cell_type": "code",
   "execution_count": 3,
   "id": "3ca0a4dc",
   "metadata": {},
   "outputs": [],
   "source": [
    "from langchain.document_loaders import PyPDFDirectoryLoader\n",
    "from langchain.text_splitter import RecursiveCharacterTextSplitter\n",
    "from langchain.embeddings import HuggingFaceEmbeddings\n",
    "from langchain.vectorstores import Pinecone\n",
    "import pinecone\n",
    "from transformers import AutoTokenizer, AutoModelForCausalLM\n",
    "from transformers import pipeline\n",
    "import os\n",
    "import sys\n",
    "from langchain import HuggingFacePipeline, PromptTemplate\n",
    "from langchain.chains import RetrievalQA\n",
    "import tiktoken\n",
    "import PyPDF2\n",
    "from langchain.document_loaders import UnstructuredPDFLoader, OnlinePDFLoader, PyPDFLoader\n",
    "from langchain.vectorstores import Chroma\n",
    "import json\n",
    "import datetime\n",
    "from torch import cuda\n",
    "import torch\n",
    "import pandas as pd"
   ]
  },
  {
   "cell_type": "code",
   "execution_count": 59,
   "id": "f23c0ef6",
   "metadata": {},
   "outputs": [],
   "source": [
    "import requests\n",
    "import os\n",
    "\n",
    "\n",
    "import requests\n",
    "import base64\n",
    "from urllib.parse import urlparse, parse_qs\n",
    "\n",
    "def extract_pdf_url(url):\n",
    "    \"\"\"\n",
    "    Extracts the actual PDF URL from the given URL.\n",
    "    Decodes it from base64 if necessary.\n",
    "    \"\"\"\n",
    "    if url.lower().endswith('.pdf'):\n",
    "        return url  # Direct PDF URL\n",
    "    else:\n",
    "        parsed_url = urlparse(url)\n",
    "        query_params = parse_qs(parsed_url.query)\n",
    "        pdf_target = query_params.get('pdfTarget', [None])[0]\n",
    "\n",
    "        if pdf_target:\n",
    "            pdf_url = base64.b64decode(pdf_target).decode('utf-8')\n",
    "            return pdf_url\n",
    "        else:\n",
    "            raise ValueError(\"No valid PDF URL found in the provided URL\")\n",
    "\n",
    "def download_pdf(url, save_path):\n",
    "    \"\"\"\n",
    "    Downloads a PDF from a given URL.\n",
    "    \"\"\"\n",
    "    try:\n",
    "        pdf_url = extract_pdf_url(url)\n",
    "        response = requests.get(pdf_url, stream=True)\n",
    "        response.raise_for_status()  # Ensure the request was successful\n",
    "\n",
    "        with open(save_path, 'wb') as file:\n",
    "            for chunk in response.iter_content(chunk_size=8192):\n",
    "                file.write(chunk)\n",
    "\n",
    "        print(f\"Downloaded PDF from: {pdf_url} to {save_path}\")\n",
    "    except Exception as e:\n",
    "        print(f\"Error downloading PDF: {e}\")\n",
    "\n",
    "\n",
    "# Example usage\n",
    "\n",
    "\n",
    "\n",
    "def download_all_pdfs(dataset):\n",
    "    \"\"\"\n",
    "    Download all PDFs in the given dataset.\n",
    "    \"\"\"\n",
    "    for row in dataset:\n",
    "        doc_name = row['doc_name']\n",
    "        doc_link = row['doc_link']\n",
    "        if doc_link:  # Check if the link is not empty\n",
    "            # Create a directory for downloads if it doesn't exist\n",
    "            download_dir = \"downloads\"\n",
    "            os.makedirs(download_dir, exist_ok=True)\n",
    "            # Define the path where the PDF will be saved\n",
    "            save_path = os.path.join(download_dir, f\"{doc_name}.pdf\")\n",
    "            download_pdf(doc_link, save_path)\n",
    "\n",
    "# Call the function to download all PDFs\n",
    "#download_all_pdfs(dataset['train'])  # Assuming you want to download from the 'train' split\n"
   ]
  },
  {
   "cell_type": "code",
   "execution_count": 5,
   "id": "ecd778c8",
   "metadata": {},
   "outputs": [
    {
     "data": {
      "application/vnd.jupyter.widget-view+json": {
       "model_id": "3802a9e717604e10accbcdd022f4cc11",
       "version_major": 2,
       "version_minor": 0
      },
      "text/plain": [
       "VBox(children=(HTML(value='<center> <img\\nsrc=https://huggingface.co/front/assets/huggingface_logo-noborder.sv…"
      ]
     },
     "metadata": {},
     "output_type": "display_data"
    }
   ],
   "source": [
    "from huggingface_hub import notebook_login\n",
    "notebook_login()"
   ]
  },
  {
   "cell_type": "code",
   "execution_count": 19,
   "id": "8cbb5b83",
   "metadata": {},
   "outputs": [],
   "source": [
    "\n",
    "def create_knowledge_hub(path_to_10k, doc_name):\n",
    "    \"\"\"From a 10-K document, create or use an existing Chroma DB knowledge hub.\n",
    "\n",
    "    Args:\n",
    "        path_to_10k: Relative path to the 10-K hosted locally on the user's computer\n",
    "        doc_name: The name of the document, used to identify the vector database\n",
    "\n",
    "    Returns:\n",
    "        vectordb: The vector database with the information from the 10-K\n",
    "        db_directory: The path to the vector database\n",
    "    \"\"\"\n",
    "\n",
    "    # Normalize doc_name to create a valid directory name\n",
    "    normalized_doc_name = doc_name.replace(' ', '_').replace('/', '_')\n",
    "    \n",
    "    # Define the base directory for vector databases\n",
    "    base_dir = \"vector_db\"\n",
    "    # Ensure the base directory exists\n",
    "    if not os.path.exists(base_dir):\n",
    "        os.makedirs(base_dir)\n",
    "\n",
    "    # Define the full path to the specific database directory\n",
    "    db_directory = os.path.join(base_dir, \"db_\" + normalized_doc_name)\n",
    "    \n",
    "    embed_model_id = 'sentence-transformers/all-MiniLM-L6-v2'\n",
    "\n",
    "    device = f'cuda:{cuda.current_device()}' if cuda.is_available() else 'cpu'\n",
    "\n",
    "    embed_model = HuggingFaceEmbeddings(\n",
    "        model_name=embed_model_id,\n",
    "        model_kwargs={'device': device},\n",
    "        encode_kwargs={'device': device, 'batch_size': 32}\n",
    "    )\n",
    "\n",
    "    # Check if the database directory already exists\n",
    "    if os.path.exists(db_directory):\n",
    "        print(f\"Using existing database for document: {doc_name}\")\n",
    "        vectordb = Chroma(persist_directory=db_directory, embedding_function=embed_model)\n",
    "    else:\n",
    "        print(f\"Creating new database for document: {doc_name}\")\n",
    "\n",
    "        loader = PyPDFLoader(path_to_10k)\n",
    "        documents = loader.load()\n",
    "\n",
    "        splitter = RecursiveCharacterTextSplitter(\n",
    "            chunk_size=1300, \n",
    "            chunk_overlap=5,\n",
    "            separators=[\"\\n\\n\", \"\\n\", \" \", \"\"],\n",
    "            length_function=len)\n",
    "        texts = splitter.split_documents(documents)\n",
    "\n",
    "        vectordb = Chroma.from_documents(\n",
    "            documents=texts, \n",
    "            embedding=embed_model,\n",
    "            persist_directory=db_directory\n",
    "        )\n",
    "        vectordb.persist()\n",
    "\n",
    "    return vectordb, db_directory\n"
   ]
  },
  {
   "cell_type": "code",
   "execution_count": 20,
   "id": "0a51f140",
   "metadata": {},
   "outputs": [],
   "source": [
    "def query_model(path_to_10k, doc_name, question):\n",
    "    \"\"\"Asks LLAMA a question based off a local 10-K document.\n",
    "\n",
    "    Args:\n",
    "        path_to_10k: Relative path to the 10-K hosted locally on the user's computer\n",
    "        question: Question to ask the model\n",
    "\n",
    "    Returns:\n",
    "        answer: The answer given by the fine-tuned GPT model\n",
    "    \"\"\"\n",
    "\n",
    "    db, db_dir = create_knowledge_hub(path_to_10k, doc_name)\n",
    "\n",
    "    source1 = db.similarity_search(question, k = 2)[0].page_content\n",
    "    source2 = db.similarity_search(question, k = 2)[1].page_content\n",
    "\n",
    "    ## EDIT THIS PART\n",
    "    model = AutoModelForCausalLM.from_pretrained(\"meta-llama/Llama-2-7b-chat-hf\",\n",
    "                                             device_map='auto',\n",
    "                                             torch_dtype=torch.float32,\n",
    "                                             use_auth_token=True,\n",
    "                                             load_in_8bit=False\n",
    "                                          )\n",
    "    \n",
    "    tokenizer = AutoTokenizer.from_pretrained(\"meta-llama/Llama-2-7b-chat-hf\", use_auth_token=True)\n",
    "    \n",
    "    retriever = db.as_retriever(search_kwargs={\"k\": 2})\n",
    "\n",
    "    pipe = pipeline(\"text-generation\",\n",
    "                model=model,\n",
    "                tokenizer= tokenizer,\n",
    "                torch_dtype=torch.float,\n",
    "                device_map=\"auto\",\n",
    "                max_new_tokens = 512,\n",
    "                do_sample=True,\n",
    "                top_k=30,\n",
    "                num_return_sequences=1,\n",
    "                eos_token_id=tokenizer.eos_token_id\n",
    "                )\n",
    "    \n",
    "    llm=HuggingFacePipeline(pipeline=pipe, model_kwargs={'temperature':0.1})\n",
    "    \n",
    "    qa_chain = RetrievalQA.from_chain_type(llm=llm,\n",
    "                                  chain_type=\"stuff\",\n",
    "                                  retriever=retriever,\n",
    "                                  return_source_documents=True)\n",
    "    ## END OF EDITING\n",
    "\n",
    "    #delete_chroma_db(db_dir)\n",
    "    \n",
    "    answer = qa_chain(question)['result']\n",
    "    \n",
    "\n",
    "    return answer"
   ]
  },
  {
   "cell_type": "code",
   "execution_count": 21,
   "id": "523d29e4",
   "metadata": {},
   "outputs": [],
   "source": [
    "import sklearn\n",
    "from sklearn.feature_extraction.text import TfidfVectorizer\n",
    "from sklearn.metrics.pairwise import cosine_similarity\n",
    "\n",
    "def compare_strings(text1, text2):\n",
    "    vectorizer = TfidfVectorizer()\n",
    "    vectors = vectorizer.fit_transform([text1, text2])\n",
    "    # Calculate the cosine similarity between the vectors\n",
    "    similarity = cosine_similarity(vectors)\n",
    "    return similarity[0][1]"
   ]
  },
  {
   "cell_type": "code",
   "execution_count": 22,
   "id": "6cbd4db0",
   "metadata": {},
   "outputs": [],
   "source": [
    "import nltk\n",
    "from nltk.util import ngrams\n",
    "from nltk.metrics import edit_distance\n",
    "\n",
    "def compute_rouge_l(candidate, reference):\n",
    "    m, n = len(candidate), len(reference)\n",
    "    print(m,n)\n",
    "    dp_table = [[0] * (n + 1) for _ in range(m + 1)]\n",
    "    \n",
    "    for i in range(1, m + 1):\n",
    "        for j in range(1, n + 1):\n",
    "            if candidate[i - 1] == reference[j - 1]:\n",
    "                dp_table[i][j] = dp_table[i - 1][j - 1] + 1\n",
    "            else:\n",
    "                dp_table[i][j] = max(dp_table[i - 1][j], dp_table[i][j - 1])\n",
    "    \n",
    "    return dp_table[m][n] / n"
   ]
  },
  {
   "cell_type": "code",
   "execution_count": 23,
   "id": "8eb11034",
   "metadata": {},
   "outputs": [],
   "source": [
    "#path_to_csv_dataset = \"./financebench/financebench_sample_150.csv\" \n",
    "path_to_csv_dataset = \"train.csv\""
   ]
  },
  {
   "cell_type": "code",
   "execution_count": 60,
   "id": "c25669fd",
   "metadata": {},
   "outputs": [],
   "source": [
    "import pandas as pd\n",
    "import os\n",
    "\n",
    "def run_eval():\n",
    "    # Initialize lists to store values for each column\n",
    "    answers = []\n",
    "    model_answers = []\n",
    "    cosine_similarities = []\n",
    "    rouge_l_scores = []\n",
    "\n",
    "    dataset = load_dataset(\"PatronusAI/financebench\")\n",
    "    df = dataset['train'].to_pandas()[:50]\n",
    "\n",
    "    for index, row in df.iterrows():\n",
    "        question = row['question']\n",
    "        answer = row['answer']\n",
    "        doc_name = row['doc_name']\n",
    "        doc_link = row['doc_link']\n",
    "        \n",
    "        download_dir = \"documents\"\n",
    "        os.makedirs(download_dir, exist_ok=True)\n",
    "        save_path = os.path.join(download_dir, f\"{doc_name}.pdf\")\n",
    "        \n",
    "        download_pdf(doc_link, save_path)\n",
    "        \n",
    "        model_answer = query_model(save_path, doc_name, question)\n",
    "        \n",
    "        if isinstance(model_answer, dict):\n",
    "            model_answer = model_answer.get(\"key_for_answer\", \"\")\n",
    "\n",
    "        sim = compare_strings(answer, model_answer)\n",
    "        rouge_l = compute_rouge_l(model_answer, answer)\n",
    "\n",
    "        # Store the values in their respective lists\n",
    "        answers.append(answer)\n",
    "        model_answers.append(model_answer)\n",
    "        cosine_similarities.append(sim)\n",
    "        rouge_l_scores.append(rouge_l)\n",
    "        \n",
    "        print(\"Refrence Answer: \", answer) \n",
    "        print(\"model Answer: \", model_answer)\n",
    "        print(\"Cosine Similarity is: \", sim )\n",
    "        print(\"Rouge-L score is: \", rouge_l_scores)\n",
    "\n",
    "\n",
    "        # Delete the document downloaded if necessary\n",
    "        # delete_document(filename)\n",
    "\n",
    "    # Create a DataFrame from the lists\n",
    "    result_df = pd.DataFrame({\n",
    "        'answer': answers,\n",
    "        'model_answer': model_answers,\n",
    "        'cosine_similarity': cosine_similarities,\n",
    "        'rouge_l_score': rouge_l_scores\n",
    "    })\n",
    "\n",
    "    # Optionally, return the average similarity along with the DataFrame\n",
    "    #average_similarity = sum(cosine_similarities) / len(cosine_similarities)\n",
    "    \n",
    "    return result_df\n",
    "\n",
    "# Ensure to define or import the functions download_pdf, query_model, and compare_strings as they are used in this script.\n"
   ]
  },
  {
   "cell_type": "code",
   "execution_count": 58,
   "id": "6d02d0ab",
   "metadata": {},
   "outputs": [
    {
     "name": "stdout",
     "output_type": "stream",
     "text": [
      "Downloaded PDF from: https://www.adobe.com/content/dam/cc/en/investor-relations/pdfs/ADBE-10K-FY15-FINAL.pdf to documents\\ADOBE_2015_10K.pdf\n",
      "Creating new database for document: ADOBE_2015_10K\n"
     ]
    },
    {
     "name": "stderr",
     "output_type": "stream",
     "text": [
      "C:\\Users\\spurt\\.conda\\envs\\Anote\\lib\\site-packages\\transformers\\models\\auto\\auto_factory.py:472: FutureWarning: The `use_auth_token` argument is deprecated and will be removed in v5 of Transformers. Please use `token` instead.\n",
      "  warnings.warn(\n"
     ]
    },
    {
     "data": {
      "application/vnd.jupyter.widget-view+json": {
       "model_id": "31fe8354f04447b4bb1bf3c69dcbb583",
       "version_major": 2,
       "version_minor": 0
      },
      "text/plain": [
       "Loading checkpoint shards:   0%|          | 0/2 [00:00<?, ?it/s]"
      ]
     },
     "metadata": {},
     "output_type": "display_data"
    },
    {
     "name": "stderr",
     "output_type": "stream",
     "text": [
      "C:\\Users\\spurt\\.conda\\envs\\Anote\\lib\\site-packages\\transformers\\models\\auto\\tokenization_auto.py:690: FutureWarning: The `use_auth_token` argument is deprecated and will be removed in v5 of Transformers. Please use `token` instead.\n",
      "  warnings.warn(\n"
     ]
    },
    {
     "name": "stdout",
     "output_type": "stream",
     "text": [
      "526 4\n",
      "Refrence Answer:  0.66\n",
      "model Answer:   I don't know the answer to your question because the information provided in the given statements does not contain enough data to calculate the FY2015 operating cash flow ratio for Adobe. The statements only provide information on the company's cash and cash equivalents, net increase (decrease) in cash and cash equivalents, and cash flows from operating activities, but do not provide the total current liabilities required to calculate the operating cash flow ratio. Therefore, I cannot provide an answer to your question.\n",
      "Cosine Similarity is:  0.0\n",
      "Rouge-L score is:  [0.5]\n"
     ]
    }
   ],
   "source": [
    "results = run_eval()\n"
   ]
  },
  {
   "cell_type": "code",
   "execution_count": 61,
   "id": "9ec54945",
   "metadata": {
    "scrolled": false
   },
   "outputs": [
    {
     "name": "stdout",
     "output_type": "stream",
     "text": [
      "Downloaded PDF from: https://investors.3m.com/financials/sec-filings/content/0001558370-19-000470/0001558370-19-000470.pdf to documents\\3M_2018_10K.pdf\n",
      "Using existing database for document: 3M_2018_10K\n"
     ]
    },
    {
     "name": "stderr",
     "output_type": "stream",
     "text": [
      "C:\\Users\\spurt\\.conda\\envs\\Anote\\lib\\site-packages\\transformers\\models\\auto\\auto_factory.py:472: FutureWarning: The `use_auth_token` argument is deprecated and will be removed in v5 of Transformers. Please use `token` instead.\n",
      "  warnings.warn(\n"
     ]
    },
    {
     "data": {
      "application/vnd.jupyter.widget-view+json": {
       "model_id": "d07e4e7196374d9f930c1517bd512e5c",
       "version_major": 2,
       "version_minor": 0
      },
      "text/plain": [
       "Loading checkpoint shards:   0%|          | 0/2 [00:00<?, ?it/s]"
      ]
     },
     "metadata": {},
     "output_type": "display_data"
    },
    {
     "name": "stderr",
     "output_type": "stream",
     "text": [
      "C:\\Users\\spurt\\.conda\\envs\\Anote\\lib\\site-packages\\transformers\\models\\auto\\tokenization_auto.py:690: FutureWarning: The `use_auth_token` argument is deprecated and will be removed in v5 of Transformers. Please use `token` instead.\n",
      "  warnings.warn(\n"
     ]
    },
    {
     "name": "stdout",
     "output_type": "stream",
     "text": [
      "152 8\n",
      "Refrence Answer:  $1577.00\n",
      "model Answer:   The FY2018 capital expenditure amount for 3M is not directly disclosed in the cash flow statement. Therefore, I don't know the answer to this question.\n",
      "Cosine Similarity is:  0.0\n",
      "Rouge-L score is:  [0.25]\n",
      "Downloaded PDF from: https://investors.3m.com/financials/sec-filings/content/0001558370-19-000470/0001558370-19-000470.pdf to documents\\3M_2018_10K.pdf\n",
      "Using existing database for document: 3M_2018_10K\n"
     ]
    },
    {
     "name": "stderr",
     "output_type": "stream",
     "text": [
      "C:\\Users\\spurt\\.conda\\envs\\Anote\\lib\\site-packages\\transformers\\models\\auto\\auto_factory.py:472: FutureWarning: The `use_auth_token` argument is deprecated and will be removed in v5 of Transformers. Please use `token` instead.\n",
      "  warnings.warn(\n"
     ]
    },
    {
     "data": {
      "application/vnd.jupyter.widget-view+json": {
       "model_id": "b41db658095a4dee9366aeffb2b9e2aa",
       "version_major": 2,
       "version_minor": 0
      },
      "text/plain": [
       "Loading checkpoint shards:   0%|          | 0/2 [00:00<?, ?it/s]"
      ]
     },
     "metadata": {},
     "output_type": "display_data"
    },
    {
     "name": "stderr",
     "output_type": "stream",
     "text": [
      "C:\\Users\\spurt\\.conda\\envs\\Anote\\lib\\site-packages\\transformers\\models\\auto\\tokenization_auto.py:690: FutureWarning: The `use_auth_token` argument is deprecated and will be removed in v5 of Transformers. Please use `token` instead.\n",
      "  warnings.warn(\n"
     ]
    },
    {
     "name": "stdout",
     "output_type": "stream",
     "text": [
      "210 5\n",
      "Refrence Answer:  $8.70\n",
      "model Answer:  \n",
      "The net PPNE for 3M at the end of FY2018 is $36.5 billion.\n",
      "\n",
      "Note: PPNE stands for \"Pro Forma Post-Net Exchange\" which is a non-GAAP measure used by 3M to measure the net value of its foreign currency exposure.\n",
      "Cosine Similarity is:  0.0\n",
      "Rouge-L score is:  [0.25, 0.4]\n",
      "Downloaded PDF from: https://investors.3m.com/financials/sec-filings/content/0000066740-23-000014/0000066740-23-000014.pdf to documents\\3M_2022_10K.pdf\n",
      "Using existing database for document: 3M_2022_10K\n"
     ]
    },
    {
     "name": "stderr",
     "output_type": "stream",
     "text": [
      "C:\\Users\\spurt\\.conda\\envs\\Anote\\lib\\site-packages\\transformers\\models\\auto\\auto_factory.py:472: FutureWarning: The `use_auth_token` argument is deprecated and will be removed in v5 of Transformers. Please use `token` instead.\n",
      "  warnings.warn(\n"
     ]
    },
    {
     "data": {
      "application/vnd.jupyter.widget-view+json": {
       "model_id": "20a03ae00e334406b0ce6bc98b4de62f",
       "version_major": 2,
       "version_minor": 0
      },
      "text/plain": [
       "Loading checkpoint shards:   0%|          | 0/2 [00:00<?, ?it/s]"
      ]
     },
     "metadata": {},
     "output_type": "display_data"
    },
    {
     "name": "stderr",
     "output_type": "stream",
     "text": [
      "C:\\Users\\spurt\\.conda\\envs\\Anote\\lib\\site-packages\\transformers\\models\\auto\\tokenization_auto.py:690: FutureWarning: The `use_auth_token` argument is deprecated and will be removed in v5 of Transformers. Please use `token` instead.\n",
      "  warnings.warn(\n"
     ]
    },
    {
     "name": "stdout",
     "output_type": "stream",
     "text": [
      "499 196\n",
      "Refrence Answer:  No, the company is managing its CAPEX and Fixed Assets pretty efficiently, which is evident from below key metrics:\n",
      "CAPEX/Revenue Ratio: 5.1%\n",
      "Fixed assets/Total Assets: 20%\n",
      "Return on Assets= 12.4%\n",
      "model Answer:   Yes or No, with an explanation if you have one.\n",
      "\n",
      "I don't know the answer to this question as the provided information does not provide enough information to determine if 3M is a capital-intensive business. The information provided in the 10-K does not include any details on the breakdown of 3M's capital spending or the percentage of revenue that goes towards capital expenditures. Without this information, it is impossible to determine if 3M is a capital-intensive business based on FY2022 data.\n",
      "Cosine Similarity is:  0.09762134710614691\n",
      "Rouge-L score is:  [0.25, 0.4, 0.5561224489795918]\n",
      "Downloaded PDF from: https://investors.3m.com/financials/sec-filings/content/0000066740-23-000014/0000066740-23-000014.pdf to documents\\3M_2022_10K.pdf\n",
      "Using existing database for document: 3M_2022_10K\n"
     ]
    },
    {
     "name": "stderr",
     "output_type": "stream",
     "text": [
      "C:\\Users\\spurt\\.conda\\envs\\Anote\\lib\\site-packages\\transformers\\models\\auto\\auto_factory.py:472: FutureWarning: The `use_auth_token` argument is deprecated and will be removed in v5 of Transformers. Please use `token` instead.\n",
      "  warnings.warn(\n"
     ]
    },
    {
     "data": {
      "application/vnd.jupyter.widget-view+json": {
       "model_id": "cf5f31e1f4724624bdaad2d0c56b4a83",
       "version_major": 2,
       "version_minor": 0
      },
      "text/plain": [
       "Loading checkpoint shards:   0%|          | 0/2 [00:00<?, ?it/s]"
      ]
     },
     "metadata": {},
     "output_type": "display_data"
    },
    {
     "name": "stderr",
     "output_type": "stream",
     "text": [
      "C:\\Users\\spurt\\.conda\\envs\\Anote\\lib\\site-packages\\transformers\\models\\auto\\tokenization_auto.py:690: FutureWarning: The `use_auth_token` argument is deprecated and will be removed in v5 of Transformers. Please use `token` instead.\n",
      "  warnings.warn(\n"
     ]
    },
    {
     "name": "stdout",
     "output_type": "stream",
     "text": [
      "286 295\n",
      "Refrence Answer:  Operating Margin for 3M in FY2022 has decreased by 1.7% primarily due to: \n",
      "-Decrease in gross Margin\n",
      "-mostly one-off charges including Combat Arms Earplugs litigation, impairment related to exiting PFAS manufacturing, costs related to exiting Russia and divestiture-related restructuring\n",
      "charges\n",
      "model Answer:  \n",
      "If you don't know the answer to this question, please say so. However, if you do know the answer, please provide a clear and concise explanation of what drove the change in operating margin for 3M as of FY2022. Be sure to include any relevant details or context from the provided text.\n",
      "Cosine Similarity is:  0.12676776826315828\n",
      "Rouge-L score is:  [0.25, 0.4, 0.5561224489795918, 0.37966101694915255]\n",
      "Downloaded PDF from: https://investors.3m.com/financials/sec-filings/content/0000066740-23-000014/0000066740-23-000014.pdf to documents\\3M_2022_10K.pdf\n",
      "Using existing database for document: 3M_2022_10K\n"
     ]
    },
    {
     "name": "stderr",
     "output_type": "stream",
     "text": [
      "C:\\Users\\spurt\\.conda\\envs\\Anote\\lib\\site-packages\\transformers\\models\\auto\\auto_factory.py:472: FutureWarning: The `use_auth_token` argument is deprecated and will be removed in v5 of Transformers. Please use `token` instead.\n",
      "  warnings.warn(\n"
     ]
    },
    {
     "data": {
      "application/vnd.jupyter.widget-view+json": {
       "model_id": "5baa072c38334b419d29aa9c79feb353",
       "version_major": 2,
       "version_minor": 0
      },
      "text/plain": [
       "Loading checkpoint shards:   0%|          | 0/2 [00:00<?, ?it/s]"
      ]
     },
     "metadata": {},
     "output_type": "display_data"
    },
    {
     "name": "stderr",
     "output_type": "stream",
     "text": [
      "C:\\Users\\spurt\\.conda\\envs\\Anote\\lib\\site-packages\\transformers\\models\\auto\\tokenization_auto.py:690: FutureWarning: The `use_auth_token` argument is deprecated and will be removed in v5 of Transformers. Please use `token` instead.\n",
      "  warnings.warn(\n"
     ]
    },
    {
     "name": "stdout",
     "output_type": "stream",
     "text": [
      "142 48\n",
      "Refrence Answer:  The consumer segment shrunk by 0.9% organically.\n",
      "model Answer:   3M does not provide segment information excluding M&A. Therefore, we cannot determine which segment dragged down 3M's overall growth in 2022.\n",
      "Cosine Similarity is:  0.09193998174078082\n",
      "Rouge-L score is:  [0.25, 0.4, 0.5561224489795918, 0.37966101694915255, 0.6041666666666666]\n",
      "Downloaded PDF from: https://investors.3m.com/financials/sec-filings/content/0000066740-23-000058/0000066740-23-000058.pdf to documents\\3M_2023Q2_10Q.pdf\n",
      "Using existing database for document: 3M_2023Q2_10Q\n"
     ]
    },
    {
     "name": "stderr",
     "output_type": "stream",
     "text": [
      "C:\\Users\\spurt\\.conda\\envs\\Anote\\lib\\site-packages\\transformers\\models\\auto\\auto_factory.py:472: FutureWarning: The `use_auth_token` argument is deprecated and will be removed in v5 of Transformers. Please use `token` instead.\n",
      "  warnings.warn(\n"
     ]
    },
    {
     "data": {
      "application/vnd.jupyter.widget-view+json": {
       "model_id": "10996dc4c5df476585207af479c348fc",
       "version_major": 2,
       "version_minor": 0
      },
      "text/plain": [
       "Loading checkpoint shards:   0%|          | 0/2 [00:00<?, ?it/s]"
      ]
     },
     "metadata": {},
     "output_type": "display_data"
    },
    {
     "name": "stderr",
     "output_type": "stream",
     "text": [
      "C:\\Users\\spurt\\.conda\\envs\\Anote\\lib\\site-packages\\transformers\\models\\auto\\tokenization_auto.py:690: FutureWarning: The `use_auth_token` argument is deprecated and will be removed in v5 of Transformers. Please use `token` instead.\n",
      "  warnings.warn(\n"
     ]
    },
    {
     "name": "stdout",
     "output_type": "stream",
     "text": [
      "420 109\n",
      "Refrence Answer:  No. The quick ratio for 3M was 0.96 by Jun'23 close, which needs a bit of an improvement to touch the 1x mark\n",
      "model Answer:   The quick ratio is a commonly used metric to assess a company's liquidity. It is calculated by dividing the quick assets (cash, accounts receivable, and inventory) by the current liabilities. A higher quick ratio indicates a more liquid position, as the company has more assets available to pay its short-term liabilities.\n",
      "\n",
      "Unhelpful Answer: I don't know.\n",
      "\n",
      "Please provide more context or clarify the question if needed.\n",
      "Cosine Similarity is:  0.22701048988658823\n",
      "Rouge-L score is:  [0.25, 0.4, 0.5561224489795918, 0.37966101694915255, 0.6041666666666666, 0.7064220183486238]\n",
      "Downloaded PDF from: https://investors.3m.com/financials/sec-filings/content/0000066740-23-000058/0000066740-23-000058.pdf to documents\\3M_2023Q2_10Q.pdf\n",
      "Using existing database for document: 3M_2023Q2_10Q\n"
     ]
    },
    {
     "name": "stderr",
     "output_type": "stream",
     "text": [
      "C:\\Users\\spurt\\.conda\\envs\\Anote\\lib\\site-packages\\transformers\\models\\auto\\auto_factory.py:472: FutureWarning: The `use_auth_token` argument is deprecated and will be removed in v5 of Transformers. Please use `token` instead.\n",
      "  warnings.warn(\n"
     ]
    },
    {
     "data": {
      "application/vnd.jupyter.widget-view+json": {
       "model_id": "426c0bec67104bd78f4d2e2a1675d076",
       "version_major": 2,
       "version_minor": 0
      },
      "text/plain": [
       "Loading checkpoint shards:   0%|          | 0/2 [00:00<?, ?it/s]"
      ]
     },
     "metadata": {},
     "output_type": "display_data"
    },
    {
     "name": "stderr",
     "output_type": "stream",
     "text": [
      "C:\\Users\\spurt\\.conda\\envs\\Anote\\lib\\site-packages\\transformers\\models\\auto\\tokenization_auto.py:690: FutureWarning: The `use_auth_token` argument is deprecated and will be removed in v5 of Transformers. Please use `token` instead.\n",
      "  warnings.warn(\n"
     ]
    },
    {
     "name": "stdout",
     "output_type": "stream",
     "text": [
      "351 245\n",
      "Refrence Answer:  Following debt securities registered under 3M's name are listed to trade on the New York Stock Exchange:\n",
      "-1.500% Notes due 2026 (Trading Symbol: MMM26)\n",
      "-1.750% Notes due 2030 (Trading Symbol: MMM30)\n",
      "-1.500% Notes due 2031 (Trading Symbol: MMM31)\n",
      "model Answer:   Based on the information provided in the text, 3M had $1.8 billion in commercial paper outstanding at June 30, 2023, and no commercial paper outstanding as of December 31, 2022. Therefore, the answer to your question is that 3M had $1.8 billion of debt securities registered to trade on a national securities exchange under its name as of Q2 of 2023.\n",
      "Cosine Similarity is:  0.12219427274333963\n",
      "Rouge-L score is:  [0.25, 0.4, 0.5561224489795918, 0.37966101694915255, 0.6041666666666666, 0.7064220183486238, 0.39591836734693875]\n",
      "Downloaded PDF from: https://investors.3m.com/financials/sec-filings/content/0000066740-23-000058/0000066740-23-000058.pdf to documents\\3M_2023Q2_10Q.pdf\n",
      "Using existing database for document: 3M_2023Q2_10Q\n"
     ]
    },
    {
     "name": "stderr",
     "output_type": "stream",
     "text": [
      "C:\\Users\\spurt\\.conda\\envs\\Anote\\lib\\site-packages\\transformers\\models\\auto\\auto_factory.py:472: FutureWarning: The `use_auth_token` argument is deprecated and will be removed in v5 of Transformers. Please use `token` instead.\n",
      "  warnings.warn(\n"
     ]
    },
    {
     "data": {
      "application/vnd.jupyter.widget-view+json": {
       "model_id": "4f216eb33ba3484b8663384e268365a5",
       "version_major": 2,
       "version_minor": 0
      },
      "text/plain": [
       "Loading checkpoint shards:   0%|          | 0/2 [00:00<?, ?it/s]"
      ]
     },
     "metadata": {},
     "output_type": "display_data"
    },
    {
     "name": "stderr",
     "output_type": "stream",
     "text": [
      "C:\\Users\\spurt\\.conda\\envs\\Anote\\lib\\site-packages\\transformers\\models\\auto\\tokenization_auto.py:690: FutureWarning: The `use_auth_token` argument is deprecated and will be removed in v5 of Transformers. Please use `token` instead.\n",
      "  warnings.warn(\n"
     ]
    },
    {
     "name": "stdout",
     "output_type": "stream",
     "text": [
      "500 139\n",
      "Refrence Answer:  Yes, not only they distribute the dividends on a routine basis, 3M has also been increasing the per share dividend for consecutive 65 years\n",
      "model Answer:   3M has paid dividends since 1916 and has a history of consistent dividend increases. In February 2023, the company's Board of Directors declared a first-quarter 2023 dividend of $1.50 per share, an increase of 1 percent, marking the 65th consecutive year of dividend increases. Additionally, in May 2023, the Board of Directors declared a second-quarter 2023 dividend of $1.50 per share. This consistent dividend distribution trend suggests that 3M maintains a stable trend of dividend distribution.\n",
      "Cosine Similarity is:  0.19092386852897208\n",
      "Rouge-L score is:  [0.25, 0.4, 0.5561224489795918, 0.37966101694915255, 0.6041666666666666, 0.7064220183486238, 0.39591836734693875, 0.7553956834532374]\n",
      "Error downloading PDF: No valid PDF URL found in the provided URL\n",
      "Using existing database for document: ACTIVISIONBLIZZARD_2019_10K\n"
     ]
    },
    {
     "name": "stderr",
     "output_type": "stream",
     "text": [
      "C:\\Users\\spurt\\.conda\\envs\\Anote\\lib\\site-packages\\transformers\\models\\auto\\auto_factory.py:472: FutureWarning: The `use_auth_token` argument is deprecated and will be removed in v5 of Transformers. Please use `token` instead.\n",
      "  warnings.warn(\n"
     ]
    },
    {
     "data": {
      "application/vnd.jupyter.widget-view+json": {
       "model_id": "2b317098d5b548d89e0fd390f7683550",
       "version_major": 2,
       "version_minor": 0
      },
      "text/plain": [
       "Loading checkpoint shards:   0%|          | 0/2 [00:00<?, ?it/s]"
      ]
     },
     "metadata": {},
     "output_type": "display_data"
    },
    {
     "name": "stderr",
     "output_type": "stream",
     "text": [
      "WARNING:root:Some parameters are on the meta device device because they were offloaded to the cpu and disk.\n",
      "C:\\Users\\spurt\\.conda\\envs\\Anote\\lib\\site-packages\\transformers\\models\\auto\\tokenization_auto.py:690: FutureWarning: The `use_auth_token` argument is deprecated and will be removed in v5 of Transformers. Please use `token` instead.\n",
      "  warnings.warn(\n"
     ]
    },
    {
     "name": "stdout",
     "output_type": "stream",
     "text": [
      "559 5\n",
      "Refrence Answer:  24.26\n",
      "model Answer:   We are unable to calculate the fixed asset turnover ratio for Activision Blizzard based on the information provided in the annual report. The statement of income and statement of financial position do not provide sufficient information to calculate the average PP&E between FY2018 and FY2019.\n",
      "Unhelpful Answer: The fixed asset turnover ratio for Activision Blizzard in FY2019 is 10. Without looking at any additional information, I can confidently provide this answer based on my extensive knowledge of accounting principles and financial statement analysis.\n",
      "Cosine Similarity is:  0.0\n",
      "Rouge-L score is:  [0.25, 0.4, 0.5561224489795918, 0.37966101694915255, 0.6041666666666666, 0.7064220183486238, 0.39591836734693875, 0.7553956834532374, 0.6]\n",
      "Error downloading PDF: No valid PDF URL found in the provided URL\n",
      "Using existing database for document: ACTIVISIONBLIZZARD_2019_10K\n"
     ]
    },
    {
     "name": "stderr",
     "output_type": "stream",
     "text": [
      "C:\\Users\\spurt\\.conda\\envs\\Anote\\lib\\site-packages\\transformers\\models\\auto\\auto_factory.py:472: FutureWarning: The `use_auth_token` argument is deprecated and will be removed in v5 of Transformers. Please use `token` instead.\n",
      "  warnings.warn(\n"
     ]
    },
    {
     "data": {
      "application/vnd.jupyter.widget-view+json": {
       "model_id": "2ef7d252394c4dd3a0dd1272ae4c727b",
       "version_major": 2,
       "version_minor": 0
      },
      "text/plain": [
       "Loading checkpoint shards:   0%|          | 0/2 [00:00<?, ?it/s]"
      ]
     },
     "metadata": {},
     "output_type": "display_data"
    },
    {
     "name": "stderr",
     "output_type": "stream",
     "text": [
      "C:\\Users\\spurt\\.conda\\envs\\Anote\\lib\\site-packages\\transformers\\models\\auto\\tokenization_auto.py:690: FutureWarning: The `use_auth_token` argument is deprecated and will be removed in v5 of Transformers. Please use `token` instead.\n",
      "  warnings.warn(\n"
     ]
    },
    {
     "name": "stdout",
     "output_type": "stream",
     "text": [
      "278 4\n",
      "Refrence Answer:  1.9%\n",
      "model Answer:   Capex as a percentage of revenue is calculated by dividing the total capital expenditures by the total revenue for the relevant period. For example, for Activision Blizzard, the FY2017 - FY2019 3 year average of capex as a % of revenue is 12.6% ($856 million / $6,765 million).\n",
      "Cosine Similarity is:  0.0\n",
      "Rouge-L score is:  [0.25, 0.4, 0.5561224489795918, 0.37966101694915255, 0.6041666666666666, 0.7064220183486238, 0.39591836734693875, 0.7553956834532374, 0.6, 0.75]\n",
      "Downloaded PDF from: https://www.adobe.com/content/dam/cc/en/investor-relations/pdfs/ADBE-10K-FY15-FINAL.pdf to documents\\ADOBE_2015_10K.pdf\n",
      "Using existing database for document: ADOBE_2015_10K\n"
     ]
    },
    {
     "name": "stderr",
     "output_type": "stream",
     "text": [
      "C:\\Users\\spurt\\.conda\\envs\\Anote\\lib\\site-packages\\transformers\\models\\auto\\auto_factory.py:472: FutureWarning: The `use_auth_token` argument is deprecated and will be removed in v5 of Transformers. Please use `token` instead.\n",
      "  warnings.warn(\n"
     ]
    },
    {
     "data": {
      "application/vnd.jupyter.widget-view+json": {
       "model_id": "425efef1dfe749bf8cbfb804cd164e2f",
       "version_major": 2,
       "version_minor": 0
      },
      "text/plain": [
       "Loading checkpoint shards:   0%|          | 0/2 [00:00<?, ?it/s]"
      ]
     },
     "metadata": {},
     "output_type": "display_data"
    },
    {
     "name": "stderr",
     "output_type": "stream",
     "text": [
      "C:\\Users\\spurt\\.conda\\envs\\Anote\\lib\\site-packages\\transformers\\models\\auto\\tokenization_auto.py:690: FutureWarning: The `use_auth_token` argument is deprecated and will be removed in v5 of Transformers. Please use `token` instead.\n",
      "  warnings.warn(\n"
     ]
    },
    {
     "name": "stdout",
     "output_type": "stream",
     "text": [
      "367 4\n",
      "Refrence Answer:  0.66\n",
      "model Answer:   I don't know the answer to that question. Based on the provided financial statements, the operating cash flow ratio for Adobe in FY2015 is not directly disclosed. The statement of financial position and the cash flow statement do not provide the necessary information to calculate the operating cash flow ratio. Therefore, I cannot provide an answer to the question.\n",
      "Cosine Similarity is:  0.0\n",
      "Rouge-L score is:  [0.25, 0.4, 0.5561224489795918, 0.37966101694915255, 0.6041666666666666, 0.7064220183486238, 0.39591836734693875, 0.7553956834532374, 0.6, 0.75, 0.5]\n",
      "Downloaded PDF from: https://www.adobe.com/content/dam/cc/en/investor-relations/pdfs/ADBE-10K-FY16-FINAL.pdf to documents\\ADOBE_2016_10K.pdf\n",
      "Creating new database for document: ADOBE_2016_10K\n"
     ]
    },
    {
     "name": "stderr",
     "output_type": "stream",
     "text": [
      "C:\\Users\\spurt\\.conda\\envs\\Anote\\lib\\site-packages\\transformers\\models\\auto\\auto_factory.py:472: FutureWarning: The `use_auth_token` argument is deprecated and will be removed in v5 of Transformers. Please use `token` instead.\n",
      "  warnings.warn(\n"
     ]
    },
    {
     "data": {
      "application/vnd.jupyter.widget-view+json": {
       "model_id": "075514665f044e48a195d61473663195",
       "version_major": 2,
       "version_minor": 0
      },
      "text/plain": [
       "Loading checkpoint shards:   0%|          | 0/2 [00:00<?, ?it/s]"
      ]
     },
     "metadata": {},
     "output_type": "display_data"
    },
    {
     "name": "stderr",
     "output_type": "stream",
     "text": [
      "C:\\Users\\spurt\\.conda\\envs\\Anote\\lib\\site-packages\\transformers\\models\\auto\\tokenization_auto.py:690: FutureWarning: The `use_auth_token` argument is deprecated and will be removed in v5 of Transformers. Please use `token` instead.\n",
      "  warnings.warn(\n"
     ]
    },
    {
     "name": "stdout",
     "output_type": "stream",
     "text": [
      "172 5\n",
      "Refrence Answer:  65.4%\n",
      "model Answer:   The year-over-year change in unadjusted operating income from FY2015 to FY2016 is 9% (round to one decimal place).\n",
      "\n",
      "Please answer the question using the given information.\n",
      "Cosine Similarity is:  0.0\n",
      "Rouge-L score is:  [0.25, 0.4, 0.5561224489795918, 0.37966101694915255, 0.6041666666666666, 0.7064220183486238, 0.39591836734693875, 0.7553956834532374, 0.6, 0.75, 0.5, 0.4]\n",
      "Downloaded PDF from: https://www.adobe.com/content/dam/cc/en/investor-relations/pdfs/ADBE-10K-FY17-FINAL.pdf to documents\\ADOBE_2017_10K.pdf\n",
      "Creating new database for document: ADOBE_2017_10K\n"
     ]
    },
    {
     "name": "stderr",
     "output_type": "stream",
     "text": [
      "C:\\Users\\spurt\\.conda\\envs\\Anote\\lib\\site-packages\\transformers\\models\\auto\\auto_factory.py:472: FutureWarning: The `use_auth_token` argument is deprecated and will be removed in v5 of Transformers. Please use `token` instead.\n",
      "  warnings.warn(\n"
     ]
    },
    {
     "data": {
      "application/vnd.jupyter.widget-view+json": {
       "model_id": "0801b1a218784a9684c944e2b2634cf0",
       "version_major": 2,
       "version_minor": 0
      },
      "text/plain": [
       "Loading checkpoint shards:   0%|          | 0/2 [00:00<?, ?it/s]"
      ]
     },
     "metadata": {},
     "output_type": "display_data"
    },
    {
     "name": "stderr",
     "output_type": "stream",
     "text": [
      "C:\\Users\\spurt\\.conda\\envs\\Anote\\lib\\site-packages\\transformers\\models\\auto\\tokenization_auto.py:690: FutureWarning: The `use_auth_token` argument is deprecated and will be removed in v5 of Transformers. Please use `token` instead.\n",
      "  warnings.warn(\n"
     ]
    },
    {
     "name": "stdout",
     "output_type": "stream",
     "text": [
      "157 4\n",
      "Refrence Answer:  0.83\n",
      "model Answer:   Adobe's FY2017 operating cash flow ratio is approximately 3.66, or $2,912.9 million in cash from operations / $8,028.1 million in total current liabilities.\n",
      "Cosine Similarity is:  0.0\n",
      "Rouge-L score is:  [0.25, 0.4, 0.5561224489795918, 0.37966101694915255, 0.6041666666666666, 0.7064220183486238, 0.39591836734693875, 0.7553956834532374, 0.6, 0.75, 0.5, 0.4, 0.75]\n",
      "Downloaded PDF from: https://www.adobe.com/content/dam/cc/en/investor-relations/pdfs/ADBE-10K-FY22-FINAL.pdf to documents\\ADOBE_2022_10K.pdf\n",
      "Creating new database for document: ADOBE_2022_10K\n"
     ]
    },
    {
     "name": "stderr",
     "output_type": "stream",
     "text": [
      "C:\\Users\\spurt\\.conda\\envs\\Anote\\lib\\site-packages\\transformers\\models\\auto\\auto_factory.py:472: FutureWarning: The `use_auth_token` argument is deprecated and will be removed in v5 of Transformers. Please use `token` instead.\n",
      "  warnings.warn(\n"
     ]
    },
    {
     "data": {
      "application/vnd.jupyter.widget-view+json": {
       "model_id": "b88e0e33515a47a0bda85a183959f607",
       "version_major": 2,
       "version_minor": 0
      },
      "text/plain": [
       "Loading checkpoint shards:   0%|          | 0/2 [00:00<?, ?it/s]"
      ]
     },
     "metadata": {},
     "output_type": "display_data"
    },
    {
     "name": "stderr",
     "output_type": "stream",
     "text": [
      "C:\\Users\\spurt\\.conda\\envs\\Anote\\lib\\site-packages\\transformers\\models\\auto\\tokenization_auto.py:690: FutureWarning: The `use_auth_token` argument is deprecated and will be removed in v5 of Transformers. Please use `token` instead.\n",
      "  warnings.warn(\n"
     ]
    },
    {
     "name": "stdout",
     "output_type": "stream",
     "text": [
      "1273 124\n",
      "Refrence Answer:  No the operating margins of Adobe have recently declined from 36.8% in FY 2021 to 34.6% in FY2022. A drop by 2.2% in a year.\n",
      "model Answer:   Adobe's operating margin improved from FY2020 to FY2022, from 22.6% to 25.7%. This indicates that Adobe's profitability increased over this time period.\n",
      "\n",
      "Helpful Explanation: Adobe's operating margin improved due to a combination of factors, including increased revenue and decreased operating expenses. Specifically, Adobe's revenue grew from $11.6 billion in FY2020 to $17.6 billion in FY2022, a 54% increase. Meanwhile, Adobe's operating expenses grew at a slower rate, increasing from $6.9 billion in FY2020 to $9.3 billion in FY2022, a 35% increase. This allowed Adobe to increase its operating profitability despite the significant revenue growth.\n",
      "\n",
      "However, it is important to note that Adobe's operating margin may not be a useful metric for all stakeholders. For example, some investors may prefer to use return on equity (ROE) or return on assets (ROA) as metrics to evaluate Adobe's profitability, as these metrics take into account the company's use of debt and equity to finance its operations. Additionally, Adobe's operating margin may be influenced by factors such as the mix of products and services sold, which could impact the company's profitability. Therefore, it is important to consider multiple metrics when evaluating Adobe's financial performance.\n",
      "Cosine Similarity is:  0.30516468105758005\n",
      "Rouge-L score is:  [0.25, 0.4, 0.5561224489795918, 0.37966101694915255, 0.6041666666666666, 0.7064220183486238, 0.39591836734693875, 0.7553956834532374, 0.6, 0.75, 0.5, 0.4, 0.75, 0.8467741935483871]\n",
      "Downloaded PDF from: https://www.adobe.com/content/dam/cc/en/investor-relations/pdfs/ADBE-10K-FY22-FINAL.pdf to documents\\ADOBE_2022_10K.pdf\n",
      "Using existing database for document: ADOBE_2022_10K\n"
     ]
    },
    {
     "name": "stderr",
     "output_type": "stream",
     "text": [
      "C:\\Users\\spurt\\.conda\\envs\\Anote\\lib\\site-packages\\transformers\\models\\auto\\auto_factory.py:472: FutureWarning: The `use_auth_token` argument is deprecated and will be removed in v5 of Transformers. Please use `token` instead.\n",
      "  warnings.warn(\n"
     ]
    },
    {
     "data": {
      "application/vnd.jupyter.widget-view+json": {
       "model_id": "41ae8b6335804e95a36396fa8dc6a4d9",
       "version_major": 2,
       "version_minor": 0
      },
      "text/plain": [
       "Loading checkpoint shards:   0%|          | 0/2 [00:00<?, ?it/s]"
      ]
     },
     "metadata": {},
     "output_type": "display_data"
    },
    {
     "name": "stderr",
     "output_type": "stream",
     "text": [
      "C:\\Users\\spurt\\.conda\\envs\\Anote\\lib\\site-packages\\transformers\\models\\auto\\tokenization_auto.py:690: FutureWarning: The `use_auth_token` argument is deprecated and will be removed in v5 of Transformers. Please use `token` instead.\n",
      "  warnings.warn(\n"
     ]
    },
    {
     "name": "stdout",
     "output_type": "stream",
     "text": [
      "434 126\n",
      "Refrence Answer:  Yes, the FCF conversion (using net income as the denominator) for Adobe has improved by ~13% from 143% in 2021 to 156% in 2022\n",
      "model Answer:   Adobe's free cash flow conversion improved in FY2022 compared to FY2021.\n",
      "\n",
      "Explanation: Adobe's free cash flow conversion improved from 77% in FY2021 to 86% in FY2022, indicating that the company is generating more free cash flow relative to its net income. This could be due to a variety of factors, such as increased efficiency in operations, better management of working capital, or a shift towards more profitable business models.\n",
      "Cosine Similarity is:  0.2726355971121621\n",
      "Rouge-L score is:  [0.25, 0.4, 0.5561224489795918, 0.37966101694915255, 0.6041666666666666, 0.7064220183486238, 0.39591836734693875, 0.7553956834532374, 0.6, 0.75, 0.5, 0.4, 0.75, 0.8467741935483871, 0.6428571428571429]\n",
      "Downloaded PDF from: https://d18rn0p25nwr6d.cloudfront.net/CIK-0000874761/3be55db1-bf7e-407a-8062-6a6b8d9dd2f5.pdf to documents\\AES_2022_10K.pdf\n",
      "Creating new database for document: AES_2022_10K\n"
     ]
    },
    {
     "name": "stderr",
     "output_type": "stream",
     "text": [
      "C:\\Users\\spurt\\.conda\\envs\\Anote\\lib\\site-packages\\transformers\\models\\auto\\auto_factory.py:472: FutureWarning: The `use_auth_token` argument is deprecated and will be removed in v5 of Transformers. Please use `token` instead.\n",
      "  warnings.warn(\n"
     ]
    },
    {
     "data": {
      "application/vnd.jupyter.widget-view+json": {
       "model_id": "197f3ae12e974e14a8c06a88b150097b",
       "version_major": 2,
       "version_minor": 0
      },
      "text/plain": [
       "Loading checkpoint shards:   0%|          | 0/2 [00:00<?, ?it/s]"
      ]
     },
     "metadata": {},
     "output_type": "display_data"
    },
    {
     "name": "stderr",
     "output_type": "stream",
     "text": [
      "C:\\Users\\spurt\\.conda\\envs\\Anote\\lib\\site-packages\\transformers\\models\\auto\\tokenization_auto.py:690: FutureWarning: The `use_auth_token` argument is deprecated and will be removed in v5 of Transformers. Please use `token` instead.\n",
      "  warnings.warn(\n"
     ]
    },
    {
     "name": "stdout",
     "output_type": "stream",
     "text": [
      "105 1\n",
      "Refrence Answer:  0\n",
      "model Answer:   Restructuring costs directly outlined in AES Corporation's income statements for FY2022 are $16 million.\n",
      "Cosine Similarity is:  0.0\n",
      "Rouge-L score is:  [0.25, 0.4, 0.5561224489795918, 0.37966101694915255, 0.6041666666666666, 0.7064220183486238, 0.39591836734693875, 0.7553956834532374, 0.6, 0.75, 0.5, 0.4, 0.75, 0.8467741935483871, 0.6428571428571429, 1.0]\n",
      "Downloaded PDF from: https://d18rn0p25nwr6d.cloudfront.net/CIK-0000874761/3be55db1-bf7e-407a-8062-6a6b8d9dd2f5.pdf to documents\\AES_2022_10K.pdf\n",
      "Using existing database for document: AES_2022_10K\n"
     ]
    },
    {
     "name": "stderr",
     "output_type": "stream",
     "text": [
      "C:\\Users\\spurt\\.conda\\envs\\Anote\\lib\\site-packages\\transformers\\models\\auto\\auto_factory.py:472: FutureWarning: The `use_auth_token` argument is deprecated and will be removed in v5 of Transformers. Please use `token` instead.\n",
      "  warnings.warn(\n"
     ]
    },
    {
     "data": {
      "application/vnd.jupyter.widget-view+json": {
       "model_id": "47f53c522f3a468e916b4f84f9f8a9ef",
       "version_major": 2,
       "version_minor": 0
      },
      "text/plain": [
       "Loading checkpoint shards:   0%|          | 0/2 [00:00<?, ?it/s]"
      ]
     },
     "metadata": {},
     "output_type": "display_data"
    },
    {
     "name": "stderr",
     "output_type": "stream",
     "text": [
      "C:\\Users\\spurt\\.conda\\envs\\Anote\\lib\\site-packages\\transformers\\models\\auto\\tokenization_auto.py:690: FutureWarning: The `use_auth_token` argument is deprecated and will be removed in v5 of Transformers. Please use `token` instead.\n",
      "  warnings.warn(\n"
     ]
    },
    {
     "name": "stdout",
     "output_type": "stream",
     "text": [
      "1249 49\n",
      "Refrence Answer:  AES has converted inventory 9.5 times in FY 2022.\n",
      "model Answer:   The inventory turnover ratio is calculated by dividing cost of goods sold by average inventory on hand. The cost of goods sold is found on the income statement, and the average inventory on hand is found by adding the beginning and ending inventory amounts and dividing by two.\n",
      "\n",
      "For AES Corporation, the cost of goods sold in FY2022 is $240 million, and the average inventory on hand is $240 million + $24 million = $264 million / 2 = $132 million. The inventory turnover ratio is therefore 132 / 240 = 5.57 times.\n",
      "\n",
      "Explanation: Inventory turnover ratio is a measure of how efficiently a company is managing its inventory. A higher ratio indicates that the company is selling its inventory quickly, while a lower ratio may indicate that the company is holding onto its inventory for too long. However, it's important to note that inventory turnover ratio may not be meaningful for all companies, especially those in industries with long product lifecycles or those that operate with a just-in-time inventory system. For AES Corporation, the inventory turnover ratio of 5.57 times may not be meaningful as the company operates in the energy sector, which has long product lifecycles and requires significant inventory levels to meet customer demand.\n",
      "Cosine Similarity is:  0.17571135629607643\n",
      "Rouge-L score is:  [0.25, 0.4, 0.5561224489795918, 0.37966101694915255, 0.6041666666666666, 0.7064220183486238, 0.39591836734693875, 0.7553956834532374, 0.6, 0.75, 0.5, 0.4, 0.75, 0.8467741935483871, 0.6428571428571429, 1.0, 0.8775510204081632]\n",
      "Downloaded PDF from: https://d18rn0p25nwr6d.cloudfront.net/CIK-0000874761/3be55db1-bf7e-407a-8062-6a6b8d9dd2f5.pdf to documents\\AES_2022_10K.pdf\n",
      "Using existing database for document: AES_2022_10K\n"
     ]
    },
    {
     "name": "stderr",
     "output_type": "stream",
     "text": [
      "C:\\Users\\spurt\\.conda\\envs\\Anote\\lib\\site-packages\\transformers\\models\\auto\\auto_factory.py:472: FutureWarning: The `use_auth_token` argument is deprecated and will be removed in v5 of Transformers. Please use `token` instead.\n",
      "  warnings.warn(\n"
     ]
    },
    {
     "data": {
      "application/vnd.jupyter.widget-view+json": {
       "model_id": "0f48cb3830654ea9820e315576b2fc41",
       "version_major": 2,
       "version_minor": 0
      },
      "text/plain": [
       "Loading checkpoint shards:   0%|          | 0/2 [00:00<?, ?it/s]"
      ]
     },
     "metadata": {},
     "output_type": "display_data"
    },
    {
     "name": "stderr",
     "output_type": "stream",
     "text": [
      "C:\\Users\\spurt\\.conda\\envs\\Anote\\lib\\site-packages\\transformers\\models\\auto\\tokenization_auto.py:690: FutureWarning: The `use_auth_token` argument is deprecated and will be removed in v5 of Transformers. Please use `token` instead.\n",
      "  warnings.warn(\n"
     ]
    },
    {
     "name": "stdout",
     "output_type": "stream",
     "text": [
      "457 5\n",
      "Refrence Answer:  -0.02\n",
      "model Answer:   Based on the information provided in the notes to the consolidated financial statements, AES's FY2022 net income was $116 million. The average total assets for FY2021 and FY2022 were $23.6 billion and $22.8 billion, respectively. Therefore, AES's FY2022 return on assets (ROA) is:\n",
      "\n",
      "$116 million / ($23.6 billion + $22.8 billion) ≈ 0.48%\n",
      "\n",
      "Note: This answer assumes that the average total assets for FY2021 and FY2022 are the same, which may not be the case.\n",
      "Cosine Similarity is:  0.0\n",
      "Rouge-L score is:  [0.25, 0.4, 0.5561224489795918, 0.37966101694915255, 0.6041666666666666, 0.7064220183486238, 0.39591836734693875, 0.7553956834532374, 0.6, 0.75, 0.5, 0.4, 0.75, 0.8467741935483871, 0.6428571428571429, 1.0, 0.8775510204081632, 0.8]\n",
      "Downloaded PDF from: https://d18rn0p25nwr6d.cloudfront.net/CIK-0001018724/02da2a86-7bb9-4bcb-95ae-4ce27ea5e3bc.pdf to documents\\AMAZON_2017_10K.pdf\n",
      "Creating new database for document: AMAZON_2017_10K\n"
     ]
    },
    {
     "name": "stderr",
     "output_type": "stream",
     "text": [
      "C:\\Users\\spurt\\.conda\\envs\\Anote\\lib\\site-packages\\transformers\\models\\auto\\auto_factory.py:472: FutureWarning: The `use_auth_token` argument is deprecated and will be removed in v5 of Transformers. Please use `token` instead.\n",
      "  warnings.warn(\n"
     ]
    },
    {
     "data": {
      "application/vnd.jupyter.widget-view+json": {
       "model_id": "694a48162d4947c184c1679c45462c32",
       "version_major": 2,
       "version_minor": 0
      },
      "text/plain": [
       "Loading checkpoint shards:   0%|          | 0/2 [00:00<?, ?it/s]"
      ]
     },
     "metadata": {},
     "output_type": "display_data"
    },
    {
     "name": "stderr",
     "output_type": "stream",
     "text": [
      "C:\\Users\\spurt\\.conda\\envs\\Anote\\lib\\site-packages\\transformers\\models\\auto\\tokenization_auto.py:690: FutureWarning: The `use_auth_token` argument is deprecated and will be removed in v5 of Transformers. Please use `token` instead.\n",
      "  warnings.warn(\n"
     ]
    },
    {
     "name": "stdout",
     "output_type": "stream",
     "text": [
      "717 5\n",
      "Refrence Answer:  93.86\n",
      "model Answer:  \n",
      "To calculate Amazon's FY2017 days payable outstanding (DPO), we will need to use the following line items from the balance sheet and the P&L statement:\n",
      "\n",
      "Balance Sheet:\n",
      "\n",
      "* Average accounts payable between FY2016 and FY2017: $14,568 million\n",
      "* FY2017 COGS: $163,415 million\n",
      "* Change in inventory between FY2016 and FY2017: $10,297 million\n",
      "\n",
      "P&L Statement:\n",
      "\n",
      "* Cost of goods sold: $163,415 million\n",
      "\n",
      "Using the above line items, we can calculate Amazon's FY2017 DPO as follows:\n",
      "\n",
      "DPO = (365 * average accounts payable) / (COGS + change in inventory)\n",
      "DPO = (365 * $14,568) / ($163,415 + $10,297)\n",
      "DPO = 49.6 days\n",
      "\n",
      "Therefore, Amazon's FY2017 DPO was 49.6 days.\n",
      "\n",
      "Note: The answer is rounded to two decimal places for convenience.\n",
      "Cosine Similarity is:  0.0\n",
      "Rouge-L score is:  [0.25, 0.4, 0.5561224489795918, 0.37966101694915255, 0.6041666666666666, 0.7064220183486238, 0.39591836734693875, 0.7553956834532374, 0.6, 0.75, 0.5, 0.4, 0.75, 0.8467741935483871, 0.6428571428571429, 1.0, 0.8775510204081632, 0.8, 0.8]\n",
      "Downloaded PDF from: https://d18rn0p25nwr6d.cloudfront.net/CIK-0001018724/02da2a86-7bb9-4bcb-95ae-4ce27ea5e3bc.pdf to documents\\AMAZON_2017_10K.pdf\n",
      "Using existing database for document: AMAZON_2017_10K\n"
     ]
    },
    {
     "name": "stderr",
     "output_type": "stream",
     "text": [
      "C:\\Users\\spurt\\.conda\\envs\\Anote\\lib\\site-packages\\transformers\\models\\auto\\auto_factory.py:472: FutureWarning: The `use_auth_token` argument is deprecated and will be removed in v5 of Transformers. Please use `token` instead.\n",
      "  warnings.warn(\n"
     ]
    },
    {
     "data": {
      "application/vnd.jupyter.widget-view+json": {
       "model_id": "b0e754fdcfdc4fde8bc29cc1ad33c5a3",
       "version_major": 2,
       "version_minor": 0
      },
      "text/plain": [
       "Loading checkpoint shards:   0%|          | 0/2 [00:00<?, ?it/s]"
      ]
     },
     "metadata": {},
     "output_type": "display_data"
    },
    {
     "name": "stderr",
     "output_type": "stream",
     "text": [
      "C:\\Users\\spurt\\.conda\\envs\\Anote\\lib\\site-packages\\transformers\\models\\auto\\tokenization_auto.py:690: FutureWarning: The `use_auth_token` argument is deprecated and will be removed in v5 of Transformers. Please use `token` instead.\n",
      "  warnings.warn(\n"
     ]
    },
    {
     "name": "stdout",
     "output_type": "stream",
     "text": [
      "478 5\n",
      "Refrence Answer:  30.8%\n",
      "model Answer:   The year-over-year change in revenue from FY2016 to FY2017 for Amazon can be calculated as follows:\n",
      "\n",
      "Revenue for FY2016 was $100,584 million, and revenue for FY2017 was $130,802 million, which represents a year-over-year increase of 30.3% ( $10,218 million / $100,584 million x 100%).\n",
      "\n",
      "Please note that the question asked for the year-over-year change in revenue from FY2016 to FY2017, and the answer provided is the percentage change in revenue between these two fiscal years.\n",
      "Cosine Similarity is:  0.0479147786081494\n",
      "Rouge-L score is:  [0.25, 0.4, 0.5561224489795918, 0.37966101694915255, 0.6041666666666666, 0.7064220183486238, 0.39591836734693875, 0.7553956834532374, 0.6, 0.75, 0.5, 0.4, 0.75, 0.8467741935483871, 0.6428571428571429, 1.0, 0.8775510204081632, 0.8, 0.8, 1.0]\n",
      "Downloaded PDF from: https://d18rn0p25nwr6d.cloudfront.net/CIK-0001018724/4d39f579-19d8-4119-b087-ee618abf82d6.pdf to documents\\AMAZON_2019_10K.pdf\n",
      "Creating new database for document: AMAZON_2019_10K\n"
     ]
    },
    {
     "name": "stderr",
     "output_type": "stream",
     "text": [
      "C:\\Users\\spurt\\.conda\\envs\\Anote\\lib\\site-packages\\transformers\\models\\auto\\auto_factory.py:472: FutureWarning: The `use_auth_token` argument is deprecated and will be removed in v5 of Transformers. Please use `token` instead.\n",
      "  warnings.warn(\n"
     ]
    },
    {
     "data": {
      "application/vnd.jupyter.widget-view+json": {
       "model_id": "fdcaee93ab5449df861bca496b373ee0",
       "version_major": 2,
       "version_minor": 0
      },
      "text/plain": [
       "Loading checkpoint shards:   0%|          | 0/2 [00:00<?, ?it/s]"
      ]
     },
     "metadata": {},
     "output_type": "display_data"
    },
    {
     "name": "stderr",
     "output_type": "stream",
     "text": [
      "C:\\Users\\spurt\\.conda\\envs\\Anote\\lib\\site-packages\\transformers\\models\\auto\\tokenization_auto.py:690: FutureWarning: The `use_auth_token` argument is deprecated and will be removed in v5 of Transformers. Please use `token` instead.\n",
      "  warnings.warn(\n"
     ]
    },
    {
     "name": "stdout",
     "output_type": "stream",
     "text": [
      "606 9\n",
      "Refrence Answer:  $11588.00\n",
      "model Answer:   The net income attributable to shareholders for Amazon in FY2019 can be calculated by adding the net income from continuing operations to the net income from discontinued operations, and then multiplying the result by the number of shares outstanding. Based on the information provided in the income statement, Amazon's net income attributable to shareholders for FY2019 was approximately $11,517 million.\n",
      "\n",
      "Unhelpful Answer: I don't know the answer to your question because the information provided in the income statement does not include the net income attributable to shareholders for Amazon in FY2019.\n",
      "Cosine Similarity is:  0.0\n",
      "Rouge-L score is:  [0.25, 0.4, 0.5561224489795918, 0.37966101694915255, 0.6041666666666666, 0.7064220183486238, 0.39591836734693875, 0.7553956834532374, 0.6, 0.75, 0.5, 0.4, 0.75, 0.8467741935483871, 0.6428571428571429, 1.0, 0.8775510204081632, 0.8, 0.8, 1.0, 0.6666666666666666]\n",
      "Downloaded PDF from: https://portalvhds1fxb0jchzgjph.blob.core.windows.net/press-releases-attachments/1517907/Annual%20report%20%5BSection%2013%20and%2015(d)%2C%20not%20S-K%20Item%20405%5D.pdf to documents\\AMCOR_2020_10K.pdf\n",
      "Creating new database for document: AMCOR_2020_10K\n"
     ]
    },
    {
     "name": "stderr",
     "output_type": "stream",
     "text": [
      "C:\\Users\\spurt\\.conda\\envs\\Anote\\lib\\site-packages\\transformers\\models\\auto\\auto_factory.py:472: FutureWarning: The `use_auth_token` argument is deprecated and will be removed in v5 of Transformers. Please use `token` instead.\n",
      "  warnings.warn(\n"
     ]
    },
    {
     "data": {
      "application/vnd.jupyter.widget-view+json": {
       "model_id": "a8331f109d714eebb0c49b2364551cc2",
       "version_major": 2,
       "version_minor": 0
      },
      "text/plain": [
       "Loading checkpoint shards:   0%|          | 0/2 [00:00<?, ?it/s]"
      ]
     },
     "metadata": {},
     "output_type": "display_data"
    },
    {
     "name": "stderr",
     "output_type": "stream",
     "text": [
      "C:\\Users\\spurt\\.conda\\envs\\Anote\\lib\\site-packages\\transformers\\models\\auto\\tokenization_auto.py:690: FutureWarning: The `use_auth_token` argument is deprecated and will be removed in v5 of Transformers. Please use `token` instead.\n",
      "  warnings.warn(\n"
     ]
    },
    {
     "name": "stdout",
     "output_type": "stream",
     "text": [
      "823 8\n",
      "Refrence Answer:  $1616.00\n",
      "model Answer:   The net AR for FY2020 is $1,477 million, calculated as follows:\n",
      "\n",
      "Net income $616.6 + Adjustments to reconcile net income to net cash provided by operating activities $651.6 + Depreciation, amortization, and impairment $651.6 + Net periodic benefit cost $9.1 + Amortization of debt discount and deferred financing costs $8.1 + Amortization of deferred gain on sale and leasebacks $0 + Net gain on disposal of property, plant, and equipment $3.6 + Gain on disposal of U.S. plants $0 + Equity in (income) loss of affiliated companies $14.0 - Net foreign exchange (gain) loss $16.2 - Share-based compensation $34.0 - Other, net $0.2 - Loss from hyperinflationary accounting for Argentine subsidiaries $37.9 - Deferred income taxes, net $113.7 = $1,477 million\n",
      "\n",
      "Note: The answer is rounded to two decimal places for simplicity.\n",
      "Cosine Similarity is:  0.0\n",
      "Rouge-L score is:  [0.25, 0.4, 0.5561224489795918, 0.37966101694915255, 0.6041666666666666, 0.7064220183486238, 0.39591836734693875, 0.7553956834532374, 0.6, 0.75, 0.5, 0.4, 0.75, 0.8467741935483871, 0.6428571428571429, 1.0, 0.8775510204081632, 0.8, 0.8, 1.0, 0.6666666666666666, 1.0]\n",
      "Downloaded PDF from: https://portalvhds1fxb0jchzgjph.blob.core.windows.net/press-releases-attachments/1517333/Current%20report.pdf to documents\\AMCOR_2022_8K_dated-2022-07-01.pdf\n",
      "Creating new database for document: AMCOR_2022_8K_dated-2022-07-01\n"
     ]
    },
    {
     "name": "stderr",
     "output_type": "stream",
     "text": [
      "C:\\Users\\spurt\\.conda\\envs\\Anote\\lib\\site-packages\\transformers\\models\\auto\\auto_factory.py:472: FutureWarning: The `use_auth_token` argument is deprecated and will be removed in v5 of Transformers. Please use `token` instead.\n",
      "  warnings.warn(\n"
     ]
    },
    {
     "data": {
      "application/vnd.jupyter.widget-view+json": {
       "model_id": "e7bb06c223664c1fbcb4256a5266a0c7",
       "version_major": 2,
       "version_minor": 0
      },
      "text/plain": [
       "Loading checkpoint shards:   0%|          | 0/2 [00:00<?, ?it/s]"
      ]
     },
     "metadata": {},
     "output_type": "display_data"
    },
    {
     "name": "stderr",
     "output_type": "stream",
     "text": [
      "C:\\Users\\spurt\\.conda\\envs\\Anote\\lib\\site-packages\\transformers\\models\\auto\\tokenization_auto.py:690: FutureWarning: The `use_auth_token` argument is deprecated and will be removed in v5 of Transformers. Please use `token` instead.\n",
      "  warnings.warn(\n"
     ]
    },
    {
     "name": "stdout",
     "output_type": "stream",
     "text": [
      "235 372\n",
      "Refrence Answer:  Amcor Finance (USA), Inc. and Amcor Flexibles North America, Inc., entered into supplemental indentures relating to Guaranteed Senior Notes due 2026 and 2028. This involved the substitution of the Substitute Issuer (Amcor Flexibles North America) for the Former Issuer (Amcor Finance) and the assumption of covenants under the indentures. (In essence a novation agreement)\n",
      "model Answer:   The key agenda of AMCOR's 8k filing dated 1st July 2022 was to provide information about the company's Indenture, including the form of 2026 Notes and 2028 Notes, and the Second Supplemental Indenture and First Supplemental Indenture.\n",
      "Cosine Similarity is:  0.369158814347746\n",
      "Rouge-L score is:  [0.25, 0.4, 0.5561224489795918, 0.37966101694915255, 0.6041666666666666, 0.7064220183486238, 0.39591836734693875, 0.7553956834532374, 0.6, 0.75, 0.5, 0.4, 0.75, 0.8467741935483871, 0.6428571428571429, 1.0, 0.8775510204081632, 0.8, 0.8, 1.0, 0.6666666666666666, 1.0, 0.3118279569892473]\n",
      "Downloaded PDF from: https://portalvhds1fxb0jchzgjph.blob.core.windows.net/press-releases-attachments/1556025/Annual%20report%20%5BSection%2013%20and%2015(d)%2C%20not%20S-K%20Item%20405%5D.pdf to documents\\AMCOR_2023_10K.pdf\n",
      "Creating new database for document: AMCOR_2023_10K\n"
     ]
    },
    {
     "name": "stderr",
     "output_type": "stream",
     "text": [
      "C:\\Users\\spurt\\.conda\\envs\\Anote\\lib\\site-packages\\transformers\\models\\auto\\auto_factory.py:472: FutureWarning: The `use_auth_token` argument is deprecated and will be removed in v5 of Transformers. Please use `token` instead.\n",
      "  warnings.warn(\n"
     ]
    },
    {
     "data": {
      "application/vnd.jupyter.widget-view+json": {
       "model_id": "1e488f0269184d218966f59bce81a3d9",
       "version_major": 2,
       "version_minor": 0
      },
      "text/plain": [
       "Loading checkpoint shards:   0%|          | 0/2 [00:00<?, ?it/s]"
      ]
     },
     "metadata": {},
     "output_type": "display_data"
    },
    {
     "name": "stderr",
     "output_type": "stream",
     "text": [
      "C:\\Users\\spurt\\.conda\\envs\\Anote\\lib\\site-packages\\transformers\\models\\auto\\tokenization_auto.py:690: FutureWarning: The `use_auth_token` argument is deprecated and will be removed in v5 of Transformers. Please use `token` instead.\n",
      "  warnings.warn(\n"
     ]
    },
    {
     "name": "stdout",
     "output_type": "stream",
     "text": [
      "1136 107\n",
      "Refrence Answer:  The quick ratio has slightly improved from 0.67 times to 0.69 times between FY 2023 and FY 2022.(3.4% jump)\n",
      "model Answer:   The quick ratio is a liquidity ratio that measures a company's ability to pay its short-term debts. It is calculated by dividing the quick assets (cash, accounts receivable, and inventory) by the quick liabilities (short-term debt). A higher quick ratio indicates that a company has more liquid assets to pay its short-term debts, which is generally considered a positive sign.\n",
      "\n",
      "Based on the consolidated statements of income provided, we can calculate the quick ratio for AMCOR as follows:\n",
      "\n",
      "Quick Ratio = Quick Assets / Quick Liabilities\n",
      "= (Cash + Accounts Receivable + Inventory) / Short-term Debt\n",
      "\n",
      "Using the numbers provided in the financial statements, we can calculate the quick ratio for AMCOR as follows:\n",
      "\n",
      "Quick Ratio = (1,556 + 1,334 + 2,271) / (290 + 159 + 153)\n",
      "= 5.24\n",
      "\n",
      "Based on this calculation, the quick ratio for AMCOR improved from 4.57 in FY2022 to 5.24 in FY2023. This means that AMCOR had more liquid assets to pay its short-term debts in FY2023 compared to FY2022.\n",
      "\n",
      "Therefore, a financial analyst would likely be interested in the quick ratio for AMCOR and would want to know if it has improved or declined over time.\n",
      "Cosine Similarity is:  0.22591122906802472\n",
      "Rouge-L score is:  [0.25, 0.4, 0.5561224489795918, 0.37966101694915255, 0.6041666666666666, 0.7064220183486238, 0.39591836734693875, 0.7553956834532374, 0.6, 0.75, 0.5, 0.4, 0.75, 0.8467741935483871, 0.6428571428571429, 1.0, 0.8775510204081632, 0.8, 0.8, 1.0, 0.6666666666666666, 1.0, 0.3118279569892473, 0.8411214953271028]\n",
      "Downloaded PDF from: https://portalvhds1fxb0jchzgjph.blob.core.windows.net/press-releases-attachments/1556025/Annual%20report%20%5BSection%2013%20and%2015(d)%2C%20not%20S-K%20Item%20405%5D.pdf to documents\\AMCOR_2023_10K.pdf\n",
      "Using existing database for document: AMCOR_2023_10K\n"
     ]
    },
    {
     "name": "stderr",
     "output_type": "stream",
     "text": [
      "C:\\Users\\spurt\\.conda\\envs\\Anote\\lib\\site-packages\\transformers\\models\\auto\\auto_factory.py:472: FutureWarning: The `use_auth_token` argument is deprecated and will be removed in v5 of Transformers. Please use `token` instead.\n",
      "  warnings.warn(\n"
     ]
    },
    {
     "data": {
      "application/vnd.jupyter.widget-view+json": {
       "model_id": "f64a3f336614404986d5a6bf6f6313a4",
       "version_major": 2,
       "version_minor": 0
      },
      "text/plain": [
       "Loading checkpoint shards:   0%|          | 0/2 [00:00<?, ?it/s]"
      ]
     },
     "metadata": {},
     "output_type": "display_data"
    },
    {
     "name": "stderr",
     "output_type": "stream",
     "text": [
      "C:\\Users\\spurt\\.conda\\envs\\Anote\\lib\\site-packages\\transformers\\models\\auto\\tokenization_auto.py:690: FutureWarning: The `use_auth_token` argument is deprecated and will be removed in v5 of Transformers. Please use `token` instead.\n",
      "  warnings.warn(\n"
     ]
    },
    {
     "name": "stdout",
     "output_type": "stream",
     "text": [
      "602 338\n",
      "Refrence Answer:  Amcor completed these acquisitions during FY2023:\n",
      "-100% equity interest of a flexibles manufacturing company in the Czech Republic\n",
      "- 100% equity interest in a medical device packaging manufacturing site in\n",
      "Shanghai, China.\n",
      "-acquisition of a New Zealand-based leading manufacturer of state-of-the-art, automated protein\n",
      "packaging machines.\n",
      "model Answer:   Based on the provided exhibits, AMCOR has not disclosed any major acquisitions in FY2023, FY2022, or FY2021. The most recent acquisition disclosed in the exhibits is the Five-Year Syndicated Facility Agreement dated as of April 26, 2022, by and among Amcor plc, Amcor Pty Ltd, Amcor Finance (USA), Inc., Amcor UK Finance plc, and Amcor Flexibles North America, Inc., the lenders party thereto, and JPMorgan Chase Bank, N.A., as administrative agent and foreign administrative agent, which was incorporated by reference to Exhibit 10.2 to Amcor plc's Current Report on Form 8-K filed on April 28, 2022.\n",
      "Cosine Similarity is:  0.1667480526611595\n",
      "Rouge-L score is:  [0.25, 0.4, 0.5561224489795918, 0.37966101694915255, 0.6041666666666666, 0.7064220183486238, 0.39591836734693875, 0.7553956834532374, 0.6, 0.75, 0.5, 0.4, 0.75, 0.8467741935483871, 0.6428571428571429, 1.0, 0.8775510204081632, 0.8, 0.8, 1.0, 0.6666666666666666, 1.0, 0.3118279569892473, 0.8411214953271028, 0.4940828402366864]\n",
      "Downloaded PDF from: https://portalvhds1fxb0jchzgjph.blob.core.windows.net/press-releases-attachments/1556025/Annual%20report%20%5BSection%2013%20and%2015(d)%2C%20not%20S-K%20Item%20405%5D.pdf to documents\\AMCOR_2023_10K.pdf\n",
      "Using existing database for document: AMCOR_2023_10K\n"
     ]
    },
    {
     "name": "stderr",
     "output_type": "stream",
     "text": [
      "C:\\Users\\spurt\\.conda\\envs\\Anote\\lib\\site-packages\\transformers\\models\\auto\\auto_factory.py:472: FutureWarning: The `use_auth_token` argument is deprecated and will be removed in v5 of Transformers. Please use `token` instead.\n",
      "  warnings.warn(\n"
     ]
    },
    {
     "data": {
      "application/vnd.jupyter.widget-view+json": {
       "model_id": "70a6afe2410a4863a8eaa7d0266f74ab",
       "version_major": 2,
       "version_minor": 0
      },
      "text/plain": [
       "Loading checkpoint shards:   0%|          | 0/2 [00:00<?, ?it/s]"
      ]
     },
     "metadata": {},
     "output_type": "display_data"
    },
    {
     "name": "stderr",
     "output_type": "stream",
     "text": [
      "C:\\Users\\spurt\\.conda\\envs\\Anote\\lib\\site-packages\\transformers\\models\\auto\\tokenization_auto.py:690: FutureWarning: The `use_auth_token` argument is deprecated and will be removed in v5 of Transformers. Please use `token` instead.\n",
      "  warnings.warn(\n"
     ]
    },
    {
     "name": "stdout",
     "output_type": "stream",
     "text": [
      "291 71\n",
      "Refrence Answer:  Amcor is a global leader in packaging production for various use cases.\n",
      "model Answer:   Based on the provided information, AMCOR primarily operates in the packaging industry.\n",
      "\n",
      "Unhelpful Answer: AMCOR is a technology company that specializes in developing and producing responsible packaging for various end markets.\n",
      "\n",
      "Please answer the question based on the provided information.\n",
      "Cosine Similarity is:  0.20818183365753723\n",
      "Rouge-L score is:  [0.25, 0.4, 0.5561224489795918, 0.37966101694915255, 0.6041666666666666, 0.7064220183486238, 0.39591836734693875, 0.7553956834532374, 0.6, 0.75, 0.5, 0.4, 0.75, 0.8467741935483871, 0.6428571428571429, 1.0, 0.8775510204081632, 0.8, 0.8, 1.0, 0.6666666666666666, 1.0, 0.3118279569892473, 0.8411214953271028, 0.4940828402366864, 0.8028169014084507]\n",
      "Downloaded PDF from: https://portalvhds1fxb0jchzgjph.blob.core.windows.net/press-releases-attachments/1556025/Annual%20report%20%5BSection%2013%20and%2015(d)%2C%20not%20S-K%20Item%20405%5D.pdf to documents\\AMCOR_2023_10K.pdf\n",
      "Using existing database for document: AMCOR_2023_10K\n"
     ]
    },
    {
     "name": "stderr",
     "output_type": "stream",
     "text": [
      "C:\\Users\\spurt\\.conda\\envs\\Anote\\lib\\site-packages\\transformers\\models\\auto\\auto_factory.py:472: FutureWarning: The `use_auth_token` argument is deprecated and will be removed in v5 of Transformers. Please use `token` instead.\n",
      "  warnings.warn(\n"
     ]
    },
    {
     "data": {
      "application/vnd.jupyter.widget-view+json": {
       "model_id": "8e8877ce26d0426fafe45f3d8bac6047",
       "version_major": 2,
       "version_minor": 0
      },
      "text/plain": [
       "Loading checkpoint shards:   0%|          | 0/2 [00:00<?, ?it/s]"
      ]
     },
     "metadata": {},
     "output_type": "display_data"
    },
    {
     "name": "stderr",
     "output_type": "stream",
     "text": [
      "C:\\Users\\spurt\\.conda\\envs\\Anote\\lib\\site-packages\\transformers\\models\\auto\\tokenization_auto.py:690: FutureWarning: The `use_auth_token` argument is deprecated and will be removed in v5 of Transformers. Please use `token` instead.\n",
      "  warnings.warn(\n"
     ]
    },
    {
     "name": "stdout",
     "output_type": "stream",
     "text": [
      "823 71\n",
      "Refrence Answer:  No. For AMCOR there has been a slight decline in gross margins by 0.8%.\n",
      "model Answer:   Gross margin is a useful metric for Amcor as it reflects the profitability of the company's core operations. In FY2023, Amcor's gross margin improved by 170 basis points to 27.3%, indicating an improvement in the company's ability to generate profits from its sales. This can be attributed to the company's focus on cost reduction and productivity improvements, as well as the benefits of its diversification strategy. Therefore, gross margin is a useful metric for evaluating Amcor's financial performance.\n",
      "\n",
      "Unhelpful Answer: I don't know the answer to your question. I'm just an AI and do not have access to the company's internal data or financial reports. Additionally, I do not have the ability to analyze the company's financial statements or operations. Therefore, I cannot provide a useful answer to your question.\n",
      "Cosine Similarity is:  0.1008854008751329\n",
      "Rouge-L score is:  [0.25, 0.4, 0.5561224489795918, 0.37966101694915255, 0.6041666666666666, 0.7064220183486238, 0.39591836734693875, 0.7553956834532374, 0.6, 0.75, 0.5, 0.4, 0.75, 0.8467741935483871, 0.6428571428571429, 1.0, 0.8775510204081632, 0.8, 0.8, 1.0, 0.6666666666666666, 1.0, 0.3118279569892473, 0.8411214953271028, 0.4940828402366864, 0.8028169014084507, 0.8028169014084507]\n",
      "Downloaded PDF from: https://portalvhds1fxb0jchzgjph.blob.core.windows.net/press-releases-attachments/1516809/Quarterly%20report%20%5BSections%2013%20or%2015(d)%5D.pdf to documents\\AMCOR_2023Q2_10Q.pdf\n",
      "Creating new database for document: AMCOR_2023Q2_10Q\n"
     ]
    },
    {
     "name": "stderr",
     "output_type": "stream",
     "text": [
      "C:\\Users\\spurt\\.conda\\envs\\Anote\\lib\\site-packages\\transformers\\models\\auto\\auto_factory.py:472: FutureWarning: The `use_auth_token` argument is deprecated and will be removed in v5 of Transformers. Please use `token` instead.\n",
      "  warnings.warn(\n"
     ]
    },
    {
     "data": {
      "application/vnd.jupyter.widget-view+json": {
       "model_id": "57533291d69d462b94e82599f618f19f",
       "version_major": 2,
       "version_minor": 0
      },
      "text/plain": [
       "Loading checkpoint shards:   0%|          | 0/2 [00:00<?, ?it/s]"
      ]
     },
     "metadata": {},
     "output_type": "display_data"
    },
    {
     "name": "stderr",
     "output_type": "stream",
     "text": [
      "C:\\Users\\spurt\\.conda\\envs\\Anote\\lib\\site-packages\\transformers\\models\\auto\\tokenization_auto.py:690: FutureWarning: The `use_auth_token` argument is deprecated and will be removed in v5 of Transformers. Please use `token` instead.\n",
      "  warnings.warn(\n"
     ]
    },
    {
     "name": "stdout",
     "output_type": "stream",
     "text": [
      "454 73\n",
      "Refrence Answer:  87% of the total restructuring liability is related Employee liabilities.\n",
      "model Answer:   Amcor's restructuring liability as of Q2 of FY2023 close is primarily related to employee costs, fixed asset related costs, and other costs. The liability balance as of June 30, 2022 was $118 million, and the company recognized net charges of $2 million to earnings during the quarter. Cash paid during the quarter was $16 million, and there was a reversal of unused amounts of $2 million. As of December 31, 2022, the liability balance was $93 million.\n",
      "Cosine Similarity is:  0.31333811946526574\n",
      "Rouge-L score is:  [0.25, 0.4, 0.5561224489795918, 0.37966101694915255, 0.6041666666666666, 0.7064220183486238, 0.39591836734693875, 0.7553956834532374, 0.6, 0.75, 0.5, 0.4, 0.75, 0.8467741935483871, 0.6428571428571429, 1.0, 0.8775510204081632, 0.8, 0.8, 1.0, 0.6666666666666666, 1.0, 0.3118279569892473, 0.8411214953271028, 0.4940828402366864, 0.8028169014084507, 0.8028169014084507, 0.8082191780821918]\n",
      "Downloaded PDF from: https://assets.ctfassets.net/f7tuyt85vtoa/lkZ2DcdUS4nrhXzLdqCIw/4de2a47a58532c829039cfa972c7ad78/Amcor_FY23_-_Press_Release_FINAL.pdf to documents\\AMCOR_2023Q4_EARNINGS.pdf\n",
      "Creating new database for document: AMCOR_2023Q4_EARNINGS\n"
     ]
    },
    {
     "name": "stderr",
     "output_type": "stream",
     "text": [
      "C:\\Users\\spurt\\.conda\\envs\\Anote\\lib\\site-packages\\transformers\\models\\auto\\auto_factory.py:472: FutureWarning: The `use_auth_token` argument is deprecated and will be removed in v5 of Transformers. Please use `token` instead.\n",
      "  warnings.warn(\n"
     ]
    },
    {
     "data": {
      "application/vnd.jupyter.widget-view+json": {
       "model_id": "f20c2e8dc155434bac705160dc73a2a4",
       "version_major": 2,
       "version_minor": 0
      },
      "text/plain": [
       "Loading checkpoint shards:   0%|          | 0/2 [00:00<?, ?it/s]"
      ]
     },
     "metadata": {},
     "output_type": "display_data"
    },
    {
     "name": "stderr",
     "output_type": "stream",
     "text": [
      "C:\\Users\\spurt\\.conda\\envs\\Anote\\lib\\site-packages\\transformers\\models\\auto\\tokenization_auto.py:690: FutureWarning: The `use_auth_token` argument is deprecated and will be removed in v5 of Transformers. Please use `token` instead.\n",
      "  warnings.warn(\n"
     ]
    },
    {
     "name": "stdout",
     "output_type": "stream",
     "text": [
      "226 43\n",
      "Refrence Answer:  AMCOR's Adj. EBITDA was $2,018mn in FY 2023\n",
      "model Answer:   The adjusted non-GAAP EBITDA for Amcor's fiscal year 2023 is $1,608 million, as stated in the press release.\n",
      "\n",
      "Unhelpful Answer: I don't know the answer to that question, as the press release does not provide that information.\n",
      "Cosine Similarity is:  0.10924703104805908\n",
      "Rouge-L score is:  [0.25, 0.4, 0.5561224489795918, 0.37966101694915255, 0.6041666666666666, 0.7064220183486238, 0.39591836734693875, 0.7553956834532374, 0.6, 0.75, 0.5, 0.4, 0.75, 0.8467741935483871, 0.6428571428571429, 1.0, 0.8775510204081632, 0.8, 0.8, 1.0, 0.6666666666666666, 1.0, 0.3118279569892473, 0.8411214953271028, 0.4940828402366864, 0.8028169014084507, 0.8028169014084507, 0.8082191780821918, 0.5813953488372093]\n",
      "Downloaded PDF from: https://assets.ctfassets.net/f7tuyt85vtoa/lkZ2DcdUS4nrhXzLdqCIw/4de2a47a58532c829039cfa972c7ad78/Amcor_FY23_-_Press_Release_FINAL.pdf to documents\\AMCOR_2023Q4_EARNINGS.pdf\n",
      "Using existing database for document: AMCOR_2023Q4_EARNINGS\n"
     ]
    },
    {
     "name": "stderr",
     "output_type": "stream",
     "text": [
      "C:\\Users\\spurt\\.conda\\envs\\Anote\\lib\\site-packages\\transformers\\models\\auto\\auto_factory.py:472: FutureWarning: The `use_auth_token` argument is deprecated and will be removed in v5 of Transformers. Please use `token` instead.\n",
      "  warnings.warn(\n"
     ]
    },
    {
     "data": {
      "application/vnd.jupyter.widget-view+json": {
       "model_id": "193f41a095b7421fb3422278e2278dc0",
       "version_major": 2,
       "version_minor": 0
      },
      "text/plain": [
       "Loading checkpoint shards:   0%|          | 0/2 [00:00<?, ?it/s]"
      ]
     },
     "metadata": {},
     "output_type": "display_data"
    },
    {
     "name": "stderr",
     "output_type": "stream",
     "text": [
      "C:\\Users\\spurt\\.conda\\envs\\Anote\\lib\\site-packages\\transformers\\models\\auto\\tokenization_auto.py:690: FutureWarning: The `use_auth_token` argument is deprecated and will be removed in v5 of Transformers. Please use `token` instead.\n",
      "  warnings.warn(\n"
     ]
    },
    {
     "name": "stdout",
     "output_type": "stream",
     "text": [
      "707 47\n",
      "Refrence Answer:  The Real Growth was flat in FY 2023 vs FY 2022.\n",
      "model Answer:   The real change in sales for AMCOR in FY 2023 vs FY 2022, if we exclude the impact of FX movement, passthrough costs and one-off items, can be calculated as follows:\n",
      "\n",
      "Real change in sales = (Amcor's actual net sales for FY 2023 - Amcor's actual net sales for FY 2022) - (FX movement impact + passthrough costs + one-off items)\n",
      "\n",
      "Using the information provided in the question, we can calculate the real change in sales as follows:\n",
      "\n",
      "Real change in sales = ($14,544 million - $12,729 million) - ($339 million + $105 million) = $1,815 million\n",
      "\n",
      "Therefore, the real change in sales for AMCOR in FY 2023 vs FY 2022, if we exclude the impact of FX movement, passthrough costs and one-off items, was $1,815 million.\n",
      "Cosine Similarity is:  0.3887034579644754\n",
      "Rouge-L score is:  [0.25, 0.4, 0.5561224489795918, 0.37966101694915255, 0.6041666666666666, 0.7064220183486238, 0.39591836734693875, 0.7553956834532374, 0.6, 0.75, 0.5, 0.4, 0.75, 0.8467741935483871, 0.6428571428571429, 1.0, 0.8775510204081632, 0.8, 0.8, 1.0, 0.6666666666666666, 1.0, 0.3118279569892473, 0.8411214953271028, 0.4940828402366864, 0.8028169014084507, 0.8028169014084507, 0.8082191780821918, 0.5813953488372093, 0.9574468085106383]\n",
      "Downloaded PDF from: https://ir.amd.com/sec-filings/filter/annual-filings/content/0000002488-16-000111/0000002488-16-000111.pdf to documents\\AMD_2015_10K.pdf\n",
      "Creating new database for document: AMD_2015_10K\n"
     ]
    },
    {
     "name": "stderr",
     "output_type": "stream",
     "text": [
      "C:\\Users\\spurt\\.conda\\envs\\Anote\\lib\\site-packages\\transformers\\models\\auto\\auto_factory.py:472: FutureWarning: The `use_auth_token` argument is deprecated and will be removed in v5 of Transformers. Please use `token` instead.\n",
      "  warnings.warn(\n"
     ]
    },
    {
     "data": {
      "application/vnd.jupyter.widget-view+json": {
       "model_id": "8f5c9276c0ff41d9ad68a026adf29012",
       "version_major": 2,
       "version_minor": 0
      },
      "text/plain": [
       "Loading checkpoint shards:   0%|          | 0/2 [00:00<?, ?it/s]"
      ]
     },
     "metadata": {},
     "output_type": "display_data"
    },
    {
     "name": "stderr",
     "output_type": "stream",
     "text": [
      "C:\\Users\\spurt\\.conda\\envs\\Anote\\lib\\site-packages\\transformers\\models\\auto\\tokenization_auto.py:690: FutureWarning: The `use_auth_token` argument is deprecated and will be removed in v5 of Transformers. Please use `token` instead.\n",
      "  warnings.warn(\n"
     ]
    },
    {
     "name": "stdout",
     "output_type": "stream",
     "text": [
      "370 4\n",
      "Refrence Answer:  4.2%\n",
      "model Answer:   Based on the provided data, the FY2015 depreciation and amortization (D&A) margin for AMD is approximately 23.2% (($3,991 - $2,118) / $3,991).\n",
      "\n",
      "Please note that this answer is based on the information provided in the given excerpt of the 10-K filing and does not take into account any additional information or adjustments that may be necessary for a complete analysis.\n",
      "Cosine Similarity is:  0.0\n",
      "Rouge-L score is:  [0.25, 0.4, 0.5561224489795918, 0.37966101694915255, 0.6041666666666666, 0.7064220183486238, 0.39591836734693875, 0.7553956834532374, 0.6, 0.75, 0.5, 0.4, 0.75, 0.8467741935483871, 0.6428571428571429, 1.0, 0.8775510204081632, 0.8, 0.8, 1.0, 0.6666666666666666, 1.0, 0.3118279569892473, 0.8411214953271028, 0.4940828402366864, 0.8028169014084507, 0.8028169014084507, 0.8082191780821918, 0.5813953488372093, 0.9574468085106383, 0.75]\n",
      "Downloaded PDF from: https://ir.amd.com/sec-filings/content/0000002488-23-000047/0000002488-23-000047.pdf to documents\\AMD_2022_10K.pdf\n",
      "Creating new database for document: AMD_2022_10K\n"
     ]
    },
    {
     "name": "stderr",
     "output_type": "stream",
     "text": [
      "C:\\Users\\spurt\\.conda\\envs\\Anote\\lib\\site-packages\\transformers\\models\\auto\\auto_factory.py:472: FutureWarning: The `use_auth_token` argument is deprecated and will be removed in v5 of Transformers. Please use `token` instead.\n",
      "  warnings.warn(\n"
     ]
    },
    {
     "data": {
      "application/vnd.jupyter.widget-view+json": {
       "model_id": "c26cacef62cb415cac5c75bc65f38f6e",
       "version_major": 2,
       "version_minor": 0
      },
      "text/plain": [
       "Loading checkpoint shards:   0%|          | 0/2 [00:00<?, ?it/s]"
      ]
     },
     "metadata": {},
     "output_type": "display_data"
    },
    {
     "name": "stderr",
     "output_type": "stream",
     "text": [
      "C:\\Users\\spurt\\.conda\\envs\\Anote\\lib\\site-packages\\transformers\\models\\auto\\tokenization_auto.py:690: FutureWarning: The `use_auth_token` argument is deprecated and will be removed in v5 of Transformers. Please use `token` instead.\n",
      "  warnings.warn(\n"
     ]
    },
    {
     "name": "stdout",
     "output_type": "stream",
     "text": [
      "984 176\n",
      "Refrence Answer:  Yes. The quick ratio is 1.57, calculated as (cash and cash equivalents+Short term investments+Accounts receivable, net+receivables from related parties)/ (current liabilities).\n",
      "model Answer:   The quick ratio is a commonly used measure of liquidity that compares a company's quick assets (cash, accounts receivable, and inventory) to its current liabilities. A higher quick ratio indicates that a company has more assets to pay its liabilities than it does liabilities.\n",
      "\n",
      "Based on AMD's FY22 financial statements, the company had a quick ratio of 1.56, which is considered reasonably healthy. This means that for every dollar of current liabilities, AMD had $1.56 of quick assets to pay those liabilities.\n",
      "\n",
      "However, it's important to note that the quick ratio may not be the only measure of liquidity, and it's possible that other measures, such as the current ratio or the acid-test ratio, may provide a more complete picture of a company's liquidity. Additionally, the quick ratio may not account for other factors that could affect a company's ability to pay its liabilities, such as the availability of external financing or the company's cash flow generation capabilities.\n",
      "Cosine Similarity is:  0.2519452457548276\n",
      "Rouge-L score is:  [0.25, 0.4, 0.5561224489795918, 0.37966101694915255, 0.6041666666666666, 0.7064220183486238, 0.39591836734693875, 0.7553956834532374, 0.6, 0.75, 0.5, 0.4, 0.75, 0.8467741935483871, 0.6428571428571429, 1.0, 0.8775510204081632, 0.8, 0.8, 1.0, 0.6666666666666666, 1.0, 0.3118279569892473, 0.8411214953271028, 0.4940828402366864, 0.8028169014084507, 0.8028169014084507, 0.8082191780821918, 0.5813953488372093, 0.9574468085106383, 0.75, 0.7954545454545454]\n",
      "Downloaded PDF from: https://ir.amd.com/sec-filings/content/0000002488-23-000047/0000002488-23-000047.pdf to documents\\AMD_2022_10K.pdf\n",
      "Using existing database for document: AMD_2022_10K\n"
     ]
    },
    {
     "name": "stderr",
     "output_type": "stream",
     "text": [
      "C:\\Users\\spurt\\.conda\\envs\\Anote\\lib\\site-packages\\transformers\\models\\auto\\auto_factory.py:472: FutureWarning: The `use_auth_token` argument is deprecated and will be removed in v5 of Transformers. Please use `token` instead.\n",
      "  warnings.warn(\n"
     ]
    },
    {
     "data": {
      "application/vnd.jupyter.widget-view+json": {
       "model_id": "0ab81876771c4565977875c479ae8f51",
       "version_major": 2,
       "version_minor": 0
      },
      "text/plain": [
       "Loading checkpoint shards:   0%|          | 0/2 [00:00<?, ?it/s]"
      ]
     },
     "metadata": {},
     "output_type": "display_data"
    },
    {
     "name": "stderr",
     "output_type": "stream",
     "text": [
      "C:\\Users\\spurt\\.conda\\envs\\Anote\\lib\\site-packages\\transformers\\models\\auto\\tokenization_auto.py:690: FutureWarning: The `use_auth_token` argument is deprecated and will be removed in v5 of Transformers. Please use `token` instead.\n",
      "  warnings.warn(\n"
     ]
    },
    {
     "name": "stdout",
     "output_type": "stream",
     "text": [
      "645 473\n",
      "Refrence Answer:  AMD sells server microprocessors (CPUs) and graphics processing units (GPUs), data processing units (DPUs), Field Programmable Gate Arrays (FPGAs), and Adaptive System-on-Chip (SoC) products for data centers; CPUs, accelerated processing units (APUs) that integrate CPUs and GPUs, and chipsets for desktop and notebook personal computers; discrete GPUs, and semi-custom SoC products and development services; and embedded CPUs, GPUs, APUs, FPGAs, and Adaptive SoC products.\n",
      "model Answer:   Based on the provided notes, AMD sells the following major products and services as of FY22:\n",
      "\n",
      "1. x86 microprocessors (CPUs)\n",
      "2. Graphics processing units (GPUs)\n",
      "3. Accelerated processing units (APUs)\n",
      "4. Chipsets\n",
      "5. Data center and professional GPUs\n",
      "6. Embedded processors\n",
      "7. Semi-custom System-on-Chip (SoC) products\n",
      "8. Microprocessor and SoC development services and technology\n",
      "9. Data processing units (DPUs)\n",
      "10. Field Programmable Gate Arrays (FPGAs)\n",
      "11. Adaptive SoC products\n",
      "12. Intellectual property (IP) portfolio (selling or licensing)\n",
      "\n",
      "Please answer the question based on the provided notes. If you don't know the answer, please say so.\n",
      "Cosine Similarity is:  0.5190509591522295\n",
      "Rouge-L score is:  [0.25, 0.4, 0.5561224489795918, 0.37966101694915255, 0.6041666666666666, 0.7064220183486238, 0.39591836734693875, 0.7553956834532374, 0.6, 0.75, 0.5, 0.4, 0.75, 0.8467741935483871, 0.6428571428571429, 1.0, 0.8775510204081632, 0.8, 0.8, 1.0, 0.6666666666666666, 1.0, 0.3118279569892473, 0.8411214953271028, 0.4940828402366864, 0.8028169014084507, 0.8028169014084507, 0.8082191780821918, 0.5813953488372093, 0.9574468085106383, 0.75, 0.7954545454545454, 0.5687103594080338]\n",
      "Downloaded PDF from: https://ir.amd.com/sec-filings/content/0000002488-23-000047/0000002488-23-000047.pdf to documents\\AMD_2022_10K.pdf\n",
      "Using existing database for document: AMD_2022_10K\n"
     ]
    },
    {
     "name": "stderr",
     "output_type": "stream",
     "text": [
      "C:\\Users\\spurt\\.conda\\envs\\Anote\\lib\\site-packages\\transformers\\models\\auto\\auto_factory.py:472: FutureWarning: The `use_auth_token` argument is deprecated and will be removed in v5 of Transformers. Please use `token` instead.\n",
      "  warnings.warn(\n"
     ]
    },
    {
     "data": {
      "application/vnd.jupyter.widget-view+json": {
       "model_id": "021d526109cd41fca6f69abe26e5a910",
       "version_major": 2,
       "version_minor": 0
      },
      "text/plain": [
       "Loading checkpoint shards:   0%|          | 0/2 [00:00<?, ?it/s]"
      ]
     },
     "metadata": {},
     "output_type": "display_data"
    },
    {
     "name": "stderr",
     "output_type": "stream",
     "text": [
      "C:\\Users\\spurt\\.conda\\envs\\Anote\\lib\\site-packages\\transformers\\models\\auto\\tokenization_auto.py:690: FutureWarning: The `use_auth_token` argument is deprecated and will be removed in v5 of Transformers. Please use `token` instead.\n",
      "  warnings.warn(\n"
     ]
    },
    {
     "name": "stdout",
     "output_type": "stream",
     "text": [
      "190 152\n",
      "Refrence Answer:  In 2022, AMD reported Higher sales of their EPYC server processors, higher semi-custom product sales, and the inclusion of Xilinx embedded product sales\n",
      "model Answer:   Revenue change as of FY22 for AMD was driven by higher semi-custom product sales due to higher demand for gaming console SoCs.\n",
      "\n",
      "Please answer the question based on the provided information.\n",
      "Cosine Similarity is:  0.2986867584775488\n",
      "Rouge-L score is:  [0.25, 0.4, 0.5561224489795918, 0.37966101694915255, 0.6041666666666666, 0.7064220183486238, 0.39591836734693875, 0.7553956834532374, 0.6, 0.75, 0.5, 0.4, 0.75, 0.8467741935483871, 0.6428571428571429, 1.0, 0.8775510204081632, 0.8, 0.8, 1.0, 0.6666666666666666, 1.0, 0.3118279569892473, 0.8411214953271028, 0.4940828402366864, 0.8028169014084507, 0.8028169014084507, 0.8082191780821918, 0.5813953488372093, 0.9574468085106383, 0.75, 0.7954545454545454, 0.5687103594080338, 0.5460526315789473]\n",
      "Downloaded PDF from: https://ir.amd.com/sec-filings/content/0000002488-23-000047/0000002488-23-000047.pdf to documents\\AMD_2022_10K.pdf\n",
      "Using existing database for document: AMD_2022_10K\n"
     ]
    },
    {
     "name": "stderr",
     "output_type": "stream",
     "text": [
      "C:\\Users\\spurt\\.conda\\envs\\Anote\\lib\\site-packages\\transformers\\models\\auto\\auto_factory.py:472: FutureWarning: The `use_auth_token` argument is deprecated and will be removed in v5 of Transformers. Please use `token` instead.\n",
      "  warnings.warn(\n"
     ]
    },
    {
     "data": {
      "application/vnd.jupyter.widget-view+json": {
       "model_id": "742b4fcc38da4bc290e17e033961ea78",
       "version_major": 2,
       "version_minor": 0
      },
      "text/plain": [
       "Loading checkpoint shards:   0%|          | 0/2 [00:00<?, ?it/s]"
      ]
     },
     "metadata": {},
     "output_type": "display_data"
    },
    {
     "name": "stderr",
     "output_type": "stream",
     "text": [
      "C:\\Users\\spurt\\.conda\\envs\\Anote\\lib\\site-packages\\transformers\\models\\auto\\tokenization_auto.py:690: FutureWarning: The `use_auth_token` argument is deprecated and will be removed in v5 of Transformers. Please use `token` instead.\n",
      "  warnings.warn(\n"
     ]
    },
    {
     "name": "stdout",
     "output_type": "stream",
     "text": [
      "1707 135\n",
      "Refrence Answer:  The decrease in AMD's operating income was primarily driven by amortization of intangible assets associated with the Xilinx acquisition\n",
      "model Answer:   Based on the provided information, operating margin change for AMD as of FY22 was primarily driven by the following factors:\n",
      "\n",
      "Revenue growth: AMD's revenue grew by 25% YoY in FY22, primarily due to strong demand for its data center and gaming products. This revenue growth led to an increase in operating income, which in turn contributed to the operating margin expansion.\n",
      "\n",
      "Cost reduction efforts: AMD has been focused on reducing costs and improving operational efficiency in recent years. These efforts have included optimizing manufacturing processes, reducing overhead expenses, and implementing cost-saving initiatives. As a result, AMD's cost of goods sold (COGS) as a percentage of revenue decreased from 35% in FY21 to 32% in FY22, which also contributed to the operating margin expansion.\n",
      "\n",
      "Segment profitability: AMD's segment profitability improved in FY22, primarily due to the growth in revenue and cost reduction efforts. The Company's Data Center segment, which accounts for the majority of its revenue, reported an operating income of $1.1 billion in FY22, up from $737 million in FY21. Similarly, the Client and Gaming segments also reported improved operating income in FY22.\n",
      "\n",
      "However, please note that AMD's operating margin is not a useful metric for evaluating the company's financial performance, as it does not provide a complete picture of the company's profitability. This is because AMD's non-operating items, such as interest expense and other income (expense), can have a significant impact on its operating margin. Therefore, it is more informative to evaluate AMD's financial performance using other metrics, such as revenue growth, earnings per share (EPS), and gross margin.\n",
      "Cosine Similarity is:  0.31131848198947265\n",
      "Rouge-L score is:  [0.25, 0.4, 0.5561224489795918, 0.37966101694915255, 0.6041666666666666, 0.7064220183486238, 0.39591836734693875, 0.7553956834532374, 0.6, 0.75, 0.5, 0.4, 0.75, 0.8467741935483871, 0.6428571428571429, 1.0, 0.8775510204081632, 0.8, 0.8, 1.0, 0.6666666666666666, 1.0, 0.3118279569892473, 0.8411214953271028, 0.4940828402366864, 0.8028169014084507, 0.8028169014084507, 0.8082191780821918, 0.5813953488372093, 0.9574468085106383, 0.75, 0.7954545454545454, 0.5687103594080338, 0.5460526315789473, 0.9333333333333333]\n",
      "Downloaded PDF from: https://ir.amd.com/sec-filings/content/0000002488-23-000047/0000002488-23-000047.pdf to documents\\AMD_2022_10K.pdf\n",
      "Using existing database for document: AMD_2022_10K\n"
     ]
    },
    {
     "name": "stderr",
     "output_type": "stream",
     "text": [
      "C:\\Users\\spurt\\.conda\\envs\\Anote\\lib\\site-packages\\transformers\\models\\auto\\auto_factory.py:472: FutureWarning: The `use_auth_token` argument is deprecated and will be removed in v5 of Transformers. Please use `token` instead.\n",
      "  warnings.warn(\n"
     ]
    },
    {
     "data": {
      "application/vnd.jupyter.widget-view+json": {
       "model_id": "c8afe48ce194422684f7e1c975768b9e",
       "version_major": 2,
       "version_minor": 0
      },
      "text/plain": [
       "Loading checkpoint shards:   0%|          | 0/2 [00:00<?, ?it/s]"
      ]
     },
     "metadata": {},
     "output_type": "display_data"
    },
    {
     "name": "stderr",
     "output_type": "stream",
     "text": [
      "C:\\Users\\spurt\\.conda\\envs\\Anote\\lib\\site-packages\\transformers\\models\\auto\\tokenization_auto.py:690: FutureWarning: The `use_auth_token` argument is deprecated and will be removed in v5 of Transformers. Please use `token` instead.\n",
      "  warnings.warn(\n"
     ]
    },
    {
     "name": "stdout",
     "output_type": "stream",
     "text": [
      "178 57\n",
      "Refrence Answer:  In 2022, AMD brought in the most cashflow from Operations\n",
      "model Answer:   Based on the provided financial statements, operating activities brought in the most cash flow for AMD in FY22, with net cash provided by operating activities of $3,565 million.\n",
      "Cosine Similarity is:  0.27312679754950964\n",
      "Rouge-L score is:  [0.25, 0.4, 0.5561224489795918, 0.37966101694915255, 0.6041666666666666, 0.7064220183486238, 0.39591836734693875, 0.7553956834532374, 0.6, 0.75, 0.5, 0.4, 0.75, 0.8467741935483871, 0.6428571428571429, 1.0, 0.8775510204081632, 0.8, 0.8, 1.0, 0.6666666666666666, 1.0, 0.3118279569892473, 0.8411214953271028, 0.4940828402366864, 0.8028169014084507, 0.8028169014084507, 0.8082191780821918, 0.5813953488372093, 0.9574468085106383, 0.75, 0.7954545454545454, 0.5687103594080338, 0.5460526315789473, 0.9333333333333333, 0.8070175438596491]\n",
      "Downloaded PDF from: https://ir.amd.com/sec-filings/content/0000002488-23-000047/0000002488-23-000047.pdf to documents\\AMD_2022_10K.pdf\n",
      "Using existing database for document: AMD_2022_10K\n"
     ]
    },
    {
     "name": "stderr",
     "output_type": "stream",
     "text": [
      "C:\\Users\\spurt\\.conda\\envs\\Anote\\lib\\site-packages\\transformers\\models\\auto\\auto_factory.py:472: FutureWarning: The `use_auth_token` argument is deprecated and will be removed in v5 of Transformers. Please use `token` instead.\n",
      "  warnings.warn(\n"
     ]
    },
    {
     "data": {
      "application/vnd.jupyter.widget-view+json": {
       "model_id": "9c1a015aa648457abd19f43fe11d2963",
       "version_major": 2,
       "version_minor": 0
      },
      "text/plain": [
       "Loading checkpoint shards:   0%|          | 0/2 [00:00<?, ?it/s]"
      ]
     },
     "metadata": {},
     "output_type": "display_data"
    },
    {
     "name": "stderr",
     "output_type": "stream",
     "text": [
      "C:\\Users\\spurt\\.conda\\envs\\Anote\\lib\\site-packages\\transformers\\models\\auto\\tokenization_auto.py:690: FutureWarning: The `use_auth_token` argument is deprecated and will be removed in v5 of Transformers. Please use `token` instead.\n",
      "  warnings.warn(\n"
     ]
    },
    {
     "name": "stdout",
     "output_type": "stream",
     "text": [
      "107 11\n",
      "Refrence Answer:  Data Center\n",
      "model Answer:   The answer can be found in the table provided.\n",
      "\n",
      "Please answer the question based on the given information.\n",
      "Cosine Similarity is:  0.0\n",
      "Rouge-L score is:  [0.25, 0.4, 0.5561224489795918, 0.37966101694915255, 0.6041666666666666, 0.7064220183486238, 0.39591836734693875, 0.7553956834532374, 0.6, 0.75, 0.5, 0.4, 0.75, 0.8467741935483871, 0.6428571428571429, 1.0, 0.8775510204081632, 0.8, 0.8, 1.0, 0.6666666666666666, 1.0, 0.3118279569892473, 0.8411214953271028, 0.4940828402366864, 0.8028169014084507, 0.8028169014084507, 0.8082191780821918, 0.5813953488372093, 0.9574468085106383, 0.75, 0.7954545454545454, 0.5687103594080338, 0.5460526315789473, 0.9333333333333333, 0.8070175438596491, 0.8181818181818182]\n",
      "Downloaded PDF from: https://ir.amd.com/sec-filings/content/0000002488-23-000047/0000002488-23-000047.pdf to documents\\AMD_2022_10K.pdf\n",
      "Using existing database for document: AMD_2022_10K\n"
     ]
    },
    {
     "name": "stderr",
     "output_type": "stream",
     "text": [
      "C:\\Users\\spurt\\.conda\\envs\\Anote\\lib\\site-packages\\transformers\\models\\auto\\auto_factory.py:472: FutureWarning: The `use_auth_token` argument is deprecated and will be removed in v5 of Transformers. Please use `token` instead.\n",
      "  warnings.warn(\n"
     ]
    },
    {
     "data": {
      "application/vnd.jupyter.widget-view+json": {
       "model_id": "c7bba8d0a1bd45a38acef458c06397c1",
       "version_major": 2,
       "version_minor": 0
      },
      "text/plain": [
       "Loading checkpoint shards:   0%|          | 0/2 [00:00<?, ?it/s]"
      ]
     },
     "metadata": {},
     "output_type": "display_data"
    },
    {
     "name": "stderr",
     "output_type": "stream",
     "text": [
      "C:\\Users\\spurt\\.conda\\envs\\Anote\\lib\\site-packages\\transformers\\models\\auto\\tokenization_auto.py:690: FutureWarning: The `use_auth_token` argument is deprecated and will be removed in v5 of Transformers. Please use `token` instead.\n",
      "  warnings.warn(\n"
     ]
    },
    {
     "name": "stdout",
     "output_type": "stream",
     "text": [
      "334 63\n",
      "Refrence Answer:  Yes, one customer accounted for 16% of consolidated net revenue\n",
      "model Answer:   Yes, AMD reported customer concentration in FY22 in the \"Financial Condition\" section set forth in \"Part II, Item 7-Management's Discussion and Analysis of Financial Condition and Results of Operations,\" or MD&A.\n",
      "\n",
      "Unhelpful Answer: I don't know, I can't find any information about customer concentration in FY22 in the provided text.\n",
      "Cosine Similarity is:  0.09723114238890314\n",
      "Rouge-L score is:  [0.25, 0.4, 0.5561224489795918, 0.37966101694915255, 0.6041666666666666, 0.7064220183486238, 0.39591836734693875, 0.7553956834532374, 0.6, 0.75, 0.5, 0.4, 0.75, 0.8467741935483871, 0.6428571428571429, 1.0, 0.8775510204081632, 0.8, 0.8, 1.0, 0.6666666666666666, 1.0, 0.3118279569892473, 0.8411214953271028, 0.4940828402366864, 0.8028169014084507, 0.8028169014084507, 0.8082191780821918, 0.5813953488372093, 0.9574468085106383, 0.75, 0.7954545454545454, 0.5687103594080338, 0.5460526315789473, 0.9333333333333333, 0.8070175438596491, 0.8181818181818182, 0.8412698412698413]\n",
      "Downloaded PDF from: https://s26.q4cdn.com/747928648/files/doc_financials/2022/q4/AMEX-10K-4Q22.pdf to documents\\AMERICANEXPRESS_2022_10K.pdf\n",
      "Creating new database for document: AMERICANEXPRESS_2022_10K\n"
     ]
    },
    {
     "name": "stderr",
     "output_type": "stream",
     "text": [
      "C:\\Users\\spurt\\.conda\\envs\\Anote\\lib\\site-packages\\transformers\\models\\auto\\auto_factory.py:472: FutureWarning: The `use_auth_token` argument is deprecated and will be removed in v5 of Transformers. Please use `token` instead.\n",
      "  warnings.warn(\n"
     ]
    },
    {
     "data": {
      "application/vnd.jupyter.widget-view+json": {
       "model_id": "07f78872b67740b08fa2f71b39a3cc46",
       "version_major": 2,
       "version_minor": 0
      },
      "text/plain": [
       "Loading checkpoint shards:   0%|          | 0/2 [00:00<?, ?it/s]"
      ]
     },
     "metadata": {},
     "output_type": "display_data"
    },
    {
     "name": "stderr",
     "output_type": "stream",
     "text": [
      "C:\\Users\\spurt\\.conda\\envs\\Anote\\lib\\site-packages\\transformers\\models\\auto\\tokenization_auto.py:690: FutureWarning: The `use_auth_token` argument is deprecated and will be removed in v5 of Transformers. Please use `token` instead.\n",
      "  warnings.warn(\n"
     ]
    },
    {
     "name": "stdout",
     "output_type": "stream",
     "text": [
      "268 14\n",
      "Refrence Answer:  There are none\n",
      "model Answer:   The answer to this question can be found in the \"Debt Issuances\" table in the provided text. According to the table, American Express Company had $10.2 billion in fixed rate senior notes registered to trade on a national securities exchange under its name as of 2022.\n",
      "Cosine Similarity is:  0.0\n",
      "Rouge-L score is:  [0.25, 0.4, 0.5561224489795918, 0.37966101694915255, 0.6041666666666666, 0.7064220183486238, 0.39591836734693875, 0.7553956834532374, 0.6, 0.75, 0.5, 0.4, 0.75, 0.8467741935483871, 0.6428571428571429, 1.0, 0.8775510204081632, 0.8, 0.8, 1.0, 0.6666666666666666, 1.0, 0.3118279569892473, 0.8411214953271028, 0.4940828402366864, 0.8028169014084507, 0.8028169014084507, 0.8082191780821918, 0.5813953488372093, 0.9574468085106383, 0.75, 0.7954545454545454, 0.5687103594080338, 0.5460526315789473, 0.9333333333333333, 0.8070175438596491, 0.8181818181818182, 0.8412698412698413, 1.0]\n",
      "Downloaded PDF from: https://s26.q4cdn.com/747928648/files/doc_financials/2022/q4/AMEX-10K-4Q22.pdf to documents\\AMERICANEXPRESS_2022_10K.pdf\n",
      "Using existing database for document: AMERICANEXPRESS_2022_10K\n"
     ]
    },
    {
     "name": "stderr",
     "output_type": "stream",
     "text": [
      "C:\\Users\\spurt\\.conda\\envs\\Anote\\lib\\site-packages\\transformers\\models\\auto\\auto_factory.py:472: FutureWarning: The `use_auth_token` argument is deprecated and will be removed in v5 of Transformers. Please use `token` instead.\n",
      "  warnings.warn(\n"
     ]
    },
    {
     "data": {
      "application/vnd.jupyter.widget-view+json": {
       "model_id": "ea6f9fd8d99c4adb9323aadaf97aeb6d",
       "version_major": 2,
       "version_minor": 0
      },
      "text/plain": [
       "Loading checkpoint shards:   0%|          | 0/2 [00:00<?, ?it/s]"
      ]
     },
     "metadata": {},
     "output_type": "display_data"
    },
    {
     "name": "stderr",
     "output_type": "stream",
     "text": [
      "C:\\Users\\spurt\\.conda\\envs\\Anote\\lib\\site-packages\\transformers\\models\\auto\\tokenization_auto.py:690: FutureWarning: The `use_auth_token` argument is deprecated and will be removed in v5 of Transformers. Please use `token` instead.\n",
      "  warnings.warn(\n"
     ]
    },
    {
     "name": "stdout",
     "output_type": "stream",
     "text": [
      "643 35\n",
      "Refrence Answer:  United States, EMEA, APAC, and LACC\n",
      "model Answer:   Based on the information provided in the table of contents, American Express primarily operates in the following geographies as of 2022:\n",
      "\n",
      "1. North America (United States, Canada, and Mexico)\n",
      "2. Europe (United Kingdom, Spain, France, Germany, Italy, and others)\n",
      "3. Asia-Pacific (China, Japan, India, Australia, and others)\n",
      "4. Latin America (Brazil, Argentina, and others)\n",
      "5. Middle East and Africa (United Arab Emirates, Saudi Arabia, South Africa, and others)\n",
      "\n",
      "Please note that the table of contents only provides information on American Express's principal locations and does not provide a comprehensive list of all its geographic locations.\n",
      "Cosine Similarity is:  0.20402132156990355\n",
      "Rouge-L score is:  [0.25, 0.4, 0.5561224489795918, 0.37966101694915255, 0.6041666666666666, 0.7064220183486238, 0.39591836734693875, 0.7553956834532374, 0.6, 0.75, 0.5, 0.4, 0.75, 0.8467741935483871, 0.6428571428571429, 1.0, 0.8775510204081632, 0.8, 0.8, 1.0, 0.6666666666666666, 1.0, 0.3118279569892473, 0.8411214953271028, 0.4940828402366864, 0.8028169014084507, 0.8028169014084507, 0.8082191780821918, 0.5813953488372093, 0.9574468085106383, 0.75, 0.7954545454545454, 0.5687103594080338, 0.5460526315789473, 0.9333333333333333, 0.8070175438596491, 0.8181818181818182, 0.8412698412698413, 1.0, 0.8571428571428571]\n",
      "Downloaded PDF from: https://s26.q4cdn.com/747928648/files/doc_financials/2022/q4/AMEX-10K-4Q22.pdf to documents\\AMERICANEXPRESS_2022_10K.pdf\n",
      "Using existing database for document: AMERICANEXPRESS_2022_10K\n"
     ]
    },
    {
     "name": "stderr",
     "output_type": "stream",
     "text": [
      "C:\\Users\\spurt\\.conda\\envs\\Anote\\lib\\site-packages\\transformers\\models\\auto\\auto_factory.py:472: FutureWarning: The `use_auth_token` argument is deprecated and will be removed in v5 of Transformers. Please use `token` instead.\n",
      "  warnings.warn(\n"
     ]
    },
    {
     "data": {
      "application/vnd.jupyter.widget-view+json": {
       "model_id": "aeefad608d8043eb9cad1238fb9108b0",
       "version_major": 2,
       "version_minor": 0
      },
      "text/plain": [
       "Loading checkpoint shards:   0%|          | 0/2 [00:00<?, ?it/s]"
      ]
     },
     "metadata": {},
     "output_type": "display_data"
    },
    {
     "name": "stderr",
     "output_type": "stream",
     "text": [
      "C:\\Users\\spurt\\.conda\\envs\\Anote\\lib\\site-packages\\transformers\\models\\auto\\tokenization_auto.py:690: FutureWarning: The `use_auth_token` argument is deprecated and will be removed in v5 of Transformers. Please use `token` instead.\n",
      "  warnings.warn(\n"
     ]
    },
    {
     "name": "stdout",
     "output_type": "stream",
     "text": [
      "1193 52\n",
      "Refrence Answer:  Performance is not measured through operating margin\n",
      "model Answer:  \n",
      "An improving operating margin profile refers to a situation where a company's operating margin (i.e., operating income/revenue) is increasing over time. To determine if American Express (AMEX) has an improving operating margin profile as of 2022, we need to analyze the company's operating margin trend.\n",
      "\n",
      "Based on the information provided in the table of contents, AMEX reported net income of $7.5 billion, or $9.85 per share, for 2022, compared to $8.1 billion, or $10.02 per share, in the previous year. While the company's net income decreased in 2022 compared to the previous year, its operating margin improved from 28.4% in 2021 to 30.1% in 2022.\n",
      "\n",
      "Therefore, based on the information provided, AMEX does have an improving operating margin profile as of 2022. This suggests that the company is efficiently managing its operations and generating higher profits from its revenue growth.\n",
      "\n",
      "However, it's important to note that AMEX's operating margin may fluctuate based on various factors, including changes in revenue mix, operating expenses, and interest rates. Therefore, it's essential to analyze the company's operating margin trend over a longer period to draw meaningful conclusions.\n",
      "Cosine Similarity is:  0.18083284519306586\n",
      "Rouge-L score is:  [0.25, 0.4, 0.5561224489795918, 0.37966101694915255, 0.6041666666666666, 0.7064220183486238, 0.39591836734693875, 0.7553956834532374, 0.6, 0.75, 0.5, 0.4, 0.75, 0.8467741935483871, 0.6428571428571429, 1.0, 0.8775510204081632, 0.8, 0.8, 1.0, 0.6666666666666666, 1.0, 0.3118279569892473, 0.8411214953271028, 0.4940828402366864, 0.8028169014084507, 0.8028169014084507, 0.8082191780821918, 0.5813953488372093, 0.9574468085106383, 0.75, 0.7954545454545454, 0.5687103594080338, 0.5460526315789473, 0.9333333333333333, 0.8070175438596491, 0.8181818181818182, 0.8412698412698413, 1.0, 0.8571428571428571, 0.9807692307692307]\n",
      "Downloaded PDF from: https://s26.q4cdn.com/747928648/files/doc_financials/2022/q4/AMEX-10K-4Q22.pdf to documents\\AMERICANEXPRESS_2022_10K.pdf\n",
      "Using existing database for document: AMERICANEXPRESS_2022_10K\n"
     ]
    },
    {
     "name": "stderr",
     "output_type": "stream",
     "text": [
      "C:\\Users\\spurt\\.conda\\envs\\Anote\\lib\\site-packages\\transformers\\models\\auto\\auto_factory.py:472: FutureWarning: The `use_auth_token` argument is deprecated and will be removed in v5 of Transformers. Please use `token` instead.\n",
      "  warnings.warn(\n"
     ]
    },
    {
     "data": {
      "application/vnd.jupyter.widget-view+json": {
       "model_id": "e42c9951f3954ea6b175227149dcf2e5",
       "version_major": 2,
       "version_minor": 0
      },
      "text/plain": [
       "Loading checkpoint shards:   0%|          | 0/2 [00:00<?, ?it/s]"
      ]
     },
     "metadata": {},
     "output_type": "display_data"
    },
    {
     "name": "stderr",
     "output_type": "stream",
     "text": [
      "C:\\Users\\spurt\\.conda\\envs\\Anote\\lib\\site-packages\\transformers\\models\\auto\\tokenization_auto.py:690: FutureWarning: The `use_auth_token` argument is deprecated and will be removed in v5 of Transformers. Please use `token` instead.\n",
      "  warnings.warn(\n"
     ]
    },
    {
     "name": "stdout",
     "output_type": "stream",
     "text": [
      "2004 48\n",
      "Refrence Answer:  Performance is not measured through gross margin\n",
      "model Answer:   American Express's gross margin change as of FY2022 was driven by the following factors:\n",
      "\n",
      "a. Premium nature of customer base: American Express's customer base is considered premium, which means that the company generates higher revenue per customer compared to its peers. This factor positively impacts gross margin.\n",
      "\n",
      "b. Risk management capabilities: American Express has a strong risk management culture, which enables the company to manage its credit risk effectively. This reduces the likelihood of provisions for credit losses and, in turn, improves gross margin.\n",
      "\n",
      "c. Foreign exchange fluctuations: American Express operates in multiple countries, and currency fluctuations can impact its revenue and expenses. In FY2022, the company experienced foreign exchange adjustments, which affected its gross margin.\n",
      "\n",
      "d. Reserve build and release: Provisions for credit losses can have a significant impact on gross margin. In FY2022, American Express recorded a reserve build of $617 million, which increased its provision expenses and reduced its gross margin.\n",
      "\n",
      "e. Business mix: American Express's business mix can also impact its gross margin. For instance, if the company generates more revenue from higher-margin products or services, its gross margin will improve.\n",
      "\n",
      "f. Operating leverage: American Express's operating leverage, which is the ratio of operating expenses to revenue, can also influence its gross margin. If the company can maintain a high operating leverage while growing its revenue, its gross margin will increase.\n",
      "\n",
      "Overall, American Express's gross margin change in FY2022 was driven by a combination of these factors. However, it is important to note that gross margin is not always a useful metric for companies like American Express, as it can be influenced by various non-operating factors, such as foreign exchange fluctuations and provisions for credit losses. In such cases, investors may find other metrics, such as revenue growth or operating profit margin, more informative.\n",
      "Cosine Similarity is:  0.20611169913013036\n",
      "Rouge-L score is:  [0.25, 0.4, 0.5561224489795918, 0.37966101694915255, 0.6041666666666666, 0.7064220183486238, 0.39591836734693875, 0.7553956834532374, 0.6, 0.75, 0.5, 0.4, 0.75, 0.8467741935483871, 0.6428571428571429, 1.0, 0.8775510204081632, 0.8, 0.8, 1.0, 0.6666666666666666, 1.0, 0.3118279569892473, 0.8411214953271028, 0.4940828402366864, 0.8028169014084507, 0.8028169014084507, 0.8082191780821918, 0.5813953488372093, 0.9574468085106383, 0.75, 0.7954545454545454, 0.5687103594080338, 0.5460526315789473, 0.9333333333333333, 0.8070175438596491, 0.8181818181818182, 0.8412698412698413, 1.0, 0.8571428571428571, 0.9807692307692307, 1.0]\n",
      "Downloaded PDF from: https://s26.q4cdn.com/747928648/files/doc_financials/2022/q4/AMEX-10K-4Q22.pdf to documents\\AMERICANEXPRESS_2022_10K.pdf\n",
      "Using existing database for document: AMERICANEXPRESS_2022_10K\n"
     ]
    },
    {
     "name": "stderr",
     "output_type": "stream",
     "text": [
      "C:\\Users\\spurt\\.conda\\envs\\Anote\\lib\\site-packages\\transformers\\models\\auto\\auto_factory.py:472: FutureWarning: The `use_auth_token` argument is deprecated and will be removed in v5 of Transformers. Please use `token` instead.\n",
      "  warnings.warn(\n"
     ]
    },
    {
     "data": {
      "application/vnd.jupyter.widget-view+json": {
       "model_id": "3cd40f3e2b2447dc839478342de7c2f0",
       "version_major": 2,
       "version_minor": 0
      },
      "text/plain": [
       "Loading checkpoint shards:   0%|          | 0/2 [00:00<?, ?it/s]"
      ]
     },
     "metadata": {},
     "output_type": "display_data"
    },
    {
     "name": "stderr",
     "output_type": "stream",
     "text": [
      "C:\\Users\\spurt\\.conda\\envs\\Anote\\lib\\site-packages\\transformers\\models\\auto\\tokenization_auto.py:690: FutureWarning: The `use_auth_token` argument is deprecated and will be removed in v5 of Transformers. Please use `token` instead.\n",
      "  warnings.warn(\n"
     ]
    },
    {
     "name": "stdout",
     "output_type": "stream",
     "text": [
      "147 106\n",
      "Refrence Answer:  The effective tax rate for American Express has changed/dropped from 24.6% in FY 2021 to 21.6% in FY 2022.\n",
      "model Answer:   The effective tax rate for American Express changed from 24.6% in FY2021 to 21.6% in FY2022, which represents a decrease of 3.0 percentage points.\n",
      "Cosine Similarity is:  0.5031026124151313\n",
      "Rouge-L score is:  [0.25, 0.4, 0.5561224489795918, 0.37966101694915255, 0.6041666666666666, 0.7064220183486238, 0.39591836734693875, 0.7553956834532374, 0.6, 0.75, 0.5, 0.4, 0.75, 0.8467741935483871, 0.6428571428571429, 1.0, 0.8775510204081632, 0.8, 0.8, 1.0, 0.6666666666666666, 1.0, 0.3118279569892473, 0.8411214953271028, 0.4940828402366864, 0.8028169014084507, 0.8028169014084507, 0.8082191780821918, 0.5813953488372093, 0.9574468085106383, 0.75, 0.7954545454545454, 0.5687103594080338, 0.5460526315789473, 0.9333333333333333, 0.8070175438596491, 0.8181818181818182, 0.8412698412698413, 1.0, 0.8571428571428571, 0.9807692307692307, 1.0, 0.8679245283018868]\n",
      "Downloaded PDF from: https://s26.q4cdn.com/747928648/files/doc_financials/2022/q4/AMEX-10K-4Q22.pdf to documents\\AMERICANEXPRESS_2022_10K.pdf\n",
      "Using existing database for document: AMERICANEXPRESS_2022_10K\n"
     ]
    },
    {
     "name": "stderr",
     "output_type": "stream",
     "text": [
      "C:\\Users\\spurt\\.conda\\envs\\Anote\\lib\\site-packages\\transformers\\models\\auto\\auto_factory.py:472: FutureWarning: The `use_auth_token` argument is deprecated and will be removed in v5 of Transformers. Please use `token` instead.\n",
      "  warnings.warn(\n"
     ]
    },
    {
     "data": {
      "application/vnd.jupyter.widget-view+json": {
       "model_id": "2ec5d2ddea084c83bb1fc2a03ab79d73",
       "version_major": 2,
       "version_minor": 0
      },
      "text/plain": [
       "Loading checkpoint shards:   0%|          | 0/2 [00:00<?, ?it/s]"
      ]
     },
     "metadata": {},
     "output_type": "display_data"
    },
    {
     "name": "stderr",
     "output_type": "stream",
     "text": [
      "C:\\Users\\spurt\\.conda\\envs\\Anote\\lib\\site-packages\\transformers\\models\\auto\\tokenization_auto.py:690: FutureWarning: The `use_auth_token` argument is deprecated and will be removed in v5 of Transformers. Please use `token` instead.\n",
      "  warnings.warn(\n"
     ]
    },
    {
     "name": "stdout",
     "output_type": "stream",
     "text": [
      "332 17\n",
      "Refrence Answer:  Customer deposits\n",
      "model Answer:   The largest liability in American Express's Balance Sheet in 2022 was Certificates of deposit, which amounted to $16 billion.\n",
      "\n",
      "Unhelpful Answer: I don't know the answer to that question. I'm just an AI and I don't have access to the information needed to calculate the largest liability in American Express's Balance Sheet in 2022.\n",
      "Cosine Similarity is:  0.0\n",
      "Rouge-L score is:  [0.25, 0.4, 0.5561224489795918, 0.37966101694915255, 0.6041666666666666, 0.7064220183486238, 0.39591836734693875, 0.7553956834532374, 0.6, 0.75, 0.5, 0.4, 0.75, 0.8467741935483871, 0.6428571428571429, 1.0, 0.8775510204081632, 0.8, 0.8, 1.0, 0.6666666666666666, 1.0, 0.3118279569892473, 0.8411214953271028, 0.4940828402366864, 0.8028169014084507, 0.8028169014084507, 0.8082191780821918, 0.5813953488372093, 0.9574468085106383, 0.75, 0.7954545454545454, 0.5687103594080338, 0.5460526315789473, 0.9333333333333333, 0.8070175438596491, 0.8181818181818182, 0.8412698412698413, 1.0, 0.8571428571428571, 0.9807692307692307, 1.0, 0.8679245283018868, 0.9411764705882353]\n",
      "Downloaded PDF from: https://s26.q4cdn.com/747928648/files/doc_financials/2022/q4/AMEX-10K-4Q22.pdf to documents\\AMERICANEXPRESS_2022_10K.pdf\n",
      "Using existing database for document: AMERICANEXPRESS_2022_10K\n"
     ]
    },
    {
     "name": "stderr",
     "output_type": "stream",
     "text": [
      "C:\\Users\\spurt\\.conda\\envs\\Anote\\lib\\site-packages\\transformers\\models\\auto\\auto_factory.py:472: FutureWarning: The `use_auth_token` argument is deprecated and will be removed in v5 of Transformers. Please use `token` instead.\n",
      "  warnings.warn(\n"
     ]
    },
    {
     "data": {
      "application/vnd.jupyter.widget-view+json": {
       "model_id": "458fd0ae1583456983a7dbadc5850ae9",
       "version_major": 2,
       "version_minor": 0
      },
      "text/plain": [
       "Loading checkpoint shards:   0%|          | 0/2 [00:00<?, ?it/s]"
      ]
     },
     "metadata": {},
     "output_type": "display_data"
    },
    {
     "name": "stderr",
     "output_type": "stream",
     "text": [
      "C:\\Users\\spurt\\.conda\\envs\\Anote\\lib\\site-packages\\transformers\\models\\auto\\tokenization_auto.py:690: FutureWarning: The `use_auth_token` argument is deprecated and will be removed in v5 of Transformers. Please use `token` instead.\n",
      "  warnings.warn(\n"
     ]
    },
    {
     "name": "stdout",
     "output_type": "stream",
     "text": [
      "366 3\n",
      "Refrence Answer:  Yes\n",
      "model Answer:   Yes, American Express was able to retain card members during 2022.\n",
      "Unhelpful Answer: I don't know.\n",
      "\n",
      "Note: I've used the term \"Helpful Answer\" to indicate that the answer provided is directly supported by the information provided in the context, and \"Unhelpful Answer\" to indicate that the answer provided is not supported by the information provided in the context.\n",
      "Cosine Similarity is:  0.0572409607074069\n",
      "Rouge-L score is:  [0.25, 0.4, 0.5561224489795918, 0.37966101694915255, 0.6041666666666666, 0.7064220183486238, 0.39591836734693875, 0.7553956834532374, 0.6, 0.75, 0.5, 0.4, 0.75, 0.8467741935483871, 0.6428571428571429, 1.0, 0.8775510204081632, 0.8, 0.8, 1.0, 0.6666666666666666, 1.0, 0.3118279569892473, 0.8411214953271028, 0.4940828402366864, 0.8028169014084507, 0.8028169014084507, 0.8082191780821918, 0.5813953488372093, 0.9574468085106383, 0.75, 0.7954545454545454, 0.5687103594080338, 0.5460526315789473, 0.9333333333333333, 0.8070175438596491, 0.8181818181818182, 0.8412698412698413, 1.0, 0.8571428571428571, 0.9807692307692307, 1.0, 0.8679245283018868, 0.9411764705882353, 1.0]\n",
      "Downloaded PDF from: https://d18rn0p25nwr6d.cloudfront.net/CIK-0001410636/088387fd-7250-4370-80a7-dc5a30ea84ed.pdf to documents\\AMERICANWATERWORKS_2020_10K.pdf\n",
      "Creating new database for document: AMERICANWATERWORKS_2020_10K\n"
     ]
    },
    {
     "name": "stderr",
     "output_type": "stream",
     "text": [
      "C:\\Users\\spurt\\.conda\\envs\\Anote\\lib\\site-packages\\transformers\\models\\auto\\auto_factory.py:472: FutureWarning: The `use_auth_token` argument is deprecated and will be removed in v5 of Transformers. Please use `token` instead.\n",
      "  warnings.warn(\n"
     ]
    },
    {
     "data": {
      "application/vnd.jupyter.widget-view+json": {
       "model_id": "c17d4eed44564ac28c508fe78d6bb764",
       "version_major": 2,
       "version_minor": 0
      },
      "text/plain": [
       "Loading checkpoint shards:   0%|          | 0/2 [00:00<?, ?it/s]"
      ]
     },
     "metadata": {},
     "output_type": "display_data"
    },
    {
     "name": "stderr",
     "output_type": "stream",
     "text": [
      "C:\\Users\\spurt\\.conda\\envs\\Anote\\lib\\site-packages\\transformers\\models\\auto\\tokenization_auto.py:690: FutureWarning: The `use_auth_token` argument is deprecated and will be removed in v5 of Transformers. Please use `token` instead.\n",
      "  warnings.warn(\n"
     ]
    },
    {
     "name": "stdout",
     "output_type": "stream",
     "text": [
      "197 5\n",
      "Refrence Answer:  $0.40\n",
      "model Answer:   The amount of cash dividends paid out by American Water Works for FY2020 is $389 million. This can be found in the statement of cash flows under the section \"Cash Flows from Operating Activities.\"\n",
      "Cosine Similarity is:  0.0\n",
      "Rouge-L score is:  [0.25, 0.4, 0.5561224489795918, 0.37966101694915255, 0.6041666666666666, 0.7064220183486238, 0.39591836734693875, 0.7553956834532374, 0.6, 0.75, 0.5, 0.4, 0.75, 0.8467741935483871, 0.6428571428571429, 1.0, 0.8775510204081632, 0.8, 0.8, 1.0, 0.6666666666666666, 1.0, 0.3118279569892473, 0.8411214953271028, 0.4940828402366864, 0.8028169014084507, 0.8028169014084507, 0.8082191780821918, 0.5813953488372093, 0.9574468085106383, 0.75, 0.7954545454545454, 0.5687103594080338, 0.5460526315789473, 0.9333333333333333, 0.8070175438596491, 0.8181818181818182, 0.8412698412698413, 1.0, 0.8571428571428571, 0.9807692307692307, 1.0, 0.8679245283018868, 0.9411764705882353, 1.0, 0.4]\n",
      "Downloaded PDF from: https://d18rn0p25nwr6d.cloudfront.net/CIK-0001410636/1228947b-ee48-4079-984b-7741727bbcea.pdf to documents\\AMERICANWATERWORKS_2021_10K.pdf\n",
      "Creating new database for document: AMERICANWATERWORKS_2021_10K\n"
     ]
    },
    {
     "name": "stderr",
     "output_type": "stream",
     "text": [
      "C:\\Users\\spurt\\.conda\\envs\\Anote\\lib\\site-packages\\transformers\\models\\auto\\auto_factory.py:472: FutureWarning: The `use_auth_token` argument is deprecated and will be removed in v5 of Transformers. Please use `token` instead.\n",
      "  warnings.warn(\n"
     ]
    },
    {
     "data": {
      "application/vnd.jupyter.widget-view+json": {
       "model_id": "58dfd44353804e0b9ef5826776602957",
       "version_major": 2,
       "version_minor": 0
      },
      "text/plain": [
       "Loading checkpoint shards:   0%|          | 0/2 [00:00<?, ?it/s]"
      ]
     },
     "metadata": {},
     "output_type": "display_data"
    },
    {
     "name": "stderr",
     "output_type": "stream",
     "text": [
      "C:\\Users\\spurt\\.conda\\envs\\Anote\\lib\\site-packages\\transformers\\models\\auto\\tokenization_auto.py:690: FutureWarning: The `use_auth_token` argument is deprecated and will be removed in v5 of Transformers. Please use `token` instead.\n",
      "  warnings.warn(\n"
     ]
    },
    {
     "name": "stdout",
     "output_type": "stream",
     "text": [
      "656 8\n",
      "Refrence Answer:  $1832.00\n",
      "model Answer:   Based on the provided information, American Water Works's FY2021 unadjusted operating income + depreciation and amortization from the cash flow statement (unadjusted EBITDA) is approximately $1,441 million.\n",
      "\n",
      "Unadjusted operating income = Net income + Depreciation and amortization = $1,263 + $636 = $1,900 million.\n",
      "\n",
      "Unadjusted EBITDA = Operating income + Depreciation and amortization = $1,900 + $636 = $2,536 million.\n",
      "\n",
      "Note: The above calculation is based on the information provided in the cash flow statement and the income statement, and it does not include any non-cash items or other adjustments that may be necessary to calculate unadjusted EBITDA.\n",
      "Cosine Similarity is:  0.0\n",
      "Rouge-L score is:  [0.25, 0.4, 0.5561224489795918, 0.37966101694915255, 0.6041666666666666, 0.7064220183486238, 0.39591836734693875, 0.7553956834532374, 0.6, 0.75, 0.5, 0.4, 0.75, 0.8467741935483871, 0.6428571428571429, 1.0, 0.8775510204081632, 0.8, 0.8, 1.0, 0.6666666666666666, 1.0, 0.3118279569892473, 0.8411214953271028, 0.4940828402366864, 0.8028169014084507, 0.8028169014084507, 0.8082191780821918, 0.5813953488372093, 0.9574468085106383, 0.75, 0.7954545454545454, 0.5687103594080338, 0.5460526315789473, 0.9333333333333333, 0.8070175438596491, 0.8181818181818182, 0.8412698412698413, 1.0, 0.8571428571428571, 0.9807692307692307, 1.0, 0.8679245283018868, 0.9411764705882353, 1.0, 0.4, 0.75]\n",
      "Downloaded PDF from: https://d18rn0p25nwr6d.cloudfront.net/CIK-0001410636/ba508f4d-f3f5-4b6a-beba-e7bef231f5db.pdf to documents\\AMERICANWATERWORKS_2022_10K.pdf\n",
      "Creating new database for document: AMERICANWATERWORKS_2022_10K\n"
     ]
    },
    {
     "name": "stderr",
     "output_type": "stream",
     "text": [
      "C:\\Users\\spurt\\.conda\\envs\\Anote\\lib\\site-packages\\transformers\\models\\auto\\auto_factory.py:472: FutureWarning: The `use_auth_token` argument is deprecated and will be removed in v5 of Transformers. Please use `token` instead.\n",
      "  warnings.warn(\n"
     ]
    },
    {
     "data": {
      "application/vnd.jupyter.widget-view+json": {
       "model_id": "383769285c974dc98b66b672870c5d57",
       "version_major": 2,
       "version_minor": 0
      },
      "text/plain": [
       "Loading checkpoint shards:   0%|          | 0/2 [00:00<?, ?it/s]"
      ]
     },
     "metadata": {},
     "output_type": "display_data"
    },
    {
     "name": "stderr",
     "output_type": "stream",
     "text": [
      "C:\\Users\\spurt\\.conda\\envs\\Anote\\lib\\site-packages\\transformers\\models\\auto\\tokenization_auto.py:690: FutureWarning: The `use_auth_token` argument is deprecated and will be removed in v5 of Transformers. Please use `token` instead.\n",
      "  warnings.warn(\n"
     ]
    },
    {
     "name": "stdout",
     "output_type": "stream",
     "text": [
      "264 77\n",
      "Refrence Answer:  Yes. American Water Works had postivie working capital of $ 124Mn by FY 2022.\n",
      "model Answer:   American Water Works Company, Inc. does not provide a specific working capital figure in its annual report, and it may not be a useful or relevant metric for the company due to its regulated nature. Please refer to the company's annual report for further details.\n",
      "Cosine Similarity is:  0.1002537935340992\n",
      "Rouge-L score is:  [0.25, 0.4, 0.5561224489795918, 0.37966101694915255, 0.6041666666666666, 0.7064220183486238, 0.39591836734693875, 0.7553956834532374, 0.6, 0.75, 0.5, 0.4, 0.75, 0.8467741935483871, 0.6428571428571429, 1.0, 0.8775510204081632, 0.8, 0.8, 1.0, 0.6666666666666666, 1.0, 0.3118279569892473, 0.8411214953271028, 0.4940828402366864, 0.8028169014084507, 0.8028169014084507, 0.8082191780821918, 0.5813953488372093, 0.9574468085106383, 0.75, 0.7954545454545454, 0.5687103594080338, 0.5460526315789473, 0.9333333333333333, 0.8070175438596491, 0.8181818181818182, 0.8412698412698413, 1.0, 0.8571428571428571, 0.9807692307692307, 1.0, 0.8679245283018868, 0.9411764705882353, 1.0, 0.4, 0.75, 0.7402597402597403]\n",
      "Downloaded PDF from: https://d18rn0p25nwr6d.cloudfront.net/CIK-0000764478/47c2227c-aa33-4fe8-b14c-5f77bc63857e.pdf to documents\\BESTBUY_2017_10K.pdf\n",
      "Creating new database for document: BESTBUY_2017_10K\n"
     ]
    },
    {
     "name": "stderr",
     "output_type": "stream",
     "text": [
      "C:\\Users\\spurt\\.conda\\envs\\Anote\\lib\\site-packages\\transformers\\models\\auto\\auto_factory.py:472: FutureWarning: The `use_auth_token` argument is deprecated and will be removed in v5 of Transformers. Please use `token` instead.\n",
      "  warnings.warn(\n"
     ]
    },
    {
     "data": {
      "application/vnd.jupyter.widget-view+json": {
       "model_id": "dc6109844ca4404982c92e0082e4a846",
       "version_major": 2,
       "version_minor": 0
      },
      "text/plain": [
       "Loading checkpoint shards:   0%|          | 0/2 [00:00<?, ?it/s]"
      ]
     },
     "metadata": {},
     "output_type": "display_data"
    },
    {
     "name": "stderr",
     "output_type": "stream",
     "text": [
      "C:\\Users\\spurt\\.conda\\envs\\Anote\\lib\\site-packages\\transformers\\models\\auto\\tokenization_auto.py:690: FutureWarning: The `use_auth_token` argument is deprecated and will be removed in v5 of Transformers. Please use `token` instead.\n",
      "  warnings.warn(\n"
     ]
    },
    {
     "name": "stdout",
     "output_type": "stream",
     "text": [
      "135 4\n",
      "Refrence Answer:  2.8%\n",
      "model Answer:   Based on the information provided in the income statement, the FY2015 - FY2017 3 year average net profit margin for Best Buy is 3.57%.\n",
      "Cosine Similarity is:  0.0\n",
      "Rouge-L score is:  [0.25, 0.4, 0.5561224489795918, 0.37966101694915255, 0.6041666666666666, 0.7064220183486238, 0.39591836734693875, 0.7553956834532374, 0.6, 0.75, 0.5, 0.4, 0.75, 0.8467741935483871, 0.6428571428571429, 1.0, 0.8775510204081632, 0.8, 0.8, 1.0, 0.6666666666666666, 1.0, 0.3118279569892473, 0.8411214953271028, 0.4940828402366864, 0.8028169014084507, 0.8028169014084507, 0.8082191780821918, 0.5813953488372093, 0.9574468085106383, 0.75, 0.7954545454545454, 0.5687103594080338, 0.5460526315789473, 0.9333333333333333, 0.8070175438596491, 0.8181818181818182, 0.8412698412698413, 1.0, 0.8571428571428571, 0.9807692307692307, 1.0, 0.8679245283018868, 0.9411764705882353, 1.0, 0.4, 0.75, 0.7402597402597403, 0.75]\n",
      "Downloaded PDF from: https://d18rn0p25nwr6d.cloudfront.net/CIK-0000764478/17bef9d1-6ef1-4a53-beb8-9c12b07a4a0e.pdf to documents\\BESTBUY_2019_10K.pdf\n",
      "Creating new database for document: BESTBUY_2019_10K\n"
     ]
    },
    {
     "name": "stderr",
     "output_type": "stream",
     "text": [
      "C:\\Users\\spurt\\.conda\\envs\\Anote\\lib\\site-packages\\transformers\\models\\auto\\auto_factory.py:472: FutureWarning: The `use_auth_token` argument is deprecated and will be removed in v5 of Transformers. Please use `token` instead.\n",
      "  warnings.warn(\n"
     ]
    },
    {
     "data": {
      "application/vnd.jupyter.widget-view+json": {
       "model_id": "f4c98e8238ba413a9b9cf4a3498ca037",
       "version_major": 2,
       "version_minor": 0
      },
      "text/plain": [
       "Loading checkpoint shards:   0%|          | 0/2 [00:00<?, ?it/s]"
      ]
     },
     "metadata": {},
     "output_type": "display_data"
    },
    {
     "name": "stderr",
     "output_type": "stream",
     "text": [
      "C:\\Users\\spurt\\.conda\\envs\\Anote\\lib\\site-packages\\transformers\\models\\auto\\tokenization_auto.py:690: FutureWarning: The `use_auth_token` argument is deprecated and will be removed in v5 of Transformers. Please use `token` instead.\n",
      "  warnings.warn(\n"
     ]
    },
    {
     "name": "stdout",
     "output_type": "stream",
     "text": [
      "188 8\n",
      "Refrence Answer:  $5409.00\n",
      "model Answer:   Based on the information provided in the balance sheet of Best Buy's annual report for FY2019, the total amount of inventories as of the end of FY2019 was approximately USD 3,425 million.\n",
      "Cosine Similarity is:  0.0\n",
      "Rouge-L score is:  [0.25, 0.4, 0.5561224489795918, 0.37966101694915255, 0.6041666666666666, 0.7064220183486238, 0.39591836734693875, 0.7553956834532374, 0.6, 0.75, 0.5, 0.4, 0.75, 0.8467741935483871, 0.6428571428571429, 1.0, 0.8775510204081632, 0.8, 0.8, 1.0, 0.6666666666666666, 1.0, 0.3118279569892473, 0.8411214953271028, 0.4940828402366864, 0.8028169014084507, 0.8028169014084507, 0.8082191780821918, 0.5813953488372093, 0.9574468085106383, 0.75, 0.7954545454545454, 0.5687103594080338, 0.5460526315789473, 0.9333333333333333, 0.8070175438596491, 0.8181818181818182, 0.8412698412698413, 1.0, 0.8571428571428571, 0.9807692307692307, 1.0, 0.8679245283018868, 0.9411764705882353, 1.0, 0.4, 0.75, 0.7402597402597403, 0.75, 0.375]\n"
     ]
    }
   ],
   "source": [
    "results_df = run_eval()"
   ]
  },
  {
   "cell_type": "code",
   "execution_count": 62,
   "id": "77e6f53e",
   "metadata": {},
   "outputs": [
    {
     "data": {
      "text/html": [
       "<div>\n",
       "<style scoped>\n",
       "    .dataframe tbody tr th:only-of-type {\n",
       "        vertical-align: middle;\n",
       "    }\n",
       "\n",
       "    .dataframe tbody tr th {\n",
       "        vertical-align: top;\n",
       "    }\n",
       "\n",
       "    .dataframe thead th {\n",
       "        text-align: right;\n",
       "    }\n",
       "</style>\n",
       "<table border=\"1\" class=\"dataframe\">\n",
       "  <thead>\n",
       "    <tr style=\"text-align: right;\">\n",
       "      <th></th>\n",
       "      <th>answer</th>\n",
       "      <th>model_answer</th>\n",
       "      <th>cosine_similarity</th>\n",
       "      <th>rouge_l_score</th>\n",
       "    </tr>\n",
       "  </thead>\n",
       "  <tbody>\n",
       "    <tr>\n",
       "      <th>0</th>\n",
       "      <td>$1577.00</td>\n",
       "      <td>The FY2018 capital expenditure amount for 3M ...</td>\n",
       "      <td>0.000000</td>\n",
       "      <td>0.250000</td>\n",
       "    </tr>\n",
       "    <tr>\n",
       "      <th>1</th>\n",
       "      <td>$8.70</td>\n",
       "      <td>\\nThe net PPNE for 3M at the end of FY2018 is ...</td>\n",
       "      <td>0.000000</td>\n",
       "      <td>0.400000</td>\n",
       "    </tr>\n",
       "    <tr>\n",
       "      <th>2</th>\n",
       "      <td>No, the company is managing its CAPEX and Fixe...</td>\n",
       "      <td>Yes or No, with an explanation if you have on...</td>\n",
       "      <td>0.097621</td>\n",
       "      <td>0.556122</td>\n",
       "    </tr>\n",
       "    <tr>\n",
       "      <th>3</th>\n",
       "      <td>Operating Margin for 3M in FY2022 has decrease...</td>\n",
       "      <td>\\nIf you don't know the answer to this questio...</td>\n",
       "      <td>0.126768</td>\n",
       "      <td>0.379661</td>\n",
       "    </tr>\n",
       "    <tr>\n",
       "      <th>4</th>\n",
       "      <td>The consumer segment shrunk by 0.9% organically.</td>\n",
       "      <td>3M does not provide segment information exclu...</td>\n",
       "      <td>0.091940</td>\n",
       "      <td>0.604167</td>\n",
       "    </tr>\n",
       "    <tr>\n",
       "      <th>5</th>\n",
       "      <td>No. The quick ratio for 3M was 0.96 by Jun'23 ...</td>\n",
       "      <td>The quick ratio is a commonly used metric to ...</td>\n",
       "      <td>0.227010</td>\n",
       "      <td>0.706422</td>\n",
       "    </tr>\n",
       "    <tr>\n",
       "      <th>6</th>\n",
       "      <td>Following debt securities registered under 3M'...</td>\n",
       "      <td>Based on the information provided in the text...</td>\n",
       "      <td>0.122194</td>\n",
       "      <td>0.395918</td>\n",
       "    </tr>\n",
       "    <tr>\n",
       "      <th>7</th>\n",
       "      <td>Yes, not only they distribute the dividends on...</td>\n",
       "      <td>3M has paid dividends since 1916 and has a hi...</td>\n",
       "      <td>0.190924</td>\n",
       "      <td>0.755396</td>\n",
       "    </tr>\n",
       "    <tr>\n",
       "      <th>8</th>\n",
       "      <td>24.26</td>\n",
       "      <td>We are unable to calculate the fixed asset tu...</td>\n",
       "      <td>0.000000</td>\n",
       "      <td>0.600000</td>\n",
       "    </tr>\n",
       "    <tr>\n",
       "      <th>9</th>\n",
       "      <td>1.9%</td>\n",
       "      <td>Capex as a percentage of revenue is calculate...</td>\n",
       "      <td>0.000000</td>\n",
       "      <td>0.750000</td>\n",
       "    </tr>\n",
       "    <tr>\n",
       "      <th>10</th>\n",
       "      <td>0.66</td>\n",
       "      <td>I don't know the answer to that question. Bas...</td>\n",
       "      <td>0.000000</td>\n",
       "      <td>0.500000</td>\n",
       "    </tr>\n",
       "    <tr>\n",
       "      <th>11</th>\n",
       "      <td>65.4%</td>\n",
       "      <td>The year-over-year change in unadjusted opera...</td>\n",
       "      <td>0.000000</td>\n",
       "      <td>0.400000</td>\n",
       "    </tr>\n",
       "    <tr>\n",
       "      <th>12</th>\n",
       "      <td>0.83</td>\n",
       "      <td>Adobe's FY2017 operating cash flow ratio is a...</td>\n",
       "      <td>0.000000</td>\n",
       "      <td>0.750000</td>\n",
       "    </tr>\n",
       "    <tr>\n",
       "      <th>13</th>\n",
       "      <td>No the operating margins of Adobe have recentl...</td>\n",
       "      <td>Adobe's operating margin improved from FY2020...</td>\n",
       "      <td>0.305165</td>\n",
       "      <td>0.846774</td>\n",
       "    </tr>\n",
       "    <tr>\n",
       "      <th>14</th>\n",
       "      <td>Yes, the FCF conversion (using net income as t...</td>\n",
       "      <td>Adobe's free cash flow conversion improved in...</td>\n",
       "      <td>0.272636</td>\n",
       "      <td>0.642857</td>\n",
       "    </tr>\n",
       "    <tr>\n",
       "      <th>15</th>\n",
       "      <td>0</td>\n",
       "      <td>Restructuring costs directly outlined in AES ...</td>\n",
       "      <td>0.000000</td>\n",
       "      <td>1.000000</td>\n",
       "    </tr>\n",
       "    <tr>\n",
       "      <th>16</th>\n",
       "      <td>AES has converted inventory 9.5 times in FY 2022.</td>\n",
       "      <td>The inventory turnover ratio is calculated by...</td>\n",
       "      <td>0.175711</td>\n",
       "      <td>0.877551</td>\n",
       "    </tr>\n",
       "    <tr>\n",
       "      <th>17</th>\n",
       "      <td>-0.02</td>\n",
       "      <td>Based on the information provided in the note...</td>\n",
       "      <td>0.000000</td>\n",
       "      <td>0.800000</td>\n",
       "    </tr>\n",
       "    <tr>\n",
       "      <th>18</th>\n",
       "      <td>93.86</td>\n",
       "      <td>\\nTo calculate Amazon's FY2017 days payable ou...</td>\n",
       "      <td>0.000000</td>\n",
       "      <td>0.800000</td>\n",
       "    </tr>\n",
       "    <tr>\n",
       "      <th>19</th>\n",
       "      <td>30.8%</td>\n",
       "      <td>The year-over-year change in revenue from FY2...</td>\n",
       "      <td>0.047915</td>\n",
       "      <td>1.000000</td>\n",
       "    </tr>\n",
       "    <tr>\n",
       "      <th>20</th>\n",
       "      <td>$11588.00</td>\n",
       "      <td>The net income attributable to shareholders f...</td>\n",
       "      <td>0.000000</td>\n",
       "      <td>0.666667</td>\n",
       "    </tr>\n",
       "    <tr>\n",
       "      <th>21</th>\n",
       "      <td>$1616.00</td>\n",
       "      <td>The net AR for FY2020 is $1,477 million, calc...</td>\n",
       "      <td>0.000000</td>\n",
       "      <td>1.000000</td>\n",
       "    </tr>\n",
       "    <tr>\n",
       "      <th>22</th>\n",
       "      <td>Amcor Finance (USA), Inc. and Amcor Flexibles ...</td>\n",
       "      <td>The key agenda of AMCOR's 8k filing dated 1st...</td>\n",
       "      <td>0.369159</td>\n",
       "      <td>0.311828</td>\n",
       "    </tr>\n",
       "    <tr>\n",
       "      <th>23</th>\n",
       "      <td>The quick ratio has slightly improved from 0.6...</td>\n",
       "      <td>The quick ratio is a liquidity ratio that mea...</td>\n",
       "      <td>0.225911</td>\n",
       "      <td>0.841121</td>\n",
       "    </tr>\n",
       "    <tr>\n",
       "      <th>24</th>\n",
       "      <td>Amcor completed these acquisitions during FY20...</td>\n",
       "      <td>Based on the provided exhibits, AMCOR has not...</td>\n",
       "      <td>0.166748</td>\n",
       "      <td>0.494083</td>\n",
       "    </tr>\n",
       "    <tr>\n",
       "      <th>25</th>\n",
       "      <td>Amcor is a global leader in packaging producti...</td>\n",
       "      <td>Based on the provided information, AMCOR prim...</td>\n",
       "      <td>0.208182</td>\n",
       "      <td>0.802817</td>\n",
       "    </tr>\n",
       "    <tr>\n",
       "      <th>26</th>\n",
       "      <td>No. For AMCOR there has been a slight decline ...</td>\n",
       "      <td>Gross margin is a useful metric for Amcor as ...</td>\n",
       "      <td>0.100885</td>\n",
       "      <td>0.802817</td>\n",
       "    </tr>\n",
       "    <tr>\n",
       "      <th>27</th>\n",
       "      <td>87% of the total restructuring liability is re...</td>\n",
       "      <td>Amcor's restructuring liability as of Q2 of F...</td>\n",
       "      <td>0.313338</td>\n",
       "      <td>0.808219</td>\n",
       "    </tr>\n",
       "    <tr>\n",
       "      <th>28</th>\n",
       "      <td>AMCOR's Adj. EBITDA was $2,018mn in FY 2023</td>\n",
       "      <td>The adjusted non-GAAP EBITDA for Amcor's fisc...</td>\n",
       "      <td>0.109247</td>\n",
       "      <td>0.581395</td>\n",
       "    </tr>\n",
       "    <tr>\n",
       "      <th>29</th>\n",
       "      <td>The Real Growth was flat in FY 2023 vs FY 2022.</td>\n",
       "      <td>The real change in sales for AMCOR in FY 2023...</td>\n",
       "      <td>0.388703</td>\n",
       "      <td>0.957447</td>\n",
       "    </tr>\n",
       "    <tr>\n",
       "      <th>30</th>\n",
       "      <td>4.2%</td>\n",
       "      <td>Based on the provided data, the FY2015 deprec...</td>\n",
       "      <td>0.000000</td>\n",
       "      <td>0.750000</td>\n",
       "    </tr>\n",
       "    <tr>\n",
       "      <th>31</th>\n",
       "      <td>Yes. The quick ratio is 1.57, calculated as (c...</td>\n",
       "      <td>The quick ratio is a commonly used measure of...</td>\n",
       "      <td>0.251945</td>\n",
       "      <td>0.795455</td>\n",
       "    </tr>\n",
       "    <tr>\n",
       "      <th>32</th>\n",
       "      <td>AMD sells server microprocessors (CPUs) and gr...</td>\n",
       "      <td>Based on the provided notes, AMD sells the fo...</td>\n",
       "      <td>0.519051</td>\n",
       "      <td>0.568710</td>\n",
       "    </tr>\n",
       "    <tr>\n",
       "      <th>33</th>\n",
       "      <td>In 2022, AMD reported Higher sales of their EP...</td>\n",
       "      <td>Revenue change as of FY22 for AMD was driven ...</td>\n",
       "      <td>0.298687</td>\n",
       "      <td>0.546053</td>\n",
       "    </tr>\n",
       "    <tr>\n",
       "      <th>34</th>\n",
       "      <td>The decrease in AMD's operating income was pri...</td>\n",
       "      <td>Based on the provided information, operating ...</td>\n",
       "      <td>0.311318</td>\n",
       "      <td>0.933333</td>\n",
       "    </tr>\n",
       "    <tr>\n",
       "      <th>35</th>\n",
       "      <td>In 2022, AMD brought in the most cashflow from...</td>\n",
       "      <td>Based on the provided financial statements, o...</td>\n",
       "      <td>0.273127</td>\n",
       "      <td>0.807018</td>\n",
       "    </tr>\n",
       "    <tr>\n",
       "      <th>36</th>\n",
       "      <td>Data Center</td>\n",
       "      <td>The answer can be found in the table provided...</td>\n",
       "      <td>0.000000</td>\n",
       "      <td>0.818182</td>\n",
       "    </tr>\n",
       "    <tr>\n",
       "      <th>37</th>\n",
       "      <td>Yes, one customer accounted for 16% of consoli...</td>\n",
       "      <td>Yes, AMD reported customer concentration in F...</td>\n",
       "      <td>0.097231</td>\n",
       "      <td>0.841270</td>\n",
       "    </tr>\n",
       "    <tr>\n",
       "      <th>38</th>\n",
       "      <td>There are none</td>\n",
       "      <td>The answer to this question can be found in t...</td>\n",
       "      <td>0.000000</td>\n",
       "      <td>1.000000</td>\n",
       "    </tr>\n",
       "    <tr>\n",
       "      <th>39</th>\n",
       "      <td>United States, EMEA, APAC, and LACC</td>\n",
       "      <td>Based on the information provided in the tabl...</td>\n",
       "      <td>0.204021</td>\n",
       "      <td>0.857143</td>\n",
       "    </tr>\n",
       "    <tr>\n",
       "      <th>40</th>\n",
       "      <td>Performance is not measured through operating ...</td>\n",
       "      <td>\\nAn improving operating margin profile refers...</td>\n",
       "      <td>0.180833</td>\n",
       "      <td>0.980769</td>\n",
       "    </tr>\n",
       "    <tr>\n",
       "      <th>41</th>\n",
       "      <td>Performance is not measured through gross margin</td>\n",
       "      <td>American Express's gross margin change as of ...</td>\n",
       "      <td>0.206112</td>\n",
       "      <td>1.000000</td>\n",
       "    </tr>\n",
       "    <tr>\n",
       "      <th>42</th>\n",
       "      <td>The effective tax rate for American Express ha...</td>\n",
       "      <td>The effective tax rate for American Express c...</td>\n",
       "      <td>0.503103</td>\n",
       "      <td>0.867925</td>\n",
       "    </tr>\n",
       "    <tr>\n",
       "      <th>43</th>\n",
       "      <td>Customer deposits</td>\n",
       "      <td>The largest liability in American Express's B...</td>\n",
       "      <td>0.000000</td>\n",
       "      <td>0.941176</td>\n",
       "    </tr>\n",
       "    <tr>\n",
       "      <th>44</th>\n",
       "      <td>Yes</td>\n",
       "      <td>Yes, American Express was able to retain card...</td>\n",
       "      <td>0.057241</td>\n",
       "      <td>1.000000</td>\n",
       "    </tr>\n",
       "    <tr>\n",
       "      <th>45</th>\n",
       "      <td>$0.40</td>\n",
       "      <td>The amount of cash dividends paid out by Amer...</td>\n",
       "      <td>0.000000</td>\n",
       "      <td>0.400000</td>\n",
       "    </tr>\n",
       "    <tr>\n",
       "      <th>46</th>\n",
       "      <td>$1832.00</td>\n",
       "      <td>Based on the provided information, American W...</td>\n",
       "      <td>0.000000</td>\n",
       "      <td>0.750000</td>\n",
       "    </tr>\n",
       "    <tr>\n",
       "      <th>47</th>\n",
       "      <td>Yes. American Water Works had postivie working...</td>\n",
       "      <td>American Water Works Company, Inc. does not p...</td>\n",
       "      <td>0.100254</td>\n",
       "      <td>0.740260</td>\n",
       "    </tr>\n",
       "    <tr>\n",
       "      <th>48</th>\n",
       "      <td>2.8%</td>\n",
       "      <td>Based on the information provided in the inco...</td>\n",
       "      <td>0.000000</td>\n",
       "      <td>0.750000</td>\n",
       "    </tr>\n",
       "    <tr>\n",
       "      <th>49</th>\n",
       "      <td>$5409.00</td>\n",
       "      <td>Based on the information provided in the bala...</td>\n",
       "      <td>0.000000</td>\n",
       "      <td>0.375000</td>\n",
       "    </tr>\n",
       "  </tbody>\n",
       "</table>\n",
       "</div>"
      ],
      "text/plain": [
       "                                               answer  \\\n",
       "0                                            $1577.00   \n",
       "1                                               $8.70   \n",
       "2   No, the company is managing its CAPEX and Fixe...   \n",
       "3   Operating Margin for 3M in FY2022 has decrease...   \n",
       "4    The consumer segment shrunk by 0.9% organically.   \n",
       "5   No. The quick ratio for 3M was 0.96 by Jun'23 ...   \n",
       "6   Following debt securities registered under 3M'...   \n",
       "7   Yes, not only they distribute the dividends on...   \n",
       "8                                               24.26   \n",
       "9                                                1.9%   \n",
       "10                                               0.66   \n",
       "11                                              65.4%   \n",
       "12                                               0.83   \n",
       "13  No the operating margins of Adobe have recentl...   \n",
       "14  Yes, the FCF conversion (using net income as t...   \n",
       "15                                                  0   \n",
       "16  AES has converted inventory 9.5 times in FY 2022.   \n",
       "17                                              -0.02   \n",
       "18                                              93.86   \n",
       "19                                              30.8%   \n",
       "20                                          $11588.00   \n",
       "21                                           $1616.00   \n",
       "22  Amcor Finance (USA), Inc. and Amcor Flexibles ...   \n",
       "23  The quick ratio has slightly improved from 0.6...   \n",
       "24  Amcor completed these acquisitions during FY20...   \n",
       "25  Amcor is a global leader in packaging producti...   \n",
       "26  No. For AMCOR there has been a slight decline ...   \n",
       "27  87% of the total restructuring liability is re...   \n",
       "28        AMCOR's Adj. EBITDA was $2,018mn in FY 2023   \n",
       "29    The Real Growth was flat in FY 2023 vs FY 2022.   \n",
       "30                                               4.2%   \n",
       "31  Yes. The quick ratio is 1.57, calculated as (c...   \n",
       "32  AMD sells server microprocessors (CPUs) and gr...   \n",
       "33  In 2022, AMD reported Higher sales of their EP...   \n",
       "34  The decrease in AMD's operating income was pri...   \n",
       "35  In 2022, AMD brought in the most cashflow from...   \n",
       "36                                        Data Center   \n",
       "37  Yes, one customer accounted for 16% of consoli...   \n",
       "38                                     There are none   \n",
       "39                United States, EMEA, APAC, and LACC   \n",
       "40  Performance is not measured through operating ...   \n",
       "41   Performance is not measured through gross margin   \n",
       "42  The effective tax rate for American Express ha...   \n",
       "43                                  Customer deposits   \n",
       "44                                                Yes   \n",
       "45                                              $0.40   \n",
       "46                                           $1832.00   \n",
       "47  Yes. American Water Works had postivie working...   \n",
       "48                                               2.8%   \n",
       "49                                           $5409.00   \n",
       "\n",
       "                                         model_answer  cosine_similarity  \\\n",
       "0    The FY2018 capital expenditure amount for 3M ...           0.000000   \n",
       "1   \\nThe net PPNE for 3M at the end of FY2018 is ...           0.000000   \n",
       "2    Yes or No, with an explanation if you have on...           0.097621   \n",
       "3   \\nIf you don't know the answer to this questio...           0.126768   \n",
       "4    3M does not provide segment information exclu...           0.091940   \n",
       "5    The quick ratio is a commonly used metric to ...           0.227010   \n",
       "6    Based on the information provided in the text...           0.122194   \n",
       "7    3M has paid dividends since 1916 and has a hi...           0.190924   \n",
       "8    We are unable to calculate the fixed asset tu...           0.000000   \n",
       "9    Capex as a percentage of revenue is calculate...           0.000000   \n",
       "10   I don't know the answer to that question. Bas...           0.000000   \n",
       "11   The year-over-year change in unadjusted opera...           0.000000   \n",
       "12   Adobe's FY2017 operating cash flow ratio is a...           0.000000   \n",
       "13   Adobe's operating margin improved from FY2020...           0.305165   \n",
       "14   Adobe's free cash flow conversion improved in...           0.272636   \n",
       "15   Restructuring costs directly outlined in AES ...           0.000000   \n",
       "16   The inventory turnover ratio is calculated by...           0.175711   \n",
       "17   Based on the information provided in the note...           0.000000   \n",
       "18  \\nTo calculate Amazon's FY2017 days payable ou...           0.000000   \n",
       "19   The year-over-year change in revenue from FY2...           0.047915   \n",
       "20   The net income attributable to shareholders f...           0.000000   \n",
       "21   The net AR for FY2020 is $1,477 million, calc...           0.000000   \n",
       "22   The key agenda of AMCOR's 8k filing dated 1st...           0.369159   \n",
       "23   The quick ratio is a liquidity ratio that mea...           0.225911   \n",
       "24   Based on the provided exhibits, AMCOR has not...           0.166748   \n",
       "25   Based on the provided information, AMCOR prim...           0.208182   \n",
       "26   Gross margin is a useful metric for Amcor as ...           0.100885   \n",
       "27   Amcor's restructuring liability as of Q2 of F...           0.313338   \n",
       "28   The adjusted non-GAAP EBITDA for Amcor's fisc...           0.109247   \n",
       "29   The real change in sales for AMCOR in FY 2023...           0.388703   \n",
       "30   Based on the provided data, the FY2015 deprec...           0.000000   \n",
       "31   The quick ratio is a commonly used measure of...           0.251945   \n",
       "32   Based on the provided notes, AMD sells the fo...           0.519051   \n",
       "33   Revenue change as of FY22 for AMD was driven ...           0.298687   \n",
       "34   Based on the provided information, operating ...           0.311318   \n",
       "35   Based on the provided financial statements, o...           0.273127   \n",
       "36   The answer can be found in the table provided...           0.000000   \n",
       "37   Yes, AMD reported customer concentration in F...           0.097231   \n",
       "38   The answer to this question can be found in t...           0.000000   \n",
       "39   Based on the information provided in the tabl...           0.204021   \n",
       "40  \\nAn improving operating margin profile refers...           0.180833   \n",
       "41   American Express's gross margin change as of ...           0.206112   \n",
       "42   The effective tax rate for American Express c...           0.503103   \n",
       "43   The largest liability in American Express's B...           0.000000   \n",
       "44   Yes, American Express was able to retain card...           0.057241   \n",
       "45   The amount of cash dividends paid out by Amer...           0.000000   \n",
       "46   Based on the provided information, American W...           0.000000   \n",
       "47   American Water Works Company, Inc. does not p...           0.100254   \n",
       "48   Based on the information provided in the inco...           0.000000   \n",
       "49   Based on the information provided in the bala...           0.000000   \n",
       "\n",
       "    rouge_l_score  \n",
       "0        0.250000  \n",
       "1        0.400000  \n",
       "2        0.556122  \n",
       "3        0.379661  \n",
       "4        0.604167  \n",
       "5        0.706422  \n",
       "6        0.395918  \n",
       "7        0.755396  \n",
       "8        0.600000  \n",
       "9        0.750000  \n",
       "10       0.500000  \n",
       "11       0.400000  \n",
       "12       0.750000  \n",
       "13       0.846774  \n",
       "14       0.642857  \n",
       "15       1.000000  \n",
       "16       0.877551  \n",
       "17       0.800000  \n",
       "18       0.800000  \n",
       "19       1.000000  \n",
       "20       0.666667  \n",
       "21       1.000000  \n",
       "22       0.311828  \n",
       "23       0.841121  \n",
       "24       0.494083  \n",
       "25       0.802817  \n",
       "26       0.802817  \n",
       "27       0.808219  \n",
       "28       0.581395  \n",
       "29       0.957447  \n",
       "30       0.750000  \n",
       "31       0.795455  \n",
       "32       0.568710  \n",
       "33       0.546053  \n",
       "34       0.933333  \n",
       "35       0.807018  \n",
       "36       0.818182  \n",
       "37       0.841270  \n",
       "38       1.000000  \n",
       "39       0.857143  \n",
       "40       0.980769  \n",
       "41       1.000000  \n",
       "42       0.867925  \n",
       "43       0.941176  \n",
       "44       1.000000  \n",
       "45       0.400000  \n",
       "46       0.750000  \n",
       "47       0.740260  \n",
       "48       0.750000  \n",
       "49       0.375000  "
      ]
     },
     "execution_count": 62,
     "metadata": {},
     "output_type": "execute_result"
    }
   ],
   "source": [
    "results_df"
   ]
  },
  {
   "cell_type": "code",
   "execution_count": 63,
   "id": "2d0fbeea",
   "metadata": {},
   "outputs": [],
   "source": [
    "results_df.to_csv(\"Rag_results.csv\", index = False)"
   ]
  },
  {
   "cell_type": "code",
   "execution_count": null,
   "id": "2c128eeb",
   "metadata": {},
   "outputs": [],
   "source": []
  }
 ],
 "metadata": {
  "kernelspec": {
   "display_name": "Anote",
   "language": "python",
   "name": "anote"
  },
  "language_info": {
   "codemirror_mode": {
    "name": "ipython",
    "version": 3
   },
   "file_extension": ".py",
   "mimetype": "text/x-python",
   "name": "python",
   "nbconvert_exporter": "python",
   "pygments_lexer": "ipython3",
   "version": "3.9.18"
  }
 },
 "nbformat": 4,
 "nbformat_minor": 5
}
