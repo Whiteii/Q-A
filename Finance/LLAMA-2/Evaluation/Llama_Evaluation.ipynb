{
 "cells": [
  {
   "cell_type": "code",
   "execution_count": 1,
   "id": "08249901-79b4-40e3-82ca-c3a9d19205a0",
   "metadata": {},
   "outputs": [],
   "source": [
    "import pandas as pd \n",
    "from sklearn.metrics.pairwise import cosine_similarity\n",
    "from sklearn.feature_extraction.text import TfidfVectorizer\n",
    "from typing import List\n",
    "import os \n",
    "import numpy as np "
   ]
  },
  {
   "cell_type": "code",
   "execution_count": 2,
   "id": "336fa113-2f12-45b0-b251-e248414de161",
   "metadata": {},
   "outputs": [],
   "source": [
    "import pandas as pd\n",
    "import nltk\n",
    "from nltk.tokenize import word_tokenize\n",
    "from nltk.corpus import stopwords\n",
    "from sklearn.metrics.pairwise import cosine_similarity\n",
    "import numpy as np"
   ]
  },
  {
   "cell_type": "code",
   "execution_count": 3,
   "id": "2537bba2-c0c9-41eb-9f59-b86192c5b38c",
   "metadata": {},
   "outputs": [],
   "source": [
    "csv_files = [f'../Finetuning/{count * 10}_labels.csv' for count in range(1, 6)]"
   ]
  },
  {
   "cell_type": "code",
   "execution_count": 4,
   "id": "8205bf68-193d-48d8-86b7-8c64e97eea2e",
   "metadata": {},
   "outputs": [],
   "source": [
    "def compute_rouge_l(candidate, reference):\n",
    "    candidate = str(candidate)\n",
    "    reference = str(reference) \n",
    "    m, n = len(candidate), len(reference)\n",
    "    #print(m,n)\n",
    "    dp_table = [[0] * (n + 1) for _ in range(m + 1)]\n",
    "    \n",
    "    for i in range(1, m + 1):\n",
    "        for j in range(1, n + 1):\n",
    "            if candidate[i - 1] == reference[j - 1]:\n",
    "                dp_table[i][j] = dp_table[i - 1][j - 1] + 1\n",
    "            else:\n",
    "                dp_table[i][j] = max(dp_table[i - 1][j], dp_table[i][j - 1])\n",
    "    \n",
    "    return dp_table[m][n] / n"
   ]
  },
  {
   "cell_type": "code",
   "execution_count": 5,
   "id": "cd271afb-97b9-4d6d-9230-fa6f3607a1e7",
   "metadata": {},
   "outputs": [
    {
     "name": "stderr",
     "output_type": "stream",
     "text": [
      "[nltk_data] Downloading package stopwords to\n",
      "[nltk_data]     /Users/katherinejijo/nltk_data...\n",
      "[nltk_data]   Package stopwords is already up-to-date!\n"
     ]
    },
    {
     "data": {
      "text/plain": [
       "True"
      ]
     },
     "execution_count": 5,
     "metadata": {},
     "output_type": "execute_result"
    }
   ],
   "source": [
    "import nltk\n",
    "nltk.download('stopwords')"
   ]
  },
  {
   "cell_type": "code",
   "execution_count": 6,
   "id": "41bd4160-df57-4b1a-8eb8-c0c85bc42047",
   "metadata": {},
   "outputs": [],
   "source": [
    "def preprocess_text(text):\n",
    "    # Tokenize the text\n",
    "    tokens = word_tokenize(text.lower())\n",
    "    \n",
    "    # Remove stopwords\n",
    "    stop_words = set(stopwords.words('english'))\n",
    "    filtered_tokens = [word for word in tokens if word not in stop_words]\n",
    "    \n",
    "    return filtered_tokens"
   ]
  },
  {
   "cell_type": "code",
   "execution_count": 7,
   "id": "d1857a4d-ee23-41a7-9ae1-1b68197eaa94",
   "metadata": {},
   "outputs": [],
   "source": [
    "def preprocess_text(text):\n",
    "    # Tokenize the text\n",
    "    text = str(text)\n",
    "    tokens = word_tokenize(text.lower())\n",
    "    \n",
    "    return tokens"
   ]
  },
  {
   "cell_type": "code",
   "execution_count": 8,
   "id": "af14816e-54ee-4922-91ad-934c0bd6f6e1",
   "metadata": {},
   "outputs": [],
   "source": [
    "def compute_similarity_score(answer,syntheses):\n",
    "    tokens_answer = preprocess_text(answer)\n",
    "    tokens_syntheses = preprocess_text(syntheses)\n",
    "    str_answer = ' '.join(tokens_answer)\n",
    "    str_syntheses = ' '.join(tokens_syntheses)\n",
    "    freqdist_answer = nltk.FreqDist(str_answer.split())\n",
    "    freqdist_syntheses = nltk.FreqDist(str_syntheses.split())\n",
    "    # Extract frequencies for unique tokens in both texts\n",
    "    unique_tokens = set(freqdist_answer.keys()).union(freqdist_syntheses.keys())\n",
    "\n",
    "    freq_answer = [freqdist_answer[token] for token in unique_tokens]\n",
    "    freq_syntheses = [freqdist_syntheses[token] for token in unique_tokens]\n",
    "\n",
    "    vector_answer = np.array(freq_answer).reshape(1, -1)\n",
    "    vector_syntheses = np.array(freq_syntheses).reshape(1, -1)\n",
    "\n",
    "    similarity_score = cosine_similarity(vector_answer, vector_syntheses)[0][0]\n",
    "\n",
    "    return similarity_score"
   ]
  },
  {
   "cell_type": "code",
   "execution_count": null,
   "id": "1e8fab28-deb0-49c8-babb-991dffb4102f",
   "metadata": {},
   "outputs": [],
   "source": []
  },
  {
   "cell_type": "code",
   "execution_count": 9,
   "id": "17528f5b-62d1-4101-8c9b-bd8fe225d0f9",
   "metadata": {},
   "outputs": [],
   "source": [
    "from sklearn.feature_extraction.text import TfidfVectorizer\n",
    "\n",
    "tfidf_vectorizer = TfidfVectorizer()"
   ]
  },
  {
   "cell_type": "code",
   "execution_count": 10,
   "id": "2c8cd9c3-1c7f-40b5-9c0e-862d2f2c3c2b",
   "metadata": {},
   "outputs": [
    {
     "data": {
      "text/html": [
       "<div>\n",
       "<style scoped>\n",
       "    .dataframe tbody tr th:only-of-type {\n",
       "        vertical-align: middle;\n",
       "    }\n",
       "\n",
       "    .dataframe tbody tr th {\n",
       "        vertical-align: top;\n",
       "    }\n",
       "\n",
       "    .dataframe thead th {\n",
       "        text-align: right;\n",
       "    }\n",
       "</style>\n",
       "<table border=\"1\" class=\"dataframe\">\n",
       "  <thead>\n",
       "    <tr style=\"text-align: right;\">\n",
       "      <th></th>\n",
       "      <th>Question</th>\n",
       "      <th>Refrence_Answer</th>\n",
       "      <th>Model_Response</th>\n",
       "    </tr>\n",
       "  </thead>\n",
       "  <tbody>\n",
       "    <tr>\n",
       "      <th>0</th>\n",
       "      <td>What is the FY2018 capital expenditure amount ...</td>\n",
       "      <td>$1577.00</td>\n",
       "      <td>Based on the information provided in the 2018 ...</td>\n",
       "    </tr>\n",
       "    <tr>\n",
       "      <th>1</th>\n",
       "      <td>Assume that you are a public equities analyst....</td>\n",
       "      <td>$8.70</td>\n",
       "      <td>Based on the information provided in the balan...</td>\n",
       "    </tr>\n",
       "    <tr>\n",
       "      <th>2</th>\n",
       "      <td>Is 3M a capital-intensive business based on FY...</td>\n",
       "      <td>No, the company is managing its CAPEX and Fixe...</td>\n",
       "      <td>Based on the information provided in the 10-K ...</td>\n",
       "    </tr>\n",
       "    <tr>\n",
       "      <th>3</th>\n",
       "      <td>What drove operating margin change as of FY202...</td>\n",
       "      <td>Operating Margin for 3M in FY2022 has decrease...</td>\n",
       "      <td>According to the 10-K filing for 3M, the opera...</td>\n",
       "    </tr>\n",
       "    <tr>\n",
       "      <th>4</th>\n",
       "      <td>If we exclude the impact of M&amp;A, which segment...</td>\n",
       "      <td>The consumer segment shrunk by 0.9% organically.</td>\n",
       "      <td>According to 3M's 10-K filing for 2022, the se...</td>\n",
       "    </tr>\n",
       "    <tr>\n",
       "      <th>...</th>\n",
       "      <td>...</td>\n",
       "      <td>...</td>\n",
       "      <td>...</td>\n",
       "    </tr>\n",
       "    <tr>\n",
       "      <th>145</th>\n",
       "      <td>Is Verizon a capital intensive business based ...</td>\n",
       "      <td>Yes. Verizon's capital intensity ratio was app...</td>\n",
       "      <td>Yes, Verizon is a capital-intensive business b...</td>\n",
       "    </tr>\n",
       "    <tr>\n",
       "      <th>146</th>\n",
       "      <td>Has Verizon increased its debt on balance shee...</td>\n",
       "      <td>No. Verizon's debt decreased by $229 million.</td>\n",
       "      <td>Based on the information provided in the 2022 ...</td>\n",
       "    </tr>\n",
       "    <tr>\n",
       "      <th>147</th>\n",
       "      <td>What is FY2018 days payable outstanding (DPO) ...</td>\n",
       "      <td>42.69</td>\n",
       "      <td>Based on the information provided in the Walma...</td>\n",
       "    </tr>\n",
       "    <tr>\n",
       "      <th>148</th>\n",
       "      <td>Based on the information provided primarily in...</td>\n",
       "      <td>0.2%</td>\n",
       "      <td>Based on the information provided in the state...</td>\n",
       "    </tr>\n",
       "    <tr>\n",
       "      <th>149</th>\n",
       "      <td>What is the FY2018 - FY2020 3 year average una...</td>\n",
       "      <td>6.2%</td>\n",
       "      <td>Based on the information provided in the Walma...</td>\n",
       "    </tr>\n",
       "  </tbody>\n",
       "</table>\n",
       "<p>150 rows × 3 columns</p>\n",
       "</div>"
      ],
      "text/plain": [
       "                                              Question  \\\n",
       "0    What is the FY2018 capital expenditure amount ...   \n",
       "1    Assume that you are a public equities analyst....   \n",
       "2    Is 3M a capital-intensive business based on FY...   \n",
       "3    What drove operating margin change as of FY202...   \n",
       "4    If we exclude the impact of M&A, which segment...   \n",
       "..                                                 ...   \n",
       "145  Is Verizon a capital intensive business based ...   \n",
       "146  Has Verizon increased its debt on balance shee...   \n",
       "147  What is FY2018 days payable outstanding (DPO) ...   \n",
       "148  Based on the information provided primarily in...   \n",
       "149  What is the FY2018 - FY2020 3 year average una...   \n",
       "\n",
       "                                       Refrence_Answer  \\\n",
       "0                                             $1577.00   \n",
       "1                                                $8.70   \n",
       "2    No, the company is managing its CAPEX and Fixe...   \n",
       "3    Operating Margin for 3M in FY2022 has decrease...   \n",
       "4     The consumer segment shrunk by 0.9% organically.   \n",
       "..                                                 ...   \n",
       "145  Yes. Verizon's capital intensity ratio was app...   \n",
       "146      No. Verizon's debt decreased by $229 million.   \n",
       "147                                              42.69   \n",
       "148                                               0.2%   \n",
       "149                                               6.2%   \n",
       "\n",
       "                                        Model_Response  \n",
       "0    Based on the information provided in the 2018 ...  \n",
       "1    Based on the information provided in the balan...  \n",
       "2    Based on the information provided in the 10-K ...  \n",
       "3    According to the 10-K filing for 3M, the opera...  \n",
       "4    According to 3M's 10-K filing for 2022, the se...  \n",
       "..                                                 ...  \n",
       "145  Yes, Verizon is a capital-intensive business b...  \n",
       "146  Based on the information provided in the 2022 ...  \n",
       "147  Based on the information provided in the Walma...  \n",
       "148  Based on the information provided in the state...  \n",
       "149  Based on the information provided in the Walma...  \n",
       "\n",
       "[150 rows x 3 columns]"
      ]
     },
     "execution_count": 10,
     "metadata": {},
     "output_type": "execute_result"
    }
   ],
   "source": [
    "df_10 = pd.read_csv('../Finetuning/10_labels.csv',  index_col=0)\n",
    "df_10"
   ]
  },
  {
   "cell_type": "code",
   "execution_count": 11,
   "id": "9caabc40-1a96-464a-a503-74cbb0d557f6",
   "metadata": {},
   "outputs": [],
   "source": [
    "tokens_answer = preprocess_text(df_10['Refrence_Answer'][0])\n",
    "tokens_syntheses = preprocess_text(df_10['Model_Response'][0])"
   ]
  },
  {
   "cell_type": "code",
   "execution_count": 12,
   "id": "c55eccd5-de73-40bf-80bd-47f163de7045",
   "metadata": {},
   "outputs": [
    {
     "data": {
      "text/plain": [
       "['$', '1577.00']"
      ]
     },
     "execution_count": 12,
     "metadata": {},
     "output_type": "execute_result"
    }
   ],
   "source": [
    "tokens_answer"
   ]
  },
  {
   "cell_type": "code",
   "execution_count": 13,
   "id": "92a4ec52-70f6-44e4-ade0-6d5de1405a18",
   "metadata": {},
   "outputs": [
    {
     "data": {
      "text/plain": [
       "['based',\n",
       " 'on',\n",
       " 'the',\n",
       " 'information',\n",
       " 'provided',\n",
       " 'in',\n",
       " 'the',\n",
       " '2018',\n",
       " '10-k',\n",
       " 'document',\n",
       " ',',\n",
       " 'the',\n",
       " 'fy2018',\n",
       " 'capital',\n",
       " 'expenditure',\n",
       " 'amount',\n",
       " 'for',\n",
       " '3m',\n",
       " 'is',\n",
       " '$',\n",
       " '1,577',\n",
       " 'million',\n",
       " '.',\n",
       " 'this',\n",
       " 'amount',\n",
       " 'can',\n",
       " 'be',\n",
       " 'found',\n",
       " 'on',\n",
       " 'the',\n",
       " 'consolidated',\n",
       " 'statement',\n",
       " 'of',\n",
       " 'cash',\n",
       " 'flows',\n",
       " 'under',\n",
       " 'the',\n",
       " '``',\n",
       " 'purchases',\n",
       " 'of',\n",
       " 'property',\n",
       " ',',\n",
       " 'plant',\n",
       " 'and',\n",
       " 'equipment',\n",
       " '(',\n",
       " 'pp',\n",
       " '&',\n",
       " 'e',\n",
       " ')',\n",
       " \"''\",\n",
       " 'section',\n",
       " '.']"
      ]
     },
     "execution_count": 13,
     "metadata": {},
     "output_type": "execute_result"
    }
   ],
   "source": [
    "tokens_syntheses"
   ]
  },
  {
   "cell_type": "code",
   "execution_count": 15,
   "id": "8b99c2d9-5e8c-42dc-823c-3a7e6ce32bc6",
   "metadata": {},
   "outputs": [],
   "source": [
    "num_labels = []\n",
    "total_average_rouge_l_scores = []\n",
    "total_average_cosine_similarity_scores = []\n",
    "\n",
    "count = 0 \n",
    "for csv_file in csv_files:\n",
    "    count += 10\n",
    "    num_labels.append(count)\n",
    "\n",
    "    df = pd.read_csv(csv_file)\n",
    "    rouge_l_scores = [] \n",
    "    cosine_similarity_scores = [] \n",
    "\n",
    "    for idx, row in df.iterrows():\n",
    "        answer = row['Refrence_Answer']\n",
    "        syntheses = row['Model_Response'] \n",
    "\n",
    "        compute_sim_score = compute_similarity_score(answer, syntheses)\n",
    "        cosine_similarity_scores.append(compute_sim_score)\n",
    "\n",
    "        rouge_l_score = compute_rouge_l(answer, syntheses)\n",
    "        rouge_l_scores.append(rouge_l_score)\n",
    "\n",
    "    total_average_cosine_similarity_score = sum(cosine_similarity_scores) / len(cosine_similarity_scores)\n",
    "    total_average_cosine_similarity_scores.append(total_average_cosine_similarity_score)\n",
    "\n",
    "    total_average_rouge_l_score = sum(rouge_l_scores) / len(rouge_l_scores)\n",
    "    total_average_rouge_l_scores.append(total_average_rouge_l_score)\n",
    "\n",
    "evaluation_summary_df = pd.DataFrame({\n",
    "    'NumLabels': num_labels,\n",
    "    'TotalAverageROUGE-L': total_average_rouge_l_scores,\n",
    "    'TotalAverageCosineSimilarity': total_average_cosine_similarity_scores\n",
    "})\n",
    "\n",
    "evaluation_summary_df.to_csv('evaluation_summary.csv', index=False)"
   ]
  },
  {
   "cell_type": "code",
   "execution_count": 16,
   "id": "60094d11-4f5c-40a5-ac1b-3e264a8b25ca",
   "metadata": {},
   "outputs": [],
   "source": [
    "import matplotlib.pyplot as plt\n",
    "import numpy as np\n",
    "from matplotlib import cm"
   ]
  },
  {
   "cell_type": "code",
   "execution_count": 17,
   "id": "0c8677f6-5e4b-4350-9f01-97c4f4cb06c1",
   "metadata": {},
   "outputs": [
    {
     "data": {
      "text/plain": [
       "Text(0.5, 1.0, ' After Fine-Tuning Cosine Similarity Score')"
      ]
     },
     "execution_count": 17,
     "metadata": {},
     "output_type": "execute_result"
    },
    {
     "data": {
      "image/png": "[encoded data removed]",
      "text/plain": [
       "<Figure size 1440x360 with 2 Axes>"
      ]
     },
     "metadata": {
      "needs_background": "light"
     },
     "output_type": "display_data"
    }
   ],
   "source": [
    "\n",
    "plt.figure(figsize=(20, 5))\n",
    "\n",
    "# Plot Accuracy\n",
    "plt.subplot(1, 3, 1)\n",
    "plt.plot(num_labels, total_average_rouge_l_scores, marker='o', linestyle='-', color='skyblue', linewidth=2)\n",
    "\n",
    "plt.xlabel('Number of Labels')\n",
    "plt.ylabel('Total Average ROUGE-L Score')\n",
    "plt.title(' After Fine-Tuning ROUGE-L Score Comparison')\n",
    "\n",
    "plt.subplot(1, 3, 2)\n",
    "plt.plot(num_labels, total_average_cosine_similarity_scores, marker='o', linestyle='-', color='skyblue', linewidth=2)\n",
    "plt.xlabel('Number of Labels')\n",
    "plt.ylabel('Total Average Cosine Similarity Score')\n",
    "plt.title(' After Fine-Tuning Cosine Similarity Score')"
   ]
  },
  {
   "cell_type": "code",
   "execution_count": null,
   "id": "a7ff3cd7-7639-4201-bab3-2c3b77565667",
   "metadata": {},
   "outputs": [],
   "source": []
  }
 ],
 "metadata": {
  "kernelspec": {
   "display_name": "base",
   "language": "python",
   "name": "python3"
  },
  "language_info": {
   "codemirror_mode": {
    "name": "ipython",
    "version": 3
   },
   "file_extension": ".py",
   "mimetype": "text/x-python",
   "name": "python",
   "nbconvert_exporter": "python",
   "pygments_lexer": "ipython3",
   "version": "3.8.5"
  },
  "vscode": {
   "interpreter": {
    "hash": "40d3a090f54c6569ab1632332b64b2c03c39dcf918b08424e98f38b5ae0af88f"
   }
  }
 },
 "nbformat": 4,
 "nbformat_minor": 5
}
