{
 "cells": [
  {
   "cell_type": "code",
   "execution_count": 1,
   "id": "3a087046-0b62-484f-b90f-3178a04448e2",
   "metadata": {},
   "outputs": [],
   "source": [
    "import pandas as pd\n",
    "import re"
   ]
  },
  {
   "cell_type": "code",
   "execution_count": 2,
   "id": "39262b19-166f-4ad8-94c5-6b24bfda4485",
   "metadata": {},
   "outputs": [],
   "source": [
    "finetuning_data = pd.read_csv(\"../finetuning_data/instruction_training_data.csv\")"
   ]
  },
  {
   "cell_type": "code",
   "execution_count": 3,
   "id": "cb5953e2-b9d4-4d39-942d-2b094394f553",
   "metadata": {},
   "outputs": [
    {
     "data": {
      "text/plain": [
       "'<s>[INST] <<SYS>>\\nYou are a financial chatbot trained to answer questions based on the information provided in 10-K documents. Your responses should be directly sourced from the content of these documents. When asked a question, ensure that your answer is explicitly supported by the text in the 10-K filing, and do not include any external information, interpretations, or assumptions not clearly stated in the document. If a question pertains to financial data or analysis that is not explicitly covered in the 10-K filing provided, respond by stating that the information is not available in the document. Your primary focus should be on accuracy, specificity, and adherence to the information in 10-K documents, particularly regarding financial statements, company performance, and market positions.\\n<</SYS>>\\n\\nWhat is the FY2018 capital expenditure amount (in USD millions) for 3M? Give a response to the question by relying on the details shown in the cash flow statement. Table of Contents \\n3M Company and Subsidiaries\\nConsolidated Statement of Cash Flow s\\nYears ended December 31\\n \\n(Millions)\\n    \\n2018\\n    \\n2017\\n    \\n2016\\n \\nCash Flows from Operating Activities\\n \\n \\n  \\n \\n  \\n \\n  \\nNet income including noncontrolling interest\\n \\n$\\n5,363  \\n$\\n4,869  \\n$\\n5,058  \\nAdjustments to reconcile net income including noncontrolling interest to net cash\\nprovided by operating activities\\n \\n \\n  \\n \\n  \\n \\n  \\nDepreciation and amortization\\n \\n \\n1,488  \\n \\n1,544  \\n \\n1,474  \\nCompany pension and postretirement contributions\\n \\n \\n(370) \\n \\n(967) \\n \\n(383) \\nCompany pension and postretirement expense\\n \\n \\n410  \\n \\n334  \\n \\n250  \\nStock-based compensation expense\\n \\n \\n302  \\n \\n324  \\n \\n298  \\nGain on sale of businesses\\n \\n \\n(545) \\n \\n(586) \\n \\n(111) \\nDeferred income taxes\\n \\n \\n(57) \\n \\n107  \\n \\n 7  \\nChanges in assets and liabilities\\n \\n \\n  \\n \\n  \\n \\n  \\nAccounts receivable\\n \\n \\n(305) \\n \\n(245) \\n \\n(313) \\nInventories\\n \\n \\n(509) \\n \\n(387) \\n \\n57  \\nAccounts payable\\n \\n \\n408  \\n \\n24  \\n \\n148  \\nAccrued income taxes (current and long-term)\\n \\n \\n134  \\n \\n967  \\n \\n101  \\nOther — net\\n \\n \\n120  \\n \\n256  \\n \\n76  \\nNet cash provided by (used in) operating activities\\n \\n \\n6,439  \\n \\n6,240  \\n \\n6,662  \\n \\n \\n \\n  \\n \\n  \\n \\n  \\nCash Flows from Investing Activities\\n \\n \\n  \\n \\n  \\n \\n  \\nPurchases of property, plant and equipment (PP&E)\\n \\n \\n(1,577) \\n \\n(1,373) \\n \\n(1,420) \\nProceeds from sale of PP&E and other assets\\n \\n \\n262  \\n \\n49  \\n \\n58  \\nAcquisitions, net of cash acquired\\n \\n \\n13  \\n \\n(2,023) \\n \\n(16) \\nPurchases of marketable securities and investments\\n \\n \\n(1,828) \\n \\n(2,152) \\n \\n(1,410) \\nProceeds from maturities and sale of marketable securities and investments\\n \\n \\n2,497  \\n \\n1,354  \\n \\n1,247  \\nProceeds from sale of businesses, net of cash sold\\n \\n \\n846  \\n \\n1,065  \\n \\n142  \\nOther — net\\n \\n \\n 9  \\n \\n(6) \\n \\n(4) \\nNet cash provided by (used in) investing activities\\n \\n \\n222  \\n \\n(3,086) \\n \\n(1,403) \\n \\n \\n \\n  \\n \\n  \\n \\n  \\nCash Flows from Financing Activities\\n \\n \\n  \\n \\n  \\n \\n  \\nChange in short-term debt — net\\n \\n \\n(284) \\n \\n578  \\n \\n(797) \\nRepayment of debt (maturities greater than 90 days)\\n \\n \\n(1,034) \\n \\n(962) \\n \\n(992) \\nProceeds from debt (maturities greater than 90 days)\\n \\n \\n2,251  \\n \\n1,987  \\n \\n2,832  \\nPurchases of treasury stock\\n \\n \\n(4,870) \\n \\n(2,068) \\n \\n(3,753) \\nProceeds from issuance of treasury stock pursuant to stock option and benefit plans\\n \\n \\n485  \\n \\n734  \\n \\n804  \\nDividends paid to shareholders\\n \\n \\n(3,193) \\n \\n(2,803) \\n \\n(2,678) \\nOther — net\\n \\n \\n(56) \\n \\n(121) \\n \\n(42) \\nNet cash provided by (used in) financing activities\\n \\n \\n(6,701) \\n \\n(2,655) \\n \\n(4,626) \\n \\n \\n \\n  \\n \\n  \\n \\n  \\nEffect of exchange rate changes on cash and cash equivalents\\n \\n \\n(160) \\n \\n156  \\n \\n(33) \\n \\n \\n \\n  \\n \\n  \\n \\n  \\nNet increase (decrease) in cash and cash equivalents\\n \\n \\n(200) \\n \\n655  \\n \\n600  \\nCash and cash equivalents at beginning of year\\n \\n \\n3,053  \\n \\n2,398  \\n \\n1,798  \\nCash and cash equivalents at end of period\\n \\n$\\n2,853  \\n$\\n3,053  \\n$\\n2,398  \\n \\nThe accompanying Notes to Consolidated Financial Statements are an integral part of this statement.\\n \\n60 [/INST] $1577.00 </s>'"
      ]
     },
     "execution_count": 3,
     "metadata": {},
     "output_type": "execute_result"
    }
   ],
   "source": [
    "\n",
    "# Define the reformat_text function\n",
    "def reformat_text(text):\n",
    "    system_prompt_pattern = r\"(.*?)### Instruction:\"\n",
    "    user_prompt_pattern = r\"### Instruction:(.*?)### Input:\"\n",
    "    input_pattern = r\"### Input:(.*?)### Response:\"\n",
    "    model_answer_pattern = r\"### Response: \\n(.*)\"\n",
    "\n",
    "    system_prompt = re.search(system_prompt_pattern, text, re.DOTALL).group(1).strip()\n",
    "    user_prompt = re.search(user_prompt_pattern, text, re.DOTALL).group(1).strip()\n",
    "    input_section = re.search(input_pattern, text, re.DOTALL).group(1).strip()\n",
    "    model_answer = re.search(model_answer_pattern, text, re.DOTALL).group(1).strip()\n",
    "\n",
    "    return f\"<s>[INST] <<SYS>>\\n{system_prompt}\\n<</SYS>>\\n\\n{user_prompt} {input_section} [/INST] {model_answer} </s>\"\n",
    "\n",
    "\n",
    "# Apply the function to the entire 'text' column\n",
    "finetuning_data['formatted_text'] = finetuning_data['text'].apply(reformat_text)\n",
    "\n",
    "# Display the DataFrame to verify the results\n",
    "finetuning_data['formatted_text'][0]\n"
   ]
  },
  {
   "cell_type": "code",
   "execution_count": 4,
   "id": "235f2f8a-b221-46d9-aabc-6a52de5d5b6e",
   "metadata": {},
   "outputs": [
    {
     "data": {
      "text/html": [
       "<div>\n",
       "<style scoped>\n",
       "    .dataframe tbody tr th:only-of-type {\n",
       "        vertical-align: middle;\n",
       "    }\n",
       "\n",
       "    .dataframe tbody tr th {\n",
       "        vertical-align: top;\n",
       "    }\n",
       "\n",
       "    .dataframe thead th {\n",
       "        text-align: right;\n",
       "    }\n",
       "</style>\n",
       "<table border=\"1\" class=\"dataframe\">\n",
       "  <thead>\n",
       "    <tr style=\"text-align: right;\">\n",
       "      <th></th>\n",
       "      <th>text</th>\n",
       "    </tr>\n",
       "  </thead>\n",
       "  <tbody>\n",
       "    <tr>\n",
       "      <th>0</th>\n",
       "      <td>&lt;s&gt;[INST] &lt;&lt;SYS&gt;&gt;\\nYou are a financial chatbot...</td>\n",
       "    </tr>\n",
       "    <tr>\n",
       "      <th>1</th>\n",
       "      <td>&lt;s&gt;[INST] &lt;&lt;SYS&gt;&gt;\\nYou are a financial chatbot...</td>\n",
       "    </tr>\n",
       "    <tr>\n",
       "      <th>2</th>\n",
       "      <td>&lt;s&gt;[INST] &lt;&lt;SYS&gt;&gt;\\nYou are a financial chatbot...</td>\n",
       "    </tr>\n",
       "    <tr>\n",
       "      <th>3</th>\n",
       "      <td>&lt;s&gt;[INST] &lt;&lt;SYS&gt;&gt;\\nYou are a financial chatbot...</td>\n",
       "    </tr>\n",
       "    <tr>\n",
       "      <th>4</th>\n",
       "      <td>&lt;s&gt;[INST] &lt;&lt;SYS&gt;&gt;\\nYou are a financial chatbot...</td>\n",
       "    </tr>\n",
       "    <tr>\n",
       "      <th>...</th>\n",
       "      <td>...</td>\n",
       "    </tr>\n",
       "    <tr>\n",
       "      <th>145</th>\n",
       "      <td>&lt;s&gt;[INST] &lt;&lt;SYS&gt;&gt;\\nYou are a financial chatbot...</td>\n",
       "    </tr>\n",
       "    <tr>\n",
       "      <th>146</th>\n",
       "      <td>&lt;s&gt;[INST] &lt;&lt;SYS&gt;&gt;\\nYou are a financial chatbot...</td>\n",
       "    </tr>\n",
       "    <tr>\n",
       "      <th>147</th>\n",
       "      <td>&lt;s&gt;[INST] &lt;&lt;SYS&gt;&gt;\\nYou are a financial chatbot...</td>\n",
       "    </tr>\n",
       "    <tr>\n",
       "      <th>148</th>\n",
       "      <td>&lt;s&gt;[INST] &lt;&lt;SYS&gt;&gt;\\nYou are a financial chatbot...</td>\n",
       "    </tr>\n",
       "    <tr>\n",
       "      <th>149</th>\n",
       "      <td>&lt;s&gt;[INST] &lt;&lt;SYS&gt;&gt;\\nYou are a financial chatbot...</td>\n",
       "    </tr>\n",
       "  </tbody>\n",
       "</table>\n",
       "<p>150 rows × 1 columns</p>\n",
       "</div>"
      ],
      "text/plain": [
       "                                                  text\n",
       "0    <s>[INST] <<SYS>>\\nYou are a financial chatbot...\n",
       "1    <s>[INST] <<SYS>>\\nYou are a financial chatbot...\n",
       "2    <s>[INST] <<SYS>>\\nYou are a financial chatbot...\n",
       "3    <s>[INST] <<SYS>>\\nYou are a financial chatbot...\n",
       "4    <s>[INST] <<SYS>>\\nYou are a financial chatbot...\n",
       "..                                                 ...\n",
       "145  <s>[INST] <<SYS>>\\nYou are a financial chatbot...\n",
       "146  <s>[INST] <<SYS>>\\nYou are a financial chatbot...\n",
       "147  <s>[INST] <<SYS>>\\nYou are a financial chatbot...\n",
       "148  <s>[INST] <<SYS>>\\nYou are a financial chatbot...\n",
       "149  <s>[INST] <<SYS>>\\nYou are a financial chatbot...\n",
       "\n",
       "[150 rows x 1 columns]"
      ]
     },
     "execution_count": 4,
     "metadata": {},
     "output_type": "execute_result"
    }
   ],
   "source": [
    "finetuning_data = finetuning_data[['formatted_text']]\n",
    "finetuning_data.rename(columns = {'formatted_text': 'text'}, inplace = True)\n",
    "finetuning_data"
   ]
  },
  {
   "cell_type": "code",
   "execution_count": 5,
   "id": "e270442d-4604-494c-8e67-4324c292c6e2",
   "metadata": {},
   "outputs": [],
   "source": [
    "finetuning_data.to_csv(\"../finetuning_data/llama_format_training_data.csv\", index = False)"
   ]
  },
  {
   "cell_type": "code",
   "execution_count": null,
   "id": "b27cae90-58bf-43bc-9f52-3625d7e570dc",
   "metadata": {},
   "outputs": [],
   "source": []
  }
 ],
 "metadata": {
  "kernelspec": {
   "display_name": "Anote",
   "language": "python",
   "name": "anote"
  },
  "language_info": {
   "codemirror_mode": {
    "name": "ipython",
    "version": 3
   },
   "file_extension": ".py",
   "mimetype": "text/x-python",
   "name": "python",
   "nbconvert_exporter": "python",
   "pygments_lexer": "ipython3",
   "version": "3.9.18"
  }
 },
 "nbformat": 4,
 "nbformat_minor": 5
}
