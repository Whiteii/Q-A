{
 "cells": [
  {
   "cell_type": "code",
   "execution_count": 29,
   "metadata": {},
   "outputs": [],
   "source": [
    "import gensim.downloader as api\n",
    "from sklearn.metrics.pairwise import cosine_similarity\n",
    "import numpy as np\n",
    "import pandas as pd\n",
    "\n"
   ]
  },
  {
   "cell_type": "code",
   "execution_count": 30,
   "metadata": {},
   "outputs": [],
   "source": [
    "# Load the pre-trained Word2Vec model\n",
    "model = api.load('word2vec-google-news-300')"
   ]
  },
  {
   "cell_type": "code",
   "execution_count": 31,
   "metadata": {},
   "outputs": [
    {
     "name": "stderr",
     "output_type": "stream",
     "text": [
      "[nltk_data] Downloading package punkt to\n",
      "[nltk_data]     C:\\Users\\liang\\AppData\\Roaming\\nltk_data...\n",
      "[nltk_data]   Package punkt is already up-to-date!\n"
     ]
    }
   ],
   "source": [
    "import nltk\n",
    "from nltk.tokenize import word_tokenize\n",
    "import math\n",
    "import numpy as np\n",
    "\n",
    "nltk.download('punkt')\n",
    "\n",
    "def cosine_similarity(vec1, vec2):\n",
    "    dot_product = np.dot(vec1, vec2)\n",
    "    magnitude1 = math.sqrt(np.sum(np.square(vec1)))\n",
    "    magnitude2 = math.sqrt(np.sum(np.square(vec2)))\n",
    "    \n",
    "    if magnitude1 == 0 or magnitude2 == 0:\n",
    "        return 0\n",
    "    \n",
    "    return dot_product / (magnitude1 * magnitude2)\n",
    "\n",
    "def text_to_vector(text, words):\n",
    "    words = set(words)\n",
    "    tokens = word_tokenize(text)\n",
    "    return np.array([tokens.count(word) for word in words])\n",
    "\n",
    "def get_cosine_similarity(text1, text2):\n",
    "    words = set(word_tokenize(text1) + word_tokenize(text2))\n",
    "    vector1 = text_to_vector(text1, words)\n",
    "    vector2 = text_to_vector(text2, words)\n",
    "    return cosine_similarity(vector1, vector2)\n",
    "\n",
    "\n"
   ]
  },
  {
   "cell_type": "markdown",
   "metadata": {},
   "source": [
    "# Tailored-made embedding for finance"
   ]
  },
  {
   "cell_type": "code",
   "execution_count": 32,
   "metadata": {},
   "outputs": [
    {
     "name": "stdout",
     "output_type": "stream",
     "text": [
      "0.17149858514250882\n"
     ]
    }
   ],
   "source": [
    "text1 = \"Based on the provided text, 3M's capital spending for 2018 was $1.577 billion.\"\n",
    "text2 = \"$1577.00\"\n",
    "\n",
    "similarity = get_cosine_similarity(text1, text2)\n",
    "print(similarity)\n"
   ]
  },
  {
   "cell_type": "code",
   "execution_count": 33,
   "metadata": {},
   "outputs": [
    {
     "name": "stdout",
     "output_type": "stream",
     "text": [
      "0.9999999999999998\n"
     ]
    }
   ],
   "source": [
    "similarity = get_cosine_similarity(text1 = \"$1577.00\", text2 = \"$1577.00\")\n",
    "print(similarity)\n"
   ]
  },
  {
   "cell_type": "code",
   "execution_count": 34,
   "metadata": {},
   "outputs": [],
   "source": [
    "syntheses_df = pd.read_csv('syntheses_df50.csv')"
   ]
  },
  {
   "cell_type": "code",
   "execution_count": 56,
   "metadata": {},
   "outputs": [],
   "source": [
    "df = pd.read_csv('train.csv')"
   ]
  },
  {
   "cell_type": "code",
   "execution_count": 48,
   "metadata": {},
   "outputs": [],
   "source": [
    "row_145_answer, row_145_syntheses = syntheses_df['answer'].iloc[130], syntheses_df['syntheses'].iloc[130]"
   ]
  },
  {
   "cell_type": "code",
   "execution_count": 60,
   "metadata": {},
   "outputs": [
    {
     "name": "stdout",
     "output_type": "stream",
     "text": [
      "Question: Did Pfizer grow its PPNE between FY20 and FY21?\n",
      "Synthesis for Row 145: Yes, Pfizer more than doubled its PPNE during FY21, by $1,137 million.\n",
      "Answer for Row 145: Yes, change in PPNE was positive year over year\n"
     ]
    }
   ],
   "source": [
    "print(f\"Question: {df['question'].iloc[130]}\")\n",
    "print(f\"Synthesis for Row 145: {row_145_syntheses}\")\n",
    "print(f\"Answer for Row 145: {row_145_answer}\")\n"
   ]
  },
  {
   "cell_type": "code",
   "execution_count": 61,
   "metadata": {},
   "outputs": [
    {
     "name": "stdout",
     "output_type": "stream",
     "text": [
      "0.2721655269759087\n"
     ]
    }
   ],
   "source": [
    "similarity = get_cosine_similarity(text1 = row_145_answer, text2 = row_145_syntheses)\n",
    "print(similarity)\n"
   ]
  }
 ],
 "metadata": {
  "kernelspec": {
   "display_name": "Anote_AI",
   "language": "python",
   "name": "python3"
  },
  "language_info": {
   "codemirror_mode": {
    "name": "ipython",
    "version": 3
   },
   "file_extension": ".py",
   "mimetype": "text/x-python",
   "name": "python",
   "nbconvert_exporter": "python",
   "pygments_lexer": "ipython3",
   "version": "3.10.13"
  }
 },
 "nbformat": 4,
 "nbformat_minor": 2
}
