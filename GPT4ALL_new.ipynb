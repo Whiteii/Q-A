{
 "cells": [
  {
   "cell_type": "code",
   "execution_count": null,
   "metadata": {},
   "outputs": [],
   "source": [
    "\n",
    "from gpt4all import GPT4All\n",
    "import pandas as pd\n",
    "import requests\n",
    "import json\n",
    "import os\n",
    "from datasets import load_dataset"
   ]
  },
  {
   "cell_type": "code",
   "execution_count": null,
   "metadata": {},
   "outputs": [],
   "source": [
    "model = GPT4All(\"orca-mini-3b-gguf2-q4_0.gguf\")\n"
   ]
  },
  {
   "cell_type": "code",
   "execution_count": null,
   "metadata": {},
   "outputs": [],
   "source": [
    "dataset = load_dataset(\"PatronusAI/financebench\")\n"
   ]
  },
  {
   "cell_type": "code",
   "execution_count": null,
   "metadata": {},
   "outputs": [],
   "source": [
    "df = pd.DataFrame(dataset['train'])\n",
    "df.head()"
   ]
  },
  {
   "cell_type": "code",
   "execution_count": null,
   "metadata": {},
   "outputs": [],
   "source": [
    "examples = [ f\"<answer> {row['answer']} </answer>\" for idx, row in df.iloc[:50].iterrows() ]\n",
    "examples"
   ]
  },
  {
   "cell_type": "code",
   "execution_count": 7,
   "metadata": {},
   "outputs": [
    {
     "name": "stderr",
     "output_type": "stream",
     "text": [
      "Exception ignored on calling ctypes callback function: <function LLModel._callback_decoder.<locals>._raw_callback at 0x7f98b0e82790>\n",
      "Traceback (most recent call last):\n",
      "  File \"/Users/katherinejijo/GPT4ALL/venvts24/lib/python3.9/site-packages/gpt4all/pyllmodel.py\", line 438, in _raw_callback\n",
      "    def _raw_callback(token_id: int, response: bytes) -> bool:\n",
      "KeyboardInterrupt: \n"
     ]
    }
   ],
   "source": [
    "# Placeholder prompts\n",
    "HUMAN_PROMPT = \"Hello! I'm seeking information about financial reports for a research project.\"\n",
    "AI_PROMPT = \" Please respond with concise, factual information based on the provided context and examples.\"\n",
    "\n",
    "# List to store synthesized responses\n",
    "syntheses_with_10_labels = []\n",
    "\n",
    "# Loop through the DataFrame rows\n",
    "for idx, row in df.iterrows():\n",
    "    question = row['question']\n",
    "    evidence_text = row['evidence_text']\n",
    "\n",
    "    # Define structured conversation template\n",
    "    system_template = f\"You are an accurate chatbot specialized in responding to queries about 10-K documents. Please only respond in the manner demonstrated by the following examples. If an explanation wasn't asked, refrain from providing one. \"\n",
    "    f\"Based on the following examples: {examples[:10]}, please provide your answer in the same format. \"\n",
    "    f\"please address the question: {question}. \"\n",
    "    f\"Consider the provided text as evidence: {evidence_text}. \"\n",
    "    \n",
    "    prompt_template = (\n",
    "        f\"USER: {question}\\n\"\n",
    "        f\"ASSISTANT: \"\n",
    "    )\n",
    "    \n",
    "    #initiate chat \n",
    "    with model.chat_session(system_template, prompt_template):\n",
    "        response = model.generate(prompt=AI_PROMPT, temp=0.7)\n",
    "        print(response)\n",
    "        syntheses_with_10_labels.append(response)\n"
   ]
  },
  {
   "cell_type": "code",
   "execution_count": null,
   "metadata": {},
   "outputs": [],
   "source": [
    "pd.DataFrame({'question': df['question'], 'answer' : df['answer'], 'evidence_text' : df['evidence_text'], 'syntheses' : syntheses_with_10_labels}).to_csv('syntheses_10.csv',index=False)\n"
   ]
  },
  {
   "cell_type": "code",
   "execution_count": null,
   "metadata": {},
   "outputs": [],
   "source": [
    "# Placeholder prompts\n",
    "HUMAN_PROMPT = \"Hello! I'm seeking information about financial reports for a research project.\"\n",
    "AI_PROMPT = \" Please respond with concise, factual information based on the provided context and examples.\"\n",
    "\n",
    "# List to store synthesized responses\n",
    "syntheses_with_20_labels = []\n",
    "\n",
    "# Loop through the DataFrame rows\n",
    "for idx, row in df.iterrows():\n",
    "    question = row['question']\n",
    "    evidence_text = row['evidence_text']\n",
    "\n",
    "    # Define structured conversation template\n",
    "    system_template = f\"You are an accurate chatbot specialized in responding to queries about 10-K documents. Please only respond in the manner demonstrated by the following examples. If an explanation wasn't asked, refrain from providing one. \"\n",
    "    f\"Based on the following examples: {examples[:20]}, please provide your answer in the same format. \"\n",
    "    f\"please address the question: {question}. \"\n",
    "    f\"Consider the provided text as evidence: {evidence_text}. \"\n",
    "    \n",
    "    prompt_template = (\n",
    "        f\"USER: {question}\\n\"\n",
    "        f\"ASSISTANT: \"\n",
    "    )\n",
    "    \n",
    "    #initiate chat \n",
    "    with model.chat_session(system_template, prompt_template):\n",
    "        response = model.generate(prompt=AI_PROMPT, temp=0.7)\n",
    "        print(response)\n",
    "        syntheses_with_20_labels.append(response)"
   ]
  },
  {
   "cell_type": "code",
   "execution_count": null,
   "metadata": {},
   "outputs": [],
   "source": [
    "pd.DataFrame({'question': df['question'], 'answer' : df['answer'], 'evidence_text' : df['evidence_text'], 'syntheses' : syntheses_with_20_labels}).to_csv('syntheses_20.csv',index=False)\n"
   ]
  },
  {
   "cell_type": "code",
   "execution_count": null,
   "metadata": {},
   "outputs": [],
   "source": [
    "# Placeholder prompts\n",
    "HUMAN_PROMPT = \"Hello! I'm seeking information about financial reports for a research project.\"\n",
    "AI_PROMPT = \" Please respond with concise, factual information based on the provided context and examples.\"\n",
    "\n",
    "syntheses_with_labels = []\n",
    "\n",
    "for i in range(3, 6): \n",
    "    syntheses = []\n",
    "\n",
    "    for idx, row in df.iterrows():\n",
    "        question = row['question']\n",
    "        evidence_text = row['evidence_text']\n",
    "        \n",
    "\n",
    "        # Define structured conversation template\n",
    "        system_template = f\"You are an accurate chatbot specialized in responding to queries about 10-K documents. Please only respond in the manner demonstrated by the following examples. If an explanation wasn't asked, refrain from providing one. \"\n",
    "        f\"Based on the following examples: {examples[:i*10]}, please provide your answer in the same format. \"\n",
    "        f\"please address the question: {question}. \"\n",
    "        f\"Consider the provided text as evidence: {evidence_text}. \"\n",
    "        \n",
    "    prompt_template = (\n",
    "        f\"USER: {question}\\n\"\n",
    "        f\"ASSISTANT: \"\n",
    "    )\n",
    "    \n",
    "   #initiate chat \n",
    "    with model.chat_session(system_template, prompt_template):\n",
    "        response = model.generate(prompt=AI_PROMPT, temp=0.7)\n",
    "        print(response)\n",
    "        syntheses.append(response)\n",
    "\n",
    "    syntheses_with_labels.append(syntheses)  # Append all completions for the current i to syntheses_with_labels\n"
   ]
  },
  {
   "cell_type": "code",
   "execution_count": null,
   "metadata": {},
   "outputs": [],
   "source": [
    "pd.DataFrame({'question': df['question'], 'answer' : df['answer'], 'evidence_text' : df['evidence_text'], 'syntheses' : syntheses_with_labels[0]}).to_csv('syntheses_30.csv',index=False)\n"
   ]
  },
  {
   "cell_type": "code",
   "execution_count": null,
   "metadata": {},
   "outputs": [],
   "source": [
    "pd.DataFrame({'question': df['question'], 'answer' : df['answer'], 'evidence_text' : df['evidence_text'], 'syntheses' : syntheses_with_labels[1]}).to_csv('syntheses_40.csv',index=False)\n"
   ]
  },
  {
   "cell_type": "code",
   "execution_count": null,
   "metadata": {},
   "outputs": [],
   "source": [
    "pd.DataFrame({'question': df['question'], 'answer' : df['answer'], 'evidence_text' : df['evidence_text'], 'syntheses' : syntheses_with_labels[2]}).to_csv('syntheses_50.csv',index=False)"
   ]
  }
 ],
 "metadata": {
  "kernelspec": {
   "display_name": "venvts24",
   "language": "python",
   "name": "python3"
  },
  "language_info": {
   "codemirror_mode": {
    "name": "ipython",
    "version": 3
   },
   "file_extension": ".py",
   "mimetype": "text/x-python",
   "name": "python",
   "nbconvert_exporter": "python",
   "pygments_lexer": "ipython3",
   "version": "3.9.2 (v3.9.2:1a79785e3e, Feb 19 2021, 09:06:10) \n[Clang 6.0 (clang-600.0.57)]"
  },
  "orig_nbformat": 4,
  "vscode": {
   "interpreter": {
    "hash": "d1201459aa829b695ecced9924b40765fb34914f6180d8b95593497ebccc44d6"
   }
  }
 },
 "nbformat": 4,
 "nbformat_minor": 2
}
